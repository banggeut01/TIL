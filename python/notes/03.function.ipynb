{
 "cells": [
  {
   "cell_type": "markdown",
   "metadata": {},
   "source": [
    "# 함수(function)"
   ]
  },
  {
   "cell_type": "markdown",
   "metadata": {},
   "source": [
    "<center>\n",
    "    <img src=\"./images/03/func.png\", alt=\"func.png\">\n",
    "</center>"
   ]
  },
  {
   "cell_type": "markdown",
   "metadata": {},
   "source": [
    "## 들어가기전에\n",
    "\n",
    "> 직사각형의 둘레와 면적을 구하는 코드를 작성해주세요.\n",
    "\n",
    "```python\n",
    "height = 30\n",
    "width = 20\n",
    "```\n",
    "\n",
    "---\n",
    "```\n",
    "예시 출력)\n",
    "직사각형 둘레: 100, 면적: 600입니다.\n",
    "```"
   ]
  },
  {
   "cell_type": "code",
   "execution_count": 3,
   "metadata": {},
   "outputs": [
    {
     "name": "stdout",
     "output_type": "stream",
     "text": [
      "직사각형 둘레: 100, 면적: 600입니다.\n"
     ]
    }
   ],
   "source": [
    "height = 30\n",
    "width = 20\n",
    "# 아래에 코드를 작성하세요.\n",
    "area = height * width\n",
    "perimeter = 2 * (height + width)\n",
    "print(f'직사각형 둘레: {perimeter}, 면적: {area}입니다.')"
   ]
  },
  {
   "cell_type": "markdown",
   "metadata": {},
   "source": [
    "* 앞서 작성한 코드에서 매번 사각형의 둘레와 면적을 구하기 위해서는 변수에 값을 바꾸거나 코드를 복사 붙여넣기 해야합니다.\n",
    "* 코드가 많아질수록 문제가 발생할 확률이 높아지며, 유지 보수하기도 힘들어진다."
   ]
  },
  {
   "cell_type": "markdown",
   "metadata": {},
   "source": [
    "<center>\n",
    "    <img src=\"./images/03/emc2.png\", alt=\"programming principle\">\n",
    "</center>"
   ]
  },
  {
   "cell_type": "markdown",
   "metadata": {},
   "source": [
    "<center>\n",
    "    <img src=\"./images/03/principle.png\", alt=\"programming principle\">\n",
    "</center>"
   ]
  },
  {
   "cell_type": "markdown",
   "metadata": {},
   "source": [
    "## 함수의 선언과 호출\n",
    "\n",
    "```python\n",
    "def func(parameter1, parameter2):\n",
    "    code line1\n",
    "    code line2\n",
    "    return value\n",
    "```\n",
    "\n",
    "* 함수 선언은 `def`로 시작하여 `:`으로 끝나고, 다음은 `4spaces 들여쓰기`로 코드 블록을 만듭니다.\n",
    "\n",
    "* 함수는 `매개변수(parameter)`를 넘겨줄 수도 있습니다.\n",
    "\n",
    "* 함수는 동작후에 `return`을 통해 결과값을 전달 할 수도 있습니다. (`return` 값이 없으면, None을 반환합니다.)\n",
    "\n",
    "* 함수는 호출을 `func(val1, val2)`와 같이 합니다.\n",
    "\n"
   ]
  },
  {
   "cell_type": "code",
   "execution_count": 21,
   "metadata": {},
   "outputs": [],
   "source": [
    "# 위의 사각형 면적을 반환 코드를 함수로 아래에 작성해보세요\n",
    "def ractangle(height, width):\n",
    "    area = height * width\n",
    "    perimeter = 2 * (height + width)\n",
    "    return f'직사각형 둘레: {perimeter}, 면적: {area}입니다.'"
   ]
  },
  {
   "cell_type": "code",
   "execution_count": 22,
   "metadata": {},
   "outputs": [
    {
     "data": {
      "text/plain": [
       "'직사각형 둘레: 100, 면적: 600입니다.'"
      ]
     },
     "execution_count": 22,
     "metadata": {},
     "output_type": "execute_result"
    }
   ],
   "source": [
    "ractangle(30, 20) # out과 print 차이점"
   ]
  },
  {
   "cell_type": "code",
   "execution_count": 23,
   "metadata": {},
   "outputs": [
    {
     "name": "stdout",
     "output_type": "stream",
     "text": [
      "직사각형 둘레: 400, 면적: 10000입니다.\n"
     ]
    }
   ],
   "source": [
    "print(ractangle(100, 100))"
   ]
  },
  {
   "cell_type": "markdown",
   "metadata": {},
   "source": [
    "<center>\n",
    "    <img src=\"./images/03/func_des.png\", alt=\"function descrpition\">\n",
    "</center>"
   ]
  },
  {
   "cell_type": "markdown",
   "metadata": {},
   "source": [
    "<center>\n",
    "    <img src=\"./images/03/function_ex.png\", alt=\"function_example\">\n",
    "</center>"
   ]
  },
  {
   "cell_type": "code",
   "execution_count": 24,
   "metadata": {},
   "outputs": [
    {
     "name": "stdout",
     "output_type": "stream",
     "text": [
      "hi\n"
     ]
    }
   ],
   "source": [
    "# 우리가 활용하는 print문도 파이썬에 지정된 함수입니다. \n",
    "# 아래에서 'hi'는 parameter이고 출력을 하게 됩니다.\n",
    "print('hi')"
   ]
  },
  {
   "cell_type": "markdown",
   "metadata": {},
   "source": [
    "<center>\n",
    "    <img src=\"./images/03/built_in.png\", alt=\"built_in\">\n",
    "</center>\n",
    "\n",
    "[출처: python 공식문서](https://docs.python.org/3/library/functions.html)"
   ]
  },
  {
   "cell_type": "code",
   "execution_count": 29,
   "metadata": {},
   "outputs": [
    {
     "data": {
      "text/plain": [
       "['ArithmeticError',\n",
       " 'AssertionError',\n",
       " 'AttributeError',\n",
       " 'BaseException',\n",
       " 'BlockingIOError',\n",
       " 'BrokenPipeError',\n",
       " 'BufferError',\n",
       " 'BytesWarning',\n",
       " 'ChildProcessError',\n",
       " 'ConnectionAbortedError',\n",
       " 'ConnectionError',\n",
       " 'ConnectionRefusedError',\n",
       " 'ConnectionResetError',\n",
       " 'DeprecationWarning',\n",
       " 'EOFError',\n",
       " 'Ellipsis',\n",
       " 'EnvironmentError',\n",
       " 'Exception',\n",
       " 'False',\n",
       " 'FileExistsError',\n",
       " 'FileNotFoundError',\n",
       " 'FloatingPointError',\n",
       " 'FutureWarning',\n",
       " 'GeneratorExit',\n",
       " 'IOError',\n",
       " 'ImportError',\n",
       " 'ImportWarning',\n",
       " 'IndentationError',\n",
       " 'IndexError',\n",
       " 'InterruptedError',\n",
       " 'IsADirectoryError',\n",
       " 'KeyError',\n",
       " 'KeyboardInterrupt',\n",
       " 'LookupError',\n",
       " 'MemoryError',\n",
       " 'ModuleNotFoundError',\n",
       " 'NameError',\n",
       " 'None',\n",
       " 'NotADirectoryError',\n",
       " 'NotImplemented',\n",
       " 'NotImplementedError',\n",
       " 'OSError',\n",
       " 'OverflowError',\n",
       " 'PendingDeprecationWarning',\n",
       " 'PermissionError',\n",
       " 'ProcessLookupError',\n",
       " 'RecursionError',\n",
       " 'ReferenceError',\n",
       " 'ResourceWarning',\n",
       " 'RuntimeError',\n",
       " 'RuntimeWarning',\n",
       " 'StopAsyncIteration',\n",
       " 'StopIteration',\n",
       " 'SyntaxError',\n",
       " 'SyntaxWarning',\n",
       " 'SystemError',\n",
       " 'SystemExit',\n",
       " 'TabError',\n",
       " 'TimeoutError',\n",
       " 'True',\n",
       " 'TypeError',\n",
       " 'UnboundLocalError',\n",
       " 'UnicodeDecodeError',\n",
       " 'UnicodeEncodeError',\n",
       " 'UnicodeError',\n",
       " 'UnicodeTranslateError',\n",
       " 'UnicodeWarning',\n",
       " 'UserWarning',\n",
       " 'ValueError',\n",
       " 'Warning',\n",
       " 'WindowsError',\n",
       " 'ZeroDivisionError',\n",
       " '__IPYTHON__',\n",
       " '__build_class__',\n",
       " '__debug__',\n",
       " '__doc__',\n",
       " '__import__',\n",
       " '__loader__',\n",
       " '__name__',\n",
       " '__package__',\n",
       " '__spec__',\n",
       " 'abs',\n",
       " 'all',\n",
       " 'any',\n",
       " 'ascii',\n",
       " 'bin',\n",
       " 'bool',\n",
       " 'breakpoint',\n",
       " 'bytearray',\n",
       " 'bytes',\n",
       " 'callable',\n",
       " 'chr',\n",
       " 'classmethod',\n",
       " 'compile',\n",
       " 'complex',\n",
       " 'copyright',\n",
       " 'credits',\n",
       " 'delattr',\n",
       " 'dict',\n",
       " 'dir',\n",
       " 'display',\n",
       " 'divmod',\n",
       " 'enumerate',\n",
       " 'eval',\n",
       " 'exec',\n",
       " 'filter',\n",
       " 'float',\n",
       " 'format',\n",
       " 'frozenset',\n",
       " 'get_ipython',\n",
       " 'getattr',\n",
       " 'globals',\n",
       " 'hasattr',\n",
       " 'hash',\n",
       " 'help',\n",
       " 'hex',\n",
       " 'id',\n",
       " 'input',\n",
       " 'int',\n",
       " 'isinstance',\n",
       " 'issubclass',\n",
       " 'iter',\n",
       " 'len',\n",
       " 'license',\n",
       " 'list',\n",
       " 'locals',\n",
       " 'map',\n",
       " 'max',\n",
       " 'memoryview',\n",
       " 'min',\n",
       " 'next',\n",
       " 'object',\n",
       " 'oct',\n",
       " 'open',\n",
       " 'ord',\n",
       " 'pow',\n",
       " 'print',\n",
       " 'property',\n",
       " 'range',\n",
       " 'repr',\n",
       " 'reversed',\n",
       " 'round',\n",
       " 'set',\n",
       " 'setattr',\n",
       " 'slice',\n",
       " 'sorted',\n",
       " 'staticmethod',\n",
       " 'str',\n",
       " 'sum',\n",
       " 'super',\n",
       " 'tuple',\n",
       " 'type',\n",
       " 'vars',\n",
       " 'zip']"
      ]
     },
     "execution_count": 29,
     "metadata": {},
     "output_type": "execute_result"
    }
   ],
   "source": [
    "# 내장함수 목록을 직접 볼 수도 있습니다.\n",
    "dir(__builtins__) # dir을 내가 __이것__으로 할 수 있는 모든 것을 보여줌. __이것__은 파이썬에서 만들어놓은 매소드(매직매소드)"
   ]
  },
  {
   "cell_type": "code",
   "execution_count": 30,
   "metadata": {},
   "outputs": [
    {
     "data": {
      "text/plain": [
       "['__abs__',\n",
       " '__add__',\n",
       " '__and__',\n",
       " '__bool__',\n",
       " '__ceil__',\n",
       " '__class__',\n",
       " '__delattr__',\n",
       " '__dir__',\n",
       " '__divmod__',\n",
       " '__doc__',\n",
       " '__eq__',\n",
       " '__float__',\n",
       " '__floor__',\n",
       " '__floordiv__',\n",
       " '__format__',\n",
       " '__ge__',\n",
       " '__getattribute__',\n",
       " '__getnewargs__',\n",
       " '__gt__',\n",
       " '__hash__',\n",
       " '__index__',\n",
       " '__init__',\n",
       " '__init_subclass__',\n",
       " '__int__',\n",
       " '__invert__',\n",
       " '__le__',\n",
       " '__lshift__',\n",
       " '__lt__',\n",
       " '__mod__',\n",
       " '__mul__',\n",
       " '__ne__',\n",
       " '__neg__',\n",
       " '__new__',\n",
       " '__or__',\n",
       " '__pos__',\n",
       " '__pow__',\n",
       " '__radd__',\n",
       " '__rand__',\n",
       " '__rdivmod__',\n",
       " '__reduce__',\n",
       " '__reduce_ex__',\n",
       " '__repr__',\n",
       " '__rfloordiv__',\n",
       " '__rlshift__',\n",
       " '__rmod__',\n",
       " '__rmul__',\n",
       " '__ror__',\n",
       " '__round__',\n",
       " '__rpow__',\n",
       " '__rrshift__',\n",
       " '__rshift__',\n",
       " '__rsub__',\n",
       " '__rtruediv__',\n",
       " '__rxor__',\n",
       " '__setattr__',\n",
       " '__sizeof__',\n",
       " '__str__',\n",
       " '__sub__',\n",
       " '__subclasshook__',\n",
       " '__truediv__',\n",
       " '__trunc__',\n",
       " '__xor__',\n",
       " 'bit_length',\n",
       " 'conjugate',\n",
       " 'denominator',\n",
       " 'from_bytes',\n",
       " 'imag',\n",
       " 'numerator',\n",
       " 'real',\n",
       " 'to_bytes']"
      ]
     },
     "execution_count": 30,
     "metadata": {},
     "output_type": "execute_result"
    }
   ],
   "source": [
    "dir(1) "
   ]
  },
  {
   "cell_type": "markdown",
   "metadata": {},
   "source": [
    "## 함수를 만들어봅시다.\n",
    "\n",
    "> 아래의 코드와 동일한 `my_max`함수를 만들어주세요.\n",
    ">\n",
    "> 정수를 두개 받아서, 큰 값을 출력합니다. \n",
    "\n",
    "```python\n",
    "max(1, 5)\n",
    "```\n",
    "---\n",
    "```\n",
    "예상 출력)\n",
    "5가 더 큽니다\n",
    "```\n"
   ]
  },
  {
   "cell_type": "code",
   "execution_count": 31,
   "metadata": {},
   "outputs": [
    {
     "data": {
      "text/plain": [
       "5"
      ]
     },
     "execution_count": 31,
     "metadata": {},
     "output_type": "execute_result"
    }
   ],
   "source": [
    "# max(1, 5)를 호출 해봅시다.\n",
    "max(1, 5)"
   ]
  },
  {
   "cell_type": "code",
   "execution_count": 39,
   "metadata": {},
   "outputs": [],
   "source": [
    "# 여기에 my_max 함수를 만들어주세요.\n",
    "def my_max(num1, num2):\n",
    "    if num1 > num2:\n",
    "        print(f'{num1}이 더 큽니다.')\n",
    "    elif num1 < num2:\n",
    "        print(f'{num2}이 더 큽니다.')\n",
    "    else:\n",
    "        print(f'같습니다.')"
   ]
  },
  {
   "cell_type": "code",
   "execution_count": 42,
   "metadata": {},
   "outputs": [
    {
     "name": "stdout",
     "output_type": "stream",
     "text": [
      "11이 더 큽니다.\n"
     ]
    }
   ],
   "source": [
    "# 그리고 호출 해봅시다.\n",
    "my_max(10, 11)"
   ]
  },
  {
   "cell_type": "code",
   "execution_count": 44,
   "metadata": {},
   "outputs": [],
   "source": [
    "def my_max2(num1, num2):\n",
    "    return num1 if num1 > num2 else num2"
   ]
  },
  {
   "cell_type": "code",
   "execution_count": 45,
   "metadata": {},
   "outputs": [
    {
     "data": {
      "text/plain": [
       "2000"
      ]
     },
     "execution_count": 45,
     "metadata": {},
     "output_type": "execute_result"
    }
   ],
   "source": [
    "my_max2(1000, 2000)"
   ]
  },
  {
   "cell_type": "markdown",
   "metadata": {},
   "source": [
    "# 함수의 return\n",
    "\n",
    "앞서 설명한 것과 마찬가지로 함수는 반환되는 값이 있으며, 이는 어떠한 종류의 객체여도 상관없습니다. \n",
    " \n",
    "단, 오직 한 개의 객체만 반환됩니다. **!시험!**\n",
    "\n",
    "함수가 return 되거나 종료되면, 함수를 호출한 곳으로 돌아갑니다."
   ]
  },
  {
   "cell_type": "code",
   "execution_count": 56,
   "metadata": {},
   "outputs": [],
   "source": [
    "def my_func(a, b):\n",
    "    return a, b"
   ]
  },
  {
   "cell_type": "code",
   "execution_count": 59,
   "metadata": {},
   "outputs": [
    {
     "data": {
      "text/plain": [
       "(1, '2')"
      ]
     },
     "execution_count": 59,
     "metadata": {},
     "output_type": "execute_result"
    }
   ],
   "source": [
    "my_func(1, '2') # 숫자와 문자 두 개를 반환하는 것처럼 보이지만, 실제로는 tuple이다. 즉 한개!"
   ]
  },
  {
   "cell_type": "code",
   "execution_count": 60,
   "metadata": {},
   "outputs": [
    {
     "data": {
      "text/plain": [
       "tuple"
      ]
     },
     "execution_count": 60,
     "metadata": {},
     "output_type": "execute_result"
    }
   ],
   "source": [
    "type(my_func(1, '2'))"
   ]
  },
  {
   "cell_type": "markdown",
   "metadata": {},
   "source": [
    "## 함수를 정의하고 값을 반환해봅시다.\n",
    "\n",
    "> 함수는 모든 객체를 리턴할 수 있습니다. \n",
    "> \n",
    "> 리스트 두개를 받아 각각 더한 결과를 비교하여 값이 큰 리스트를 반환합니다.\n",
    "\n",
    "```python\n",
    "my_list_max([10, 3], [5, 9])\n",
    "```\n",
    "---\n",
    "```\n",
    "예상 출력)\n",
    "[5, 9]\n",
    "```\n"
   ]
  },
  {
   "cell_type": "code",
   "execution_count": 67,
   "metadata": {},
   "outputs": [],
   "source": [
    "# 여기에 my_list_max 함수를 만들어주세요.\n",
    "def my_list_max(list1, list2):\n",
    "#     if sum(list1) > sum(list2): # 한 번 쓰이는 변수는 쓰지 않는게 좋다. 처음엔 그냥 짜고 나중에 수정.\n",
    "#         return list1\n",
    "#     else:\n",
    "#         return list2\n",
    "    return list1 if sum(list1) > sum(list2) else list2"
   ]
  },
  {
   "cell_type": "code",
   "execution_count": 68,
   "metadata": {},
   "outputs": [
    {
     "name": "stdout",
     "output_type": "stream",
     "text": [
      "[5, 9]\n"
     ]
    }
   ],
   "source": [
    "print(my_list_max([10, 3], [5, 9]))"
   ]
  },
  {
   "cell_type": "markdown",
   "metadata": {},
   "source": [
    "# 함수의 인수\n",
    "\n",
    "함수는 `인자(parameter)`를 넘겨줄 수 있습니다.\n",
    "\n",
    "`인수(argument)` : 함수 호출시\n",
    "\n",
    "`인자(parameter)` : 또는, 매개변수라고 함. 함수 정의시"
   ]
  },
  {
   "cell_type": "code",
   "execution_count": 70,
   "metadata": {},
   "outputs": [],
   "source": [
    "def func(a, b): # a, b는 인자\n",
    "    return a"
   ]
  },
  {
   "cell_type": "code",
   "execution_count": 71,
   "metadata": {},
   "outputs": [
    {
     "data": {
      "text/plain": [
       "1"
      ]
     },
     "execution_count": 71,
     "metadata": {},
     "output_type": "execute_result"
    }
   ],
   "source": [
    "func(1, 2) # 1, 2는 인수"
   ]
  },
  {
   "cell_type": "markdown",
   "metadata": {},
   "source": [
    "## 위치 인수\n",
    "\n",
    "함수는 기본적으로 인수를 위치로 판단합니다."
   ]
  },
  {
   "cell_type": "code",
   "execution_count": 76,
   "metadata": {},
   "outputs": [],
   "source": [
    "# 알고 있는 수학 공식의 함수를 하나만 만들어보세요.\n",
    "def my_sub(a, b):\n",
    "    # a, b = 1, 3\n",
    "    return a - b"
   ]
  },
  {
   "cell_type": "code",
   "execution_count": 77,
   "metadata": {},
   "outputs": [
    {
     "data": {
      "text/plain": [
       "-2"
      ]
     },
     "execution_count": 77,
     "metadata": {},
     "output_type": "execute_result"
    }
   ],
   "source": [
    "my_sub(1, 3)"
   ]
  },
  {
   "cell_type": "code",
   "execution_count": 78,
   "metadata": {},
   "outputs": [
    {
     "data": {
      "text/plain": [
       "2"
      ]
     },
     "execution_count": 78,
     "metadata": {},
     "output_type": "execute_result"
    }
   ],
   "source": [
    "my_sub(3, 1)"
   ]
  },
  {
   "cell_type": "code",
   "execution_count": 86,
   "metadata": {
    "scrolled": true
   },
   "outputs": [
    {
     "ename": "TypeError",
     "evalue": "my_sub() missing 2 required positional arguments: 'a' and 'b'",
     "output_type": "error",
     "traceback": [
      "\u001b[1;31m---------------------------------------------------------------------------\u001b[0m",
      "\u001b[1;31mTypeError\u001b[0m                                 Traceback (most recent call last)",
      "\u001b[1;32m<ipython-input-86-24da54c70fb8>\u001b[0m in \u001b[0;36m<module>\u001b[1;34m\u001b[0m\n\u001b[1;32m----> 1\u001b[1;33m \u001b[0mmy_sub\u001b[0m\u001b[1;33m(\u001b[0m\u001b[1;33m)\u001b[0m \u001b[1;31m# error message : positional arguments가 필요하다. (인수는 위치를 바탕으로 함.)\u001b[0m\u001b[1;33m\u001b[0m\u001b[1;33m\u001b[0m\u001b[0m\n\u001b[0m",
      "\u001b[1;31mTypeError\u001b[0m: my_sub() missing 2 required positional arguments: 'a' and 'b'"
     ]
    }
   ],
   "source": [
    "my_sub() # error message : positional arguments가 필요하다. (인수는 위치를 바탕으로 함.)"
   ]
  },
  {
   "cell_type": "code",
   "execution_count": 87,
   "metadata": {
    "scrolled": true
   },
   "outputs": [
    {
     "ename": "TypeError",
     "evalue": "my_sub() missing 1 required positional argument: 'b'",
     "output_type": "error",
     "traceback": [
      "\u001b[1;31m---------------------------------------------------------------------------\u001b[0m",
      "\u001b[1;31mTypeError\u001b[0m                                 Traceback (most recent call last)",
      "\u001b[1;32m<ipython-input-87-fce120493363>\u001b[0m in \u001b[0;36m<module>\u001b[1;34m\u001b[0m\n\u001b[1;32m----> 1\u001b[1;33m \u001b[0mmy_sub\u001b[0m\u001b[1;33m(\u001b[0m\u001b[1;36m1\u001b[0m\u001b[1;33m)\u001b[0m\u001b[1;33m\u001b[0m\u001b[1;33m\u001b[0m\u001b[0m\n\u001b[0m",
      "\u001b[1;31mTypeError\u001b[0m: my_sub() missing 1 required positional argument: 'b'"
     ]
    }
   ],
   "source": [
    "my_sub(1)"
   ]
  },
  {
   "cell_type": "markdown",
   "metadata": {},
   "source": [
    "<center>\n",
    "    <img src=\"./images/03/func_ex_01.png\", alt=\"function example 02\">\n",
    "</center>"
   ]
  },
  {
   "cell_type": "markdown",
   "metadata": {},
   "source": [
    "## 기본 값(Default Argument Values)\n",
    "\n",
    "함수가 호출될 때, 인자를 지정하지 않아도 기본 값을 설정할 수 있습니다. \n",
    "\n",
    "**활용법**\n",
    "```python\n",
    "def func(p1=v1):\n",
    "    return p1\n",
    "```"
   ]
  },
  {
   "cell_type": "markdown",
   "metadata": {},
   "source": [
    "### 기본 값 활용 예제\n",
    "\n",
    "> 이름을 받아서 다음과 같이 인사하는 함수 greeting을 만들어보세요. 이름이 길동이면, \"길동, 안녕?\" 이름이 없으면 \"익명, 안녕?\" 으로 출력해주세요."
   ]
  },
  {
   "cell_type": "code",
   "execution_count": 80,
   "metadata": {},
   "outputs": [],
   "source": [
    "# 아래에 greeting 함수를 만들어보세요.\n",
    "def greeting(name='익명'):\n",
    "    return f'{name}, 안녕?'"
   ]
  },
  {
   "cell_type": "code",
   "execution_count": 82,
   "metadata": {},
   "outputs": [
    {
     "data": {
      "text/plain": [
       "'길동, 안녕?'"
      ]
     },
     "execution_count": 82,
     "metadata": {},
     "output_type": "execute_result"
    }
   ],
   "source": [
    "greeting('길동')"
   ]
  },
  {
   "cell_type": "code",
   "execution_count": 84,
   "metadata": {},
   "outputs": [
    {
     "data": {
      "text/plain": [
       "'익명, 안녕?'"
      ]
     },
     "execution_count": 84,
     "metadata": {},
     "output_type": "execute_result"
    }
   ],
   "source": [
    "greeting()"
   ]
  },
  {
   "cell_type": "markdown",
   "metadata": {},
   "source": [
    "* 기본 인자 값이 설정되어 있더라도 기존의 함수와 동일하게 호출 가능합니다.\n",
    "<center>\n",
    "    <img src=\"./images/03/func_ex_02.png\", alt=\"function example 02\">\n",
    "</center>"
   ]
  },
  {
   "cell_type": "markdown",
   "metadata": {},
   "source": [
    "* 호출시 인자가 없으면 기본 인자 값이 활용됩니다.\n",
    "<center>\n",
    "    <img src=\"./images/03/func_ex_03.png\", alt=\"function example 03\">\n",
    "</center>"
   ]
  },
  {
   "cell_type": "markdown",
   "metadata": {},
   "source": [
    "* 단, 기본 매개변수 이후에 기본 값이 없는 매개변수를 사용할 수는 없습니다."
   ]
  },
  {
   "cell_type": "code",
   "execution_count": 90,
   "metadata": {},
   "outputs": [
    {
     "ename": "SyntaxError",
     "evalue": "non-default argument follows default argument (<ipython-input-90-957c26cf7856>, line 2)",
     "output_type": "error",
     "traceback": [
      "\u001b[1;36m  File \u001b[1;32m\"<ipython-input-90-957c26cf7856>\"\u001b[1;36m, line \u001b[1;32m2\u001b[0m\n\u001b[1;33m    def greeting(name='익명', age):\u001b[0m\n\u001b[1;37m                ^\u001b[0m\n\u001b[1;31mSyntaxError\u001b[0m\u001b[1;31m:\u001b[0m non-default argument follows default argument\n"
     ]
    }
   ],
   "source": [
    "# 오류를 확인해봅시다.\n",
    "def greeting(name='익명', age): # 기본값 설정은 뒤에서 해주어야 한다. non-default argument follows default argument\n",
    "    print(f'{name}은 {age}살 입니다.')"
   ]
  },
  {
   "cell_type": "code",
   "execution_count": 93,
   "metadata": {},
   "outputs": [],
   "source": [
    "# 수정해 봅시다.\n",
    "def greeting(age, name='익명'):\n",
    "    print(f'{name}은 {age}살 입니다.')"
   ]
  },
  {
   "cell_type": "code",
   "execution_count": 95,
   "metadata": {},
   "outputs": [
    {
     "name": "stdout",
     "output_type": "stream",
     "text": [
      "둘리은 10000살 입니다.\n",
      "익명은 10000살 입니다.\n"
     ]
    }
   ],
   "source": [
    "greeting(10000, '둘리')\n",
    "greeting(10000)"
   ]
  },
  {
   "cell_type": "markdown",
   "metadata": {},
   "source": [
    "## 키워드 인자(Keyword Arguments)\n",
    "\n",
    "키워드 인자는 직접적으로 변수의 이름으로 특정 인자를 전달할 수 있습니다."
   ]
  },
  {
   "cell_type": "code",
   "execution_count": 96,
   "metadata": {},
   "outputs": [
    {
     "name": "stdout",
     "output_type": "stream",
     "text": [
      "123\t123\t"
     ]
    }
   ],
   "source": [
    "# 키워드 인자 예시\n",
    "print('123', end='\\t') # end='\\t' 키워드 인자\n",
    "print('123', end='\\t')"
   ]
  },
  {
   "cell_type": "markdown",
   "metadata": {},
   "source": [
    "* 단 아래와 같이 활용할 수는 없습니다. 키워드 인자를 활용한 뒤에 위치 인자를 활용할 수는 없습니다."
   ]
  },
  {
   "cell_type": "code",
   "execution_count": 97,
   "metadata": {},
   "outputs": [
    {
     "ename": "SyntaxError",
     "evalue": "positional argument follows keyword argument (<ipython-input-97-ccc2d04510b2>, line 2)",
     "output_type": "error",
     "traceback": [
      "\u001b[1;36m  File \u001b[1;32m\"<ipython-input-97-ccc2d04510b2>\"\u001b[1;36m, line \u001b[1;32m2\u001b[0m\n\u001b[1;33m    print(end=',', 123)\u001b[0m\n\u001b[1;37m                  ^\u001b[0m\n\u001b[1;31mSyntaxError\u001b[0m\u001b[1;31m:\u001b[0m positional argument follows keyword argument\n"
     ]
    }
   ],
   "source": [
    "# 확인 해봅시다.\n",
    "print(end=',', 123) # positional argument follows keyword argument 키워드인자는 위치인자 뒤에 와야함"
   ]
  },
  {
   "cell_type": "markdown",
   "metadata": {},
   "source": [
    "우리가 주로 활용하는 `print()` 함수는 [파이썬 표준 라이브러리의 내장함수](https://docs.python.org/ko/3.6/library/functions.html) 중 하나이며, 다음과 같이 구성되어 있다.\n",
    "\n",
    "<br>\n",
    "<br>\n",
    "<center>\n",
    "    <img src=\"./images/03/print.png\", alt=\"print\">\n",
    "</center>"
   ]
  },
  {
   "cell_type": "code",
   "execution_count": 99,
   "metadata": {},
   "outputs": [
    {
     "name": "stdout",
     "output_type": "stream",
     "text": [
      "안녕/하세요/1/2/3끝!"
     ]
    }
   ],
   "source": [
    "# print 함수를 활용 해봅시다.\n",
    "print('안녕', '하세요', '1', '2', '3', sep='/', end='끝!')"
   ]
  },
  {
   "cell_type": "markdown",
   "metadata": {},
   "source": [
    "## 가변 인자 리스트\n",
    "\n",
    "앞서 설명한 `print()`처럼 정해지지 않은 임의의 숫자의 인자를 받기 위해서는 가변인자를 활용합니다. \n",
    "\n",
    "가변인자는 `tuple` 형태로 처리가 되며, `*`로 표현합니다. \n",
    "\n",
    "**활용법**\n",
    "\n",
    "```python\n",
    "def func(*args):\n",
    "```"
   ]
  },
  {
   "cell_type": "code",
   "execution_count": 100,
   "metadata": {},
   "outputs": [
    {
     "name": "stdout",
     "output_type": "stream",
     "text": [
      "hi,안녕,Guten Tag,곤니치와\n"
     ]
    }
   ],
   "source": [
    "# 가변 인자 예시 (print문은 *obejcts를 통해 임의의 숫자의 인자를 모두 처리합니다.)\n",
    "print('hi', '안녕', 'Guten Tag', '곤니치와', sep=',')"
   ]
  },
  {
   "cell_type": "code",
   "execution_count": 102,
   "metadata": {},
   "outputs": [],
   "source": [
    "# args는 tuple!\n",
    "def my_func(*args): # 2. 가변 인자를 튜플 형식으로 받는다.\n",
    "    print(type(args))"
   ]
  },
  {
   "cell_type": "code",
   "execution_count": 104,
   "metadata": {},
   "outputs": [
    {
     "name": "stdout",
     "output_type": "stream",
     "text": [
      "<class 'tuple'>\n"
     ]
    }
   ],
   "source": [
    "my_func(1, 2, 3) # 1. 여러개가 들어오면"
   ]
  },
  {
   "cell_type": "markdown",
   "metadata": {},
   "source": [
    "### 가변인자 리스트를 사용해봅시다.\n",
    "\n",
    "> 정수를 여러 개 받아서 가장 큰 값을 반환(return)하는 `my_max()`을 만들어주세요.\n",
    "\n",
    "```python\n",
    "my_max(10, 20, 30, 50)\n",
    "```\n",
    "---\n",
    "```\n",
    "예시출력)\n",
    "50\n",
    "```"
   ]
  },
  {
   "cell_type": "code",
   "execution_count": null,
   "metadata": {},
   "outputs": [],
   "source": [
    "max(1, 2, 3, 4)"
   ]
  },
  {
   "cell_type": "code",
   "execution_count": 136,
   "metadata": {},
   "outputs": [],
   "source": [
    "# 아래에 코드를 작성해주세요.\n",
    "def my_max(*args): # args 다른 이름도 가능하다.\n",
    "    #하나씩 반복하면서, 큰 값을 기록한다.\n",
    "    max_value = args[0]\n",
    "#     for value in args[1:]:\n",
    "    for value in args:\n",
    "#     for idx, value in enumerate(args):\n",
    "#         if idx == 0:\n",
    "#             max_value = value\n",
    "        # 만약에 큰 값보다 지금 값이 더 크면, 값을 바꾼다.\n",
    "        if max_value < value:\n",
    "            max_value = value\n",
    "    # 반복이 끝나면 반환한다.\n",
    "    return max_value"
   ]
  },
  {
   "cell_type": "code",
   "execution_count": 137,
   "metadata": {},
   "outputs": [
    {
     "data": {
      "text/plain": [
       "300"
      ]
     },
     "execution_count": 137,
     "metadata": {},
     "output_type": "execute_result"
    }
   ],
   "source": [
    "# 함수를 호출 해보세요.\n",
    "my_max(1, 2, 3, 4, 300, 2)"
   ]
  },
  {
   "cell_type": "code",
   "execution_count": 138,
   "metadata": {},
   "outputs": [],
   "source": [
    "def my_max2(*numbers):\n",
    "    return sorted(numbers)[-1]"
   ]
  },
  {
   "cell_type": "code",
   "execution_count": 139,
   "metadata": {
    "scrolled": true
   },
   "outputs": [
    {
     "data": {
      "text/plain": [
       "100"
      ]
     },
     "execution_count": 139,
     "metadata": {},
     "output_type": "execute_result"
    }
   ],
   "source": [
    "my_max2(1, 100, 2, 52)"
   ]
  },
  {
   "cell_type": "markdown",
   "metadata": {},
   "source": [
    "## 정의되지 않은 인자들 처리하기\n",
    "\n",
    "정의되지 않은 인자들은 `dict` 형태로 처리가 되며, `**`로 표현합니다. \n",
    "\n",
    "주로 `kwagrs`라는 이름을 사용하며, `**kwargs`를 통해 인자를 받아 처리할 수 있습니다.\n",
    "\n",
    "**활용법**\n",
    "\n",
    "```python\n",
    "def func(**kwargs):\n",
    "```"
   ]
  },
  {
   "cell_type": "markdown",
   "metadata": {},
   "source": [
    "우리가 dictionary를 만들 때 사용할 수 있는 `dict()` 함수는 [파이썬 표준 라이브러리의 내장함수](https://docs.python.org/ko/3.6/library/functions.html) 중 하나이며, 다음과 같이 구성되어 있다.\n",
    "<br>\n",
    "<br>\n",
    "<center>\n",
    "    <img src=\"./images/03/dict.png\", alt=\"dictionary\">\n",
    "</center>"
   ]
  },
  {
   "cell_type": "code",
   "execution_count": 140,
   "metadata": {},
   "outputs": [
    {
     "data": {
      "text/plain": [
       "{'사과': 'apple', '바나나': 'banana', '고양이': 'cat'}"
      ]
     },
     "execution_count": 140,
     "metadata": {},
     "output_type": "execute_result"
    }
   ],
   "source": [
    "# 딕셔너리 생성 함수 예시\n",
    "dict(사과='apple', 바나나='banana', 고양이='cat')"
   ]
  },
  {
   "cell_type": "code",
   "execution_count": 157,
   "metadata": {},
   "outputs": [
    {
     "data": {
      "text/plain": [
       "{'a1': 1, 'a2': 2}"
      ]
     },
     "execution_count": 157,
     "metadata": {},
     "output_type": "execute_result"
    }
   ],
   "source": [
    "dict(a1=1, a2=2) # 식별자의 첫 글자는 숫자가 될 수 없다."
   ]
  },
  {
   "cell_type": "code",
   "execution_count": 159,
   "metadata": {},
   "outputs": [
    {
     "data": {
      "text/plain": [
       "{1: 1, 2: 2}"
      ]
     },
     "execution_count": 159,
     "metadata": {},
     "output_type": "execute_result"
    }
   ],
   "source": [
    "dict([(1, 1), (2, 2)]) # 튜플로 넘기기"
   ]
  },
  {
   "cell_type": "code",
   "execution_count": 144,
   "metadata": {},
   "outputs": [],
   "source": [
    "def my_func(**kwargs):\n",
    "    print(type(kwargs))\n",
    "    print(kwargs)"
   ]
  },
  {
   "cell_type": "code",
   "execution_count": 145,
   "metadata": {},
   "outputs": [
    {
     "name": "stdout",
     "output_type": "stream",
     "text": [
      "<class 'dict'>\n",
      "{'사과': 'apple'}\n"
     ]
    }
   ],
   "source": [
    "my_func(사과='apple')"
   ]
  },
  {
   "cell_type": "markdown",
   "metadata": {},
   "source": [
    "### 정의되지 않은 인자를 처리해봅시다. \n",
    "\n",
    "> `my_dict()` 함수를 만들어 실제로 dictionary 모습으로 출력 함수를 만들어보세요.\n",
    ">\n",
    ">\n",
    "\n",
    "```\n",
    "예시 출력)\n",
    "한국어: 안녕, 영어: hi\n",
    "```"
   ]
  },
  {
   "cell_type": "code",
   "execution_count": 169,
   "metadata": {},
   "outputs": [
    {
     "name": "stdout",
     "output_type": "stream",
     "text": [
      "['한국어: 안녕', '영어: hi']\n",
      "한국어: 안녕, 영어: hi\n"
     ]
    }
   ],
   "source": [
    "# 아래에 코드를 작성해주세요.\n",
    "def my_dict(**kwargs):\n",
    "    result = []\n",
    "    for key, val in kwargs.items():\n",
    "        result.append(f'{key}: {val}')\n",
    "    print(result)\n",
    "    print(', '.join(result)) # 사이에 들어갈 문자열 ', '\n",
    "my_dict(한국어='안녕', 영어='hi')\n",
    "#  => '한국어': '안녕', '영어': 'hi'"
   ]
  },
  {
   "cell_type": "code",
   "execution_count": null,
   "metadata": {},
   "outputs": [],
   "source": [
    "# 함수를 호출 해보세요."
   ]
  },
  {
   "cell_type": "code",
   "execution_count": 166,
   "metadata": {},
   "outputs": [],
   "source": [
    "# 사실은 dict()는 출력이 아니라 딕셔너리를 리턴(반환)합니다. \n",
    "# 리턴하는 my_fake_dict를 만들어주세요.\n",
    "def my_fake_dict(**kwargs):\n",
    "    return kwargs"
   ]
  },
  {
   "cell_type": "code",
   "execution_count": 167,
   "metadata": {},
   "outputs": [
    {
     "data": {
      "text/plain": [
       "{'사과': 'apple', '바나나': 'banana', '고양이': 'cat'}"
      ]
     },
     "execution_count": 167,
     "metadata": {},
     "output_type": "execute_result"
    }
   ],
   "source": [
    "my_fake_dict(사과='apple', 바나나='banana', 고양이='cat')"
   ]
  },
  {
   "cell_type": "markdown",
   "metadata": {},
   "source": [
    "## dictionary를 인자로 넘기기(unpacking arguments list)\n",
    "\n",
    "`**dict`를 통해 함수에 인자를 넘길 수 있습니다."
   ]
  },
  {
   "cell_type": "code",
   "execution_count": 172,
   "metadata": {},
   "outputs": [
    {
     "data": {
      "text/plain": [
       "{'한국어': '안녕', '영어': 'hi', '독일어': 'Guten Tag'}"
      ]
     },
     "execution_count": 172,
     "metadata": {},
     "output_type": "execute_result"
    }
   ],
   "source": [
    "my_dict = {'한국어': '안녕', '영어': 'hi', '독일어': 'Guten Tag'}\n",
    "my_fake_dict(**my_dict)"
   ]
  },
  {
   "cell_type": "markdown",
   "metadata": {},
   "source": [
    "### 회원가입 검증 예제\n",
    "\n",
    "> 회원가입 로직을 검증하는 코드를 작성 해봅시다. \n",
    "\n",
    "* signup 함수는 `username`, `password`, `password_confirmation`을 인자로 받습니다.\n",
    "* `password`가 8자리 이상인지 확인을 합니다.\n",
    "* `password`와 `password_confirmation`이 일치하는지 확인을 합니다."
   ]
  },
  {
   "cell_type": "code",
   "execution_count": 1,
   "metadata": {},
   "outputs": [],
   "source": [
    "my_account = {\n",
    "    'username': '홍길동',\n",
    "    'password': '1q2w3e4r',\n",
    "    'password_confirmation': '1q2w3e4r'\n",
    "}"
   ]
  },
  {
   "cell_type": "code",
   "execution_count": 2,
   "metadata": {},
   "outputs": [],
   "source": [
    "# signup 함수를 작성 해주세요. error!! signup() got an unexpected keyword argument 'username'\n",
    "def signup(name, pw, pw_conf):\n",
    "    if len(pw) != 8:\n",
    "        print('비밀번호를 8자리 이상 입력해주세요.')\n",
    "    elif pw != pw_conf :\n",
    "        print('비밀번호가 일치하지 않습니다.')\n",
    "    else:\n",
    "        print('회원가입이 완료되었습니다.')"
   ]
  },
  {
   "cell_type": "code",
   "execution_count": 4,
   "metadata": {},
   "outputs": [],
   "source": [
    "# signup 함수를 작성 해주세요. error!! signup() got an unexpected keyword argument 'username'\n",
    "def signup(username, password, password_confirmation):\n",
    "    if len(password) != 8:\n",
    "        return False\n",
    "    else:\n",
    "        if password == password_confirmation :\n",
    "            return True\n",
    "        else:\n",
    "            return False"
   ]
  },
  {
   "cell_type": "code",
   "execution_count": 5,
   "metadata": {},
   "outputs": [
    {
     "data": {
      "text/plain": [
       "True"
      ]
     },
     "execution_count": 5,
     "metadata": {},
     "output_type": "execute_result"
    }
   ],
   "source": [
    "# signup 함수를 my_account를 넘겨 확인 해보세요.\n",
    "signup(**my_account)"
   ]
  },
  {
   "cell_type": "code",
   "execution_count": 10,
   "metadata": {},
   "outputs": [],
   "source": [
    "def signup2(my_dict, key, val):\n",
    "    print(my_dict.keys())\n",
    "    if my_dict['username'] == '홍길동':\n",
    "        print('변수 사용가능')\n",
    "    my_dict['key']=val\n",
    "    return my_dict"
   ]
  },
  {
   "cell_type": "code",
   "execution_count": 11,
   "metadata": {},
   "outputs": [
    {
     "name": "stdout",
     "output_type": "stream",
     "text": [
      "dict_keys(['username', 'password', 'password_confirmation', 'key'])\n",
      "변수 사용가능\n"
     ]
    },
    {
     "data": {
      "text/plain": [
       "{'username': '홍길동',\n",
       " 'password': '1q2w3e4r',\n",
       " 'password_confirmation': '1q2w3e4r',\n",
       " 'key': '010'}"
      ]
     },
     "execution_count": 11,
     "metadata": {},
     "output_type": "execute_result"
    }
   ],
   "source": [
    "signup2(my_account, 'phone', '010')"
   ]
  },
  {
   "cell_type": "code",
   "execution_count": 188,
   "metadata": {},
   "outputs": [
    {
     "data": {
      "text/plain": [
       "True"
      ]
     },
     "execution_count": 188,
     "metadata": {},
     "output_type": "execute_result"
    }
   ],
   "source": [
    "signup('홍길동', '1q2w3e4r', '1q2w3e4r')"
   ]
  },
  {
   "cell_type": "code",
   "execution_count": 190,
   "metadata": {},
   "outputs": [
    {
     "data": {
      "text/plain": [
       "True"
      ]
     },
     "execution_count": 190,
     "metadata": {},
     "output_type": "execute_result"
    }
   ],
   "source": [
    "signup(password='1q2w3e4r', password_confirmation='1q2w3e4r', username='홍길동')"
   ]
  },
  {
   "cell_type": "code",
   "execution_count": 191,
   "metadata": {},
   "outputs": [
    {
     "ename": "SyntaxError",
     "evalue": "positional argument follows keyword argument (<ipython-input-191-8cbd7ad9089c>, line 1)",
     "output_type": "error",
     "traceback": [
      "\u001b[1;36m  File \u001b[1;32m\"<ipython-input-191-8cbd7ad9089c>\"\u001b[1;36m, line \u001b[1;32m1\u001b[0m\n\u001b[1;33m    signup(password='1q2w3e4r', '1q2w3e4r', '홍길동')\u001b[0m\n\u001b[1;37m                               ^\u001b[0m\n\u001b[1;31mSyntaxError\u001b[0m\u001b[1;31m:\u001b[0m positional argument follows keyword argument\n"
     ]
    }
   ],
   "source": [
    "signup(password='1q2w3e4r', '1q2w3e4r', '홍길동')"
   ]
  },
  {
   "cell_type": "code",
   "execution_count": 194,
   "metadata": {},
   "outputs": [
    {
     "data": {
      "text/plain": [
       "True"
      ]
     },
     "execution_count": 194,
     "metadata": {},
     "output_type": "execute_result"
    }
   ],
   "source": [
    "signup('홍길동', password_confirmation='1q2w3e4r', password='1q2w3e4r')"
   ]
  },
  {
   "cell_type": "code",
   "execution_count": 193,
   "metadata": {},
   "outputs": [
    {
     "ename": "TypeError",
     "evalue": "signup() got an unexpected keyword argument 'pw'",
     "output_type": "error",
     "traceback": [
      "\u001b[1;31m---------------------------------------------------------------------------\u001b[0m",
      "\u001b[1;31mTypeError\u001b[0m                                 Traceback (most recent call last)",
      "\u001b[1;32m<ipython-input-193-e5cd4ca6863e>\u001b[0m in \u001b[0;36m<module>\u001b[1;34m\u001b[0m\n\u001b[1;32m----> 1\u001b[1;33m \u001b[0msignup\u001b[0m\u001b[1;33m(\u001b[0m\u001b[1;34m'홍길동'\u001b[0m\u001b[1;33m,\u001b[0m \u001b[0mpw\u001b[0m\u001b[1;33m=\u001b[0m\u001b[1;34m'1q2w3e4r'\u001b[0m\u001b[1;33m,\u001b[0m \u001b[0mpassword_confirmation\u001b[0m\u001b[1;33m=\u001b[0m\u001b[1;34m'1q2w3e4r'\u001b[0m\u001b[1;33m)\u001b[0m\u001b[1;33m\u001b[0m\u001b[1;33m\u001b[0m\u001b[0m\n\u001b[0m",
      "\u001b[1;31mTypeError\u001b[0m: signup() got an unexpected keyword argument 'pw'"
     ]
    }
   ],
   "source": [
    "signup('홍길동', pw='1q2w3e4r', password_confirmation='1q2w3e4r')"
   ]
  },
  {
   "cell_type": "markdown",
   "metadata": {},
   "source": [
    "###  URL 편하게 만들기\n",
    "\n",
    "> url 패턴을 만들어 문자열을 반환하는  `my_url` 함수를 만들어봅시다.\n",
    ">\n",
    "> 영진위에서 제공하는 일별 박스오피스 API 서비스는 다음과 같은 방식으로 요청을 받습니다.\n",
    "\n",
    "```\n",
    "기본 요청 URL : http://www.kobis.or.kr/kobisopenapi/webservice/rest/boxoffice/searchDailyBoxOfficeList.json?\n",
    "```\n",
    "\n",
    "* key : 발급받은 키값(abc)\n",
    "* targetDt : yyyymmdd\n",
    "* itemPerPage : 1 ~ 10 **기본 10**\n",
    "\n",
    "\n",
    "```\n",
    "예시)\n",
    "my_url(key='abc', targetDt='yyyymmdd')\n",
    "\n",
    "api = {\n",
    "    'key': 'abc',\n",
    "    'targetDt': 'yyyymmdd'\n",
    "}\n",
    "my_url(**api)\n",
    "\n",
    "예시 출력)\n",
    "'http://www.kobis.or.kr/kobisopenapi/webservice/rest/boxoffice/searchDailyBoxOfficeList.json?itemPerPage=10&key=abc&targetDt=yyyymmdd&'\n",
    "```"
   ]
  },
  {
   "cell_type": "code",
   "execution_count": 213,
   "metadata": {},
   "outputs": [],
   "source": [
    "# 여기에 코드를 작성해주세요.\n",
    "\n",
    "def my_url(key, targetDt, itemPerPage=10):\n",
    "    base_url = '?'\n",
    "    url = f'{base_url}key={key}&itemPerPage={itemPerPage}&targetDt={targetDt}'\n",
    "    return url"
   ]
  },
  {
   "cell_type": "code",
   "execution_count": 214,
   "metadata": {},
   "outputs": [
    {
     "data": {
      "text/plain": [
       "'?key=abc&itemPerPage=10&targetDt=yyyymmdd'"
      ]
     },
     "execution_count": 214,
     "metadata": {},
     "output_type": "execute_result"
    }
   ],
   "source": [
    "api = {\n",
    "    'key': 'abc',\n",
    "    'targetDt': 'yyyymmdd'\n",
    "}\n",
    "my_url(**api)"
   ]
  },
  {
   "cell_type": "code",
   "execution_count": 215,
   "metadata": {},
   "outputs": [],
   "source": [
    "def my_url_2(itemPerPage=10, **kwargs):\n",
    "    base_url = '?'\n",
    "    base_url += f'itemPerPage={itemPerPage}&'\n",
    "    for key, value in kwargs.items():\n",
    "        base_url += f'{key}={value}&'\n",
    "    return base_url"
   ]
  },
  {
   "cell_type": "code",
   "execution_count": 216,
   "metadata": {},
   "outputs": [
    {
     "data": {
      "text/plain": [
       "'?itemPerPage=1&key=abc&targetDt=yyyymmdd&'"
      ]
     },
     "execution_count": 216,
     "metadata": {},
     "output_type": "execute_result"
    }
   ],
   "source": [
    "api = {\n",
    "    'key': 'abc',\n",
    "    'targetDt': 'yyyymmdd'\n",
    "}\n",
    "my_url_2(1, **api)"
   ]
  },
  {
   "cell_type": "code",
   "execution_count": 217,
   "metadata": {},
   "outputs": [
    {
     "data": {
      "text/plain": [
       "{'key': 'abc', 'targetDt': 'yyyymmdd'}"
      ]
     },
     "execution_count": 217,
     "metadata": {},
     "output_type": "execute_result"
    }
   ],
   "source": [
    "api"
   ]
  },
  {
   "cell_type": "markdown",
   "metadata": {},
   "source": [
    "### URL 검증하기\n",
    "\n",
    "> 이제 우리는 만들어진 요청 보내기전에 URL을 검증해야합니다. \n",
    ">\n",
    "> 앞선 설명을 참고하여 검증 로직을 구현하고 문자열을 반환하세요.\n",
    "\n",
    "```\n",
    "> 아래의 두가지 상황만 만들도록 하겠습니다. <\n",
    "\n",
    "key, targetDt가 없으면, '필수 요청변수가 누락되었습니다.'\n",
    "\n",
    "itemPerPage의 범위가 1~10을 넘어가면, '1~10까지의 값을 넣어주세요.'\n",
    "```"
   ]
  },
  {
   "cell_type": "code",
   "execution_count": 227,
   "metadata": {},
   "outputs": [],
   "source": [
    "# 여기에 코드를 작성해주세요\n",
    "def my_url_2(itemPerPage, **kwargs):\n",
    "    # key, targetDt 있는지 확인\n",
    "    if 'key' not in kwargs.keys() or 'targetDt' not in kwargs.keys() :\n",
    "        return '필수 요청변수가 누락되었습니다.'\n",
    "    # itemPerPage 있는지 확인\n",
    "    if int(itemPerPage) not in range(1, 10):\n",
    "        return '1~10까지의 값을 넣어주세요.'\n",
    "    base_url = '?'\n",
    "    base_url += f'itemPerPage={itemPerPage}&'\n",
    "    for key, value in kwargs.items():\n",
    "        base_url += f'{key}={value}&'\n",
    "    return base_url"
   ]
  },
  {
   "cell_type": "code",
   "execution_count": 231,
   "metadata": {},
   "outputs": [
    {
     "data": {
      "text/plain": [
       "'필수 요청변수가 누락되었습니다.'"
      ]
     },
     "execution_count": 231,
     "metadata": {},
     "output_type": "execute_result"
    }
   ],
   "source": [
    "my_url_2(11, key='안녕')"
   ]
  },
  {
   "cell_type": "markdown",
   "metadata": {},
   "source": [
    "## 이름공간 및 스코프(Scope)\n",
    "\n",
    "파이썬에서 사용되는 이름들은 이름공간(namespce)에 저장되어 있습니다.\n",
    "그리고, LEGB Rule을 가지고 있습니다. \n",
    "\n",
    "변수에서 값을 찾을 때 아래와 같은 순서대로 이름을 찾아나갑니다.\n",
    "**!시험!**\n",
    "* `L`ocal scope: 정의된 함수\n",
    "* `E`nclosed scope: 상위 함수 \n",
    "* `G`lobal scope: 함수 밖의 변수 혹은 import된 모듈\n",
    "* `B`uilt-in scope: 파이썬안에 내장되어 있는 함수 또는 속성"
   ]
  },
  {
   "cell_type": "code",
   "execution_count": 195,
   "metadata": {},
   "outputs": [
    {
     "name": "stdout",
     "output_type": "stream",
     "text": [
      "4\n"
     ]
    },
    {
     "ename": "TypeError",
     "evalue": "'int' object is not callable",
     "output_type": "error",
     "traceback": [
      "\u001b[1;31m---------------------------------------------------------------------------\u001b[0m",
      "\u001b[1;31mTypeError\u001b[0m                                 Traceback (most recent call last)",
      "\u001b[1;32m<ipython-input-195-8c23451a07ab>\u001b[0m in \u001b[0;36m<module>\u001b[1;34m\u001b[0m\n\u001b[0;32m      2\u001b[0m \u001b[0mprint\u001b[0m\u001b[1;33m(\u001b[0m\u001b[0mstr\u001b[0m\u001b[1;33m(\u001b[0m\u001b[1;36m4\u001b[0m\u001b[1;33m)\u001b[0m\u001b[1;33m)\u001b[0m\u001b[1;33m\u001b[0m\u001b[1;33m\u001b[0m\u001b[0m\n\u001b[0;32m      3\u001b[0m \u001b[0mstr\u001b[0m \u001b[1;33m=\u001b[0m \u001b[1;36m4\u001b[0m\u001b[1;33m\u001b[0m\u001b[1;33m\u001b[0m\u001b[0m\n\u001b[1;32m----> 4\u001b[1;33m \u001b[0mprint\u001b[0m\u001b[1;33m(\u001b[0m\u001b[0mstr\u001b[0m\u001b[1;33m(\u001b[0m\u001b[1;36m4\u001b[0m\u001b[1;33m)\u001b[0m\u001b[1;33m)\u001b[0m\u001b[1;33m\u001b[0m\u001b[1;33m\u001b[0m\u001b[0m\n\u001b[0m",
      "\u001b[1;31mTypeError\u001b[0m: 'int' object is not callable"
     ]
    }
   ],
   "source": [
    "# 따라서 첫시간에 내장함수의 식별자를 사용할 수 없었던 예제에서 오류가 생기는 이유를 확인할 수 있습니다.\n",
    "print(str(4))\n",
    "str = 4\n",
    "print(str(4))"
   ]
  },
  {
   "cell_type": "markdown",
   "metadata": {},
   "source": [
    "* `str()` 코드가 실행되면\n",
    "* str을 Global scope에서 먼저 찾아서 `str = 4`를 가져오고, \n",
    "* 이는 함수가 아니라 변수이기 때문에 `not callable`하다라는 오류를 내뱉게 됩니다.\n",
    "* 우리가 원하는 `str()`은 Built-in scope에 있기 때문입니다."
   ]
  },
  {
   "cell_type": "code",
   "execution_count": 197,
   "metadata": {},
   "outputs": [],
   "source": [
    "del str"
   ]
  },
  {
   "cell_type": "code",
   "execution_count": 196,
   "metadata": {},
   "outputs": [
    {
     "name": "stdout",
     "output_type": "stream",
     "text": [
      "3\n"
     ]
    }
   ],
   "source": [
    "# print(a)에 무엇이 출력되는지 확인해보세요.\n",
    "a = 1\n",
    "def localscope(a):\n",
    "    print(a)\n",
    "    \n",
    "localscope(3)"
   ]
  },
  {
   "cell_type": "code",
   "execution_count": 2,
   "metadata": {},
   "outputs": [
    {
     "name": "stdout",
     "output_type": "stream",
     "text": [
      "글로벌 스코프{'__name__': '__main__', '__doc__': 'Automatically created module for IPython interactive environment', '__package__': None, '__loader__': None, '__spec__': None, '__builtin__': <module 'builtins' (built-in)>, '__builtins__': <module 'builtins' (built-in)>, '_ih': ['', \"a =1\\nprint(f'글로벌 스코프{locals()}')\\ndef localscope(a):\\n    print(f'로컬 스코프{locals()}')\\n    print(a)\\n    \\nlocalscope(3)\", \"a =1\\nprint(f'글로벌 스코프{locals()}')\\ndef localscope(a):\\n    print(f'로컬 스코프{locals()}')\\n    print(a)\\n    \\nlocalscope(3)\\nprint(f'글로벌 스코프2{locals()}')\"], '_oh': {}, '_dh': ['C:\\\\Users\\\\student\\\\Desktop\\\\TIL\\\\python\\\\notes'], 'In': ['', \"a =1\\nprint(f'글로벌 스코프{locals()}')\\ndef localscope(a):\\n    print(f'로컬 스코프{locals()}')\\n    print(a)\\n    \\nlocalscope(3)\", \"a =1\\nprint(f'글로벌 스코프{locals()}')\\ndef localscope(a):\\n    print(f'로컬 스코프{locals()}')\\n    print(a)\\n    \\nlocalscope(3)\\nprint(f'글로벌 스코프2{locals()}')\"], 'Out': {}, 'get_ipython': <bound method InteractiveShell.get_ipython of <ipykernel.zmqshell.ZMQInteractiveShell object at 0x036DE6F0>>, 'exit': <IPython.core.autocall.ZMQExitAutocall object at 0x05386ED0>, 'quit': <IPython.core.autocall.ZMQExitAutocall object at 0x05386ED0>, '_': '', '__': '', '___': '', '_i': \"a =1\\nprint(f'글로벌 스코프{locals()}')\\ndef localscope(a):\\n    print(f'로컬 스코프{locals()}')\\n    print(a)\\n    \\nlocalscope(3)\", '_ii': '', '_iii': '', '_i1': \"a =1\\nprint(f'글로벌 스코프{locals()}')\\ndef localscope(a):\\n    print(f'로컬 스코프{locals()}')\\n    print(a)\\n    \\nlocalscope(3)\", 'a': 1, 'localscope': <function localscope at 0x05679A08>, '_i2': \"a =1\\nprint(f'글로벌 스코프{locals()}')\\ndef localscope(a):\\n    print(f'로컬 스코프{locals()}')\\n    print(a)\\n    \\nlocalscope(3)\\nprint(f'글로벌 스코프2{locals()}')\"}\n",
      "로컬 스코프{'a': 3}\n",
      "3\n",
      "글로벌 스코프2{'__name__': '__main__', '__doc__': 'Automatically created module for IPython interactive environment', '__package__': None, '__loader__': None, '__spec__': None, '__builtin__': <module 'builtins' (built-in)>, '__builtins__': <module 'builtins' (built-in)>, '_ih': ['', \"a =1\\nprint(f'글로벌 스코프{locals()}')\\ndef localscope(a):\\n    print(f'로컬 스코프{locals()}')\\n    print(a)\\n    \\nlocalscope(3)\", \"a =1\\nprint(f'글로벌 스코프{locals()}')\\ndef localscope(a):\\n    print(f'로컬 스코프{locals()}')\\n    print(a)\\n    \\nlocalscope(3)\\nprint(f'글로벌 스코프2{locals()}')\"], '_oh': {}, '_dh': ['C:\\\\Users\\\\student\\\\Desktop\\\\TIL\\\\python\\\\notes'], 'In': ['', \"a =1\\nprint(f'글로벌 스코프{locals()}')\\ndef localscope(a):\\n    print(f'로컬 스코프{locals()}')\\n    print(a)\\n    \\nlocalscope(3)\", \"a =1\\nprint(f'글로벌 스코프{locals()}')\\ndef localscope(a):\\n    print(f'로컬 스코프{locals()}')\\n    print(a)\\n    \\nlocalscope(3)\\nprint(f'글로벌 스코프2{locals()}')\"], 'Out': {}, 'get_ipython': <bound method InteractiveShell.get_ipython of <ipykernel.zmqshell.ZMQInteractiveShell object at 0x036DE6F0>>, 'exit': <IPython.core.autocall.ZMQExitAutocall object at 0x05386ED0>, 'quit': <IPython.core.autocall.ZMQExitAutocall object at 0x05386ED0>, '_': '', '__': '', '___': '', '_i': \"a =1\\nprint(f'글로벌 스코프{locals()}')\\ndef localscope(a):\\n    print(f'로컬 스코프{locals()}')\\n    print(a)\\n    \\nlocalscope(3)\", '_ii': '', '_iii': '', '_i1': \"a =1\\nprint(f'글로벌 스코프{locals()}')\\ndef localscope(a):\\n    print(f'로컬 스코프{locals()}')\\n    print(a)\\n    \\nlocalscope(3)\", 'a': 1, 'localscope': <function localscope at 0x056793D8>, '_i2': \"a =1\\nprint(f'글로벌 스코프{locals()}')\\ndef localscope(a):\\n    print(f'로컬 스코프{locals()}')\\n    print(a)\\n    \\nlocalscope(3)\\nprint(f'글로벌 스코프2{locals()}')\"}\n"
     ]
    }
   ],
   "source": [
    "a =1\n",
    "print(f'글로벌 스코프{locals()}')\n",
    "def localscope(a):\n",
    "    print(f'로컬 스코프{locals()}')\n",
    "    print(a)\n",
    "    \n",
    "localscope(3)\n",
    "print(f'글로벌 스코프2{locals()}')"
   ]
  },
  {
   "cell_type": "code",
   "execution_count": null,
   "metadata": {},
   "outputs": [],
   "source": [
    "# 전역 변수를 바꿀 수 있을까요?"
   ]
  },
  {
   "cell_type": "code",
   "execution_count": 199,
   "metadata": {},
   "outputs": [
    {
     "name": "stdout",
     "output_type": "stream",
     "text": [
      "3\n",
      "global_num이 5으로 설정되었습니다.\n",
      "3\n"
     ]
    }
   ],
   "source": [
    "global_num = 3\n",
    "def localscope2():\n",
    "    global_num = 5\n",
    "    print(f'global_num이 {global_num}으로 설정되었습니다.')\n",
    "\n",
    "print(global_num)\n",
    "localscope2()\n",
    "print(global_num)"
   ]
  },
  {
   "cell_type": "code",
   "execution_count": 201,
   "metadata": {},
   "outputs": [
    {
     "name": "stdout",
     "output_type": "stream",
     "text": [
      "takhee\n"
     ]
    },
    {
     "ename": "NameError",
     "evalue": "name 'takhee' is not defined",
     "output_type": "error",
     "traceback": [
      "\u001b[1;31m---------------------------------------------------------------------------\u001b[0m",
      "\u001b[1;31mNameError\u001b[0m                                 Traceback (most recent call last)",
      "\u001b[1;32m<ipython-input-201-93c4222599ef>\u001b[0m in \u001b[0;36m<module>\u001b[1;34m\u001b[0m\n\u001b[0;32m      5\u001b[0m \u001b[1;33m\u001b[0m\u001b[0m\n\u001b[0;32m      6\u001b[0m \u001b[0mlocalscope3\u001b[0m\u001b[1;33m(\u001b[0m\u001b[1;33m)\u001b[0m\u001b[1;33m\u001b[0m\u001b[1;33m\u001b[0m\u001b[0m\n\u001b[1;32m----> 7\u001b[1;33m \u001b[0mprint\u001b[0m\u001b[1;33m(\u001b[0m\u001b[0mtakhee\u001b[0m\u001b[1;33m)\u001b[0m\u001b[1;33m\u001b[0m\u001b[1;33m\u001b[0m\u001b[0m\n\u001b[0m",
      "\u001b[1;31mNameError\u001b[0m: name 'takhee' is not defined"
     ]
    }
   ],
   "source": [
    "def localscope3():\n",
    "    takhee = 'takhee'\n",
    "    print(takhee)\n",
    "    return None\n",
    "\n",
    "localscope3()\n",
    "print(takhee)"
   ]
  },
  {
   "cell_type": "code",
   "execution_count": 203,
   "metadata": {},
   "outputs": [
    {
     "name": "stdout",
     "output_type": "stream",
     "text": [
      "0\n",
      "1\n",
      "2\n",
      "2\n"
     ]
    }
   ],
   "source": [
    "for takhee in range(3): # global scope\n",
    "    print(takhee)\n",
    "\n",
    "print(takhee)"
   ]
  },
  {
   "cell_type": "code",
   "execution_count": 207,
   "metadata": {},
   "outputs": [
    {
     "name": "stdout",
     "output_type": "stream",
     "text": [
      "5\n",
      "local에서 설정함 8\n",
      "8\n"
     ]
    }
   ],
   "source": [
    "# 굳이 전역에 있는 변수를 바꾸고 싶다면, 아래와 같이 선언할 수 있습니다.\n",
    "global_num = 5\n",
    "def localscope3():\n",
    "    global global_num # 쓰지 않는 것이 좋다!\n",
    "    global_num = 8\n",
    "    print('local에서 설정함', global_num)\n",
    "\n",
    "print(global_num)\n",
    "localscope3()\n",
    "print(global_num)"
   ]
  },
  {
   "cell_type": "code",
   "execution_count": 209,
   "metadata": {},
   "outputs": [
    {
     "name": "stdout",
     "output_type": "stream",
     "text": [
      "5\n"
     ]
    }
   ],
   "source": [
    "# 만약 로컬 스코프에서 내가 글로벌 값을 쓰고 싶다면, 인자로 넘겨라!!\n",
    "global_num = 5\n",
    "def localscope4(g):\n",
    "    print(g)\n",
    "\n",
    "localscope(global_num)"
   ]
  },
  {
   "cell_type": "code",
   "execution_count": 210,
   "metadata": {},
   "outputs": [
    {
     "name": "stdout",
     "output_type": "stream",
     "text": [
      "6\n"
     ]
    }
   ],
   "source": [
    "# 만약 로컬 스코프에 있는 값을 내가 글로벌에서 쓰고 싶다면, 리턴을 해라!!\n",
    "def localscope5():\n",
    "    global_num = 6\n",
    "    return global_num\n",
    "\n",
    "global_num = localscope5()\n",
    "print(global_num)"
   ]
  },
  {
   "cell_type": "markdown",
   "metadata": {},
   "source": [
    "이름공간은 각자의 수명주기가 있습니다.\n",
    "\n",
    "* built-in scope : 파이썬이 실행된 이후부터 끝까지 \n",
    "\n",
    "* Global scope : 모듈이 호출된 시점 이후 혹은 이름 선언된 이후부터 끝까지\n",
    "\n",
    "* Local/Enclosed scope : 함수가 실행된 시점 이후부터 리턴할때 까지"
   ]
  },
  {
   "cell_type": "markdown",
   "metadata": {},
   "source": [
    "# 재귀 함수(recursive function)\n",
    "\n",
    "재귀 함수는 함수 내부에서 자기 자신을 호출 하는 함수를 뜻한다."
   ]
  },
  {
   "cell_type": "markdown",
   "metadata": {},
   "source": [
    "## 팩토리얼 계산\n",
    "\n",
    "> `팩토리얼(factorial)`을 계산하는 함수 `fact(n)`를 작성해봅시다. \n",
    ">\n",
    "> n은 1보다 큰 정수라고 가정하고, 팩토리얼을 계산한 값을 반환합니다.\n",
    "\n",
    "$$\n",
    "\\displaystyle n! = \\prod_{ k = 1 }^{ n }{ k }\n",
    "$$\n",
    "\n",
    "$$\n",
    "\\displaystyle n! = 1*2*3*...*(n-1)*n\n",
    "$$\n",
    "\n",
    "---\n",
    "```\n",
    "예시 출력)\n",
    "120\n",
    "```"
   ]
  },
  {
   "cell_type": "code",
   "execution_count": 3,
   "metadata": {},
   "outputs": [],
   "source": [
    "# 아래에 코드를 작성해주세요.\n",
    "def fact(num):\n",
    "    result = 1\n",
    "    for n in range(1, num+1):\n",
    "        result *= n\n",
    "    return result"
   ]
  },
  {
   "cell_type": "code",
   "execution_count": 5,
   "metadata": {},
   "outputs": [],
   "source": [
    "def fact_while(n):\n",
    "    result = 1\n",
    "    while n > 1:\n",
    "        result *= n\n",
    "        n -= 1\n",
    "    return result"
   ]
  },
  {
   "cell_type": "code",
   "execution_count": 6,
   "metadata": {},
   "outputs": [
    {
     "data": {
      "text/plain": [
       "120"
      ]
     },
     "execution_count": 6,
     "metadata": {},
     "output_type": "execute_result"
    }
   ],
   "source": [
    "fact(5)"
   ]
  },
  {
   "cell_type": "markdown",
   "metadata": {},
   "source": [
    "## 재귀를 이용한 팩토리얼 계산\n",
    "\n",
    "```\n",
    "1! = 1\n",
    "2! = 1 * 2 = 1! * 2 \n",
    "3! = 1 * 2 * 3 = 2! * 3\n",
    "```"
   ]
  },
  {
   "cell_type": "code",
   "execution_count": 16,
   "metadata": {},
   "outputs": [],
   "source": [
    "# 아래에 코드를 작성해주세요.\n",
    "def fact(n):\n",
    "    result = 1\n",
    "    if n <= 1:\n",
    "        return 1\n",
    "    else:\n",
    "        return n * fact(n-1)"
   ]
  },
  {
   "cell_type": "code",
   "execution_count": 17,
   "metadata": {},
   "outputs": [
    {
     "data": {
      "text/plain": [
       "120"
      ]
     },
     "execution_count": 17,
     "metadata": {},
     "output_type": "execute_result"
    }
   ],
   "source": [
    "fact(5)"
   ]
  },
  {
   "cell_type": "markdown",
   "metadata": {},
   "source": [
    "## 반복문과 재귀함수\n",
    "```\n",
    "factorial(3)\n",
    "3 * factorail(2)\n",
    "3 * 2 * factorial(1)\n",
    "3 * 2 * 1\n",
    "3 * 2\n",
    "6\n",
    "```\n",
    "\n",
    "* 두 코드 모두 원리는 같다! \n",
    "\n",
    "```\n",
    "반복문 코드:\n",
    "    n이 1보다 큰 경우 반복문을 돌며, n은  1씩 감소한다. \n",
    "    마지막에 n이 1이면 더 이상 반복문을 돌지 않는다.\n",
    "  \n",
    "재귀 함수 코드:\n",
    "    재귀 함수를 호출하며, n은 1씩 감소한다. \n",
    "    마지막에 n이 1이면 더 이상 추가 함수를 호출을 하지 않는다.\n",
    "```\n"
   ]
  },
  {
   "cell_type": "markdown",
   "metadata": {},
   "source": [
    "* 재귀 함수는 기본적으로 같은 문제이지만 점점 범위가 줄어드는 문제를 풀게 된다.\n",
    "\n",
    "* 재귀함수를 작성시에는 반드시, `base case`가 존재 하여야 한다. **base case 팩토리얼 예제에서 return 1**\n",
    "\n",
    "* `base case`는 점점 범위가 줄어들어 반복되지 않는 최종적으로 도달하는 곳이다. \n",
    "\n",
    "재귀를 이용한 팩토리얼 계산에서의 base case는 n이 1일때, 함수가 아닌 정수 반환하는 것이다."
   ]
  },
  {
   "cell_type": "markdown",
   "metadata": {},
   "source": [
    "* 자기 자신을 호출하는 재귀함수는 알고리즘 구현시 많이 사용된다.\n",
    "* 코드가 더 직관적이고 이해하기 쉬운 경우가 있음. (하지만, 만들기는 어려움)\n",
    "* [Python Tutor](https://goo.gl/k1hQYz)에 보면, 함수가 호출될 때마다 메모리 공간에 쌓이는 것을 볼 수 있다. \n",
    "* 이 경우, 메모리 스택이 넘치거나(Stack overflow) 프로그램 실행 속도가 늘어지는 단점이 생긴다.\n",
    "* 파이썬에서는 이를 방지하기 위해 **1,000번이 넘어가게 되면 더이상 함수를 호출하지 않고, 종료된다.**"
   ]
  },
  {
   "cell_type": "code",
   "execution_count": 19,
   "metadata": {},
   "outputs": [
    {
     "ename": "RecursionError",
     "evalue": "maximum recursion depth exceeded",
     "output_type": "error",
     "traceback": [
      "\u001b[1;31m---------------------------------------------------------------------------\u001b[0m",
      "\u001b[1;31mRecursionError\u001b[0m                            Traceback (most recent call last)",
      "\u001b[1;32m<ipython-input-19-f166327cb68a>\u001b[0m in \u001b[0;36m<module>\u001b[1;34m\u001b[0m\n\u001b[0;32m      2\u001b[0m \u001b[1;32mdef\u001b[0m \u001b[0mmy_func\u001b[0m\u001b[1;33m(\u001b[0m\u001b[0mn\u001b[0m\u001b[1;33m)\u001b[0m\u001b[1;33m:\u001b[0m\u001b[1;33m\u001b[0m\u001b[1;33m\u001b[0m\u001b[0m\n\u001b[0;32m      3\u001b[0m     \u001b[1;32mreturn\u001b[0m \u001b[0mmy_func\u001b[0m\u001b[1;33m(\u001b[0m\u001b[0mn\u001b[0m\u001b[1;33m)\u001b[0m\u001b[1;33m\u001b[0m\u001b[1;33m\u001b[0m\u001b[0m\n\u001b[1;32m----> 4\u001b[1;33m \u001b[0mmy_func\u001b[0m\u001b[1;33m(\u001b[0m\u001b[1;36m1\u001b[0m\u001b[1;33m)\u001b[0m\u001b[1;33m\u001b[0m\u001b[1;33m\u001b[0m\u001b[0m\n\u001b[0m",
      "\u001b[1;32m<ipython-input-19-f166327cb68a>\u001b[0m in \u001b[0;36mmy_func\u001b[1;34m(n)\u001b[0m\n\u001b[0;32m      1\u001b[0m \u001b[1;31m# 여기에서 오류를 확인 해봅시다. error : maximum recursion depth exceeded\u001b[0m\u001b[1;33m\u001b[0m\u001b[1;33m\u001b[0m\u001b[1;33m\u001b[0m\u001b[0m\n\u001b[0;32m      2\u001b[0m \u001b[1;32mdef\u001b[0m \u001b[0mmy_func\u001b[0m\u001b[1;33m(\u001b[0m\u001b[0mn\u001b[0m\u001b[1;33m)\u001b[0m\u001b[1;33m:\u001b[0m\u001b[1;33m\u001b[0m\u001b[1;33m\u001b[0m\u001b[0m\n\u001b[1;32m----> 3\u001b[1;33m     \u001b[1;32mreturn\u001b[0m \u001b[0mmy_func\u001b[0m\u001b[1;33m(\u001b[0m\u001b[0mn\u001b[0m\u001b[1;33m)\u001b[0m\u001b[1;33m\u001b[0m\u001b[1;33m\u001b[0m\u001b[0m\n\u001b[0m\u001b[0;32m      4\u001b[0m \u001b[0mmy_func\u001b[0m\u001b[1;33m(\u001b[0m\u001b[1;36m1\u001b[0m\u001b[1;33m)\u001b[0m\u001b[1;33m\u001b[0m\u001b[1;33m\u001b[0m\u001b[0m\n",
      "... last 1 frames repeated, from the frame below ...\n",
      "\u001b[1;32m<ipython-input-19-f166327cb68a>\u001b[0m in \u001b[0;36mmy_func\u001b[1;34m(n)\u001b[0m\n\u001b[0;32m      1\u001b[0m \u001b[1;31m# 여기에서 오류를 확인 해봅시다. error : maximum recursion depth exceeded\u001b[0m\u001b[1;33m\u001b[0m\u001b[1;33m\u001b[0m\u001b[1;33m\u001b[0m\u001b[0m\n\u001b[0;32m      2\u001b[0m \u001b[1;32mdef\u001b[0m \u001b[0mmy_func\u001b[0m\u001b[1;33m(\u001b[0m\u001b[0mn\u001b[0m\u001b[1;33m)\u001b[0m\u001b[1;33m:\u001b[0m\u001b[1;33m\u001b[0m\u001b[1;33m\u001b[0m\u001b[0m\n\u001b[1;32m----> 3\u001b[1;33m     \u001b[1;32mreturn\u001b[0m \u001b[0mmy_func\u001b[0m\u001b[1;33m(\u001b[0m\u001b[0mn\u001b[0m\u001b[1;33m)\u001b[0m\u001b[1;33m\u001b[0m\u001b[1;33m\u001b[0m\u001b[0m\n\u001b[0m\u001b[0;32m      4\u001b[0m \u001b[0mmy_func\u001b[0m\u001b[1;33m(\u001b[0m\u001b[1;36m1\u001b[0m\u001b[1;33m)\u001b[0m\u001b[1;33m\u001b[0m\u001b[1;33m\u001b[0m\u001b[0m\n",
      "\u001b[1;31mRecursionError\u001b[0m: maximum recursion depth exceeded"
     ]
    }
   ],
   "source": [
    "# 여기에서 오류를 확인 해봅시다. error : maximum recursion depth exceeded\n",
    "def my_func(n):\n",
    "    return my_func(n)\n",
    "my_func(1)"
   ]
  },
  {
   "cell_type": "markdown",
   "metadata": {},
   "source": [
    "## 피보나치 수열\n",
    "\n",
    "> 피보나치 수열은 다음과 같은 점화식이 있다. \n",
    ">\n",
    "> 피보나치 값을 리턴하는 두가지 방식의 코드를 모두 작성해보자.\n",
    "\n",
    "$$\n",
    "\\displaystyle F_0 = F_1 = 1\n",
    "$$\n",
    "\n",
    "$$\n",
    "F_n=F_{n-1}+F_{n-2}\\qquad(n\\in\\{2,3,4,\\dots\\})\n",
    "$$\n",
    "\n",
    "1) `fib(n)` : 재귀함수\n",
    "\n",
    "2) `fib_loop(n)` : 반복문 활용한 함수\n",
    "\n",
    "---\n",
    "```\n",
    "예시 입력)\n",
    "fib(10)\n",
    "\n",
    "예시 호출)\n",
    "89\n",
    "```"
   ]
  },
  {
   "cell_type": "code",
   "execution_count": 2,
   "metadata": {},
   "outputs": [],
   "source": [
    "# 재귀를 이용한 코드를 작성해주세요.\n",
    "def fib(n):\n",
    "    if n <= 1:\n",
    "        return 1\n",
    "    else:\n",
    "        return fib(n-1) + fib(n-2)"
   ]
  },
  {
   "cell_type": "code",
   "execution_count": 3,
   "metadata": {},
   "outputs": [
    {
     "data": {
      "text/plain": [
       "8"
      ]
     },
     "execution_count": 3,
     "metadata": {},
     "output_type": "execute_result"
    }
   ],
   "source": [
    "fib(5)"
   ]
  },
  {
   "cell_type": "code",
   "execution_count": 24,
   "metadata": {},
   "outputs": [],
   "source": [
    "def fib_loop(n):\n",
    "    result = [1, 1]\n",
    "    for i in range(1, n):\n",
    "        result.append(result[-2] + result[-1])\n",
    "    return result[-1]"
   ]
  },
  {
   "cell_type": "code",
   "execution_count": 18,
   "metadata": {},
   "outputs": [],
   "source": [
    "# 반복문을 이용한 코드를 작성해주세요.\n",
    "def fib_loop(n):\n",
    "    # result 통\n",
    "    num_list = [1, 1]\n",
    "    # n번 실행하면서,\n",
    "    for i in range(1, n): # n-1번, n 일 때, 원소개수 n+1개. 지금 2개니까 n-1번 해야.\n",
    "        # result의 마지막 값과, 마지막 전값을 더한 값을 result에 추가\n",
    "        num_list.append(num_list[-1] + num_list[-2])\n",
    "    # result의 마지막 값을 리턴\n",
    "    return num_list[-1]"
   ]
  },
  {
   "cell_type": "code",
   "execution_count": 25,
   "metadata": {
    "scrolled": true
   },
   "outputs": [
    {
     "data": {
      "text/plain": [
       "6765"
      ]
     },
     "execution_count": 25,
     "metadata": {},
     "output_type": "execute_result"
    }
   ],
   "source": [
    "fib_loop(19)"
   ]
  },
  {
   "cell_type": "code",
   "execution_count": 65,
   "metadata": {},
   "outputs": [
    {
     "name": "stdout",
     "output_type": "stream",
     "text": [
      "0 1 1 0\n",
      "1 1 1 0\n",
      "2 1 2 2\n",
      "3 2 3 3\n",
      "4 3 5 5\n"
     ]
    },
    {
     "data": {
      "text/plain": [
       "5"
      ]
     },
     "execution_count": 65,
     "metadata": {},
     "output_type": "execute_result"
    }
   ],
   "source": [
    "def fib_loop_swap(n): # 위의 예제보다 메모리 사용이 적다. 변수 두 개\n",
    "    result = 0\n",
    "    # 초기 값 두개 설정\n",
    "    first, last = 1, 1\n",
    "    # 정해진 횟수를 반복하면서\n",
    "    for i in range(n-1): # n-1번\n",
    "        # first에는 last 값을 주고, \n",
    "        # last 값에는 first + last 값을 준다.\n",
    "        first, last = last, first + last # !주의! 값 그냥 2줄에 바꾸면 달라짐!\n",
    "        # tmp = first\n",
    "        # first = last\n",
    "        # last = tmp + last\n",
    "    # last 값을 리턴한다.\n",
    "    return result\n",
    "fib_loop_swap(4)"
   ]
  },
  {
   "cell_type": "markdown",
   "metadata": {},
   "source": [
    "## 반복문과 재귀 함수의 차이"
   ]
  },
  {
   "cell_type": "code",
   "execution_count": 70,
   "metadata": {},
   "outputs": [
    {
     "ename": "KeyboardInterrupt",
     "evalue": "",
     "output_type": "error",
     "traceback": [
      "\u001b[1;31m---------------------------------------------------------------------------\u001b[0m",
      "\u001b[1;31mKeyboardInterrupt\u001b[0m                         Traceback (most recent call last)",
      "\u001b[1;32m<ipython-input-70-0292528a283b>\u001b[0m in \u001b[0;36m<module>\u001b[1;34m\u001b[0m\n\u001b[0;32m      1\u001b[0m \u001b[1;31m# 큰 숫자를 재귀로 짜여진 fib()함수의 인자로 넘겨보세요.\u001b[0m\u001b[1;33m\u001b[0m\u001b[1;33m\u001b[0m\u001b[1;33m\u001b[0m\u001b[0m\n\u001b[1;32m----> 2\u001b[1;33m \u001b[0mfib\u001b[0m\u001b[1;33m(\u001b[0m\u001b[1;36m50\u001b[0m\u001b[1;33m)\u001b[0m\u001b[1;33m\u001b[0m\u001b[1;33m\u001b[0m\u001b[0m\n\u001b[0m",
      "\u001b[1;32m<ipython-input-62-e93445b48f64>\u001b[0m in \u001b[0;36mfib\u001b[1;34m(n)\u001b[0m\n\u001b[0;32m      4\u001b[0m         \u001b[1;32mreturn\u001b[0m \u001b[1;36m1\u001b[0m\u001b[1;33m\u001b[0m\u001b[1;33m\u001b[0m\u001b[0m\n\u001b[0;32m      5\u001b[0m     \u001b[1;32melse\u001b[0m\u001b[1;33m:\u001b[0m\u001b[1;33m\u001b[0m\u001b[1;33m\u001b[0m\u001b[0m\n\u001b[1;32m----> 6\u001b[1;33m         \u001b[1;32mreturn\u001b[0m \u001b[0mfib\u001b[0m\u001b[1;33m(\u001b[0m\u001b[0mn\u001b[0m\u001b[1;33m-\u001b[0m\u001b[1;36m1\u001b[0m\u001b[1;33m)\u001b[0m \u001b[1;33m+\u001b[0m \u001b[0mfib\u001b[0m\u001b[1;33m(\u001b[0m\u001b[0mn\u001b[0m\u001b[1;33m-\u001b[0m\u001b[1;36m2\u001b[0m\u001b[1;33m)\u001b[0m\u001b[1;33m\u001b[0m\u001b[1;33m\u001b[0m\u001b[0m\n\u001b[0m",
      "\u001b[1;32m<ipython-input-62-e93445b48f64>\u001b[0m in \u001b[0;36mfib\u001b[1;34m(n)\u001b[0m\n\u001b[0;32m      4\u001b[0m         \u001b[1;32mreturn\u001b[0m \u001b[1;36m1\u001b[0m\u001b[1;33m\u001b[0m\u001b[1;33m\u001b[0m\u001b[0m\n\u001b[0;32m      5\u001b[0m     \u001b[1;32melse\u001b[0m\u001b[1;33m:\u001b[0m\u001b[1;33m\u001b[0m\u001b[1;33m\u001b[0m\u001b[0m\n\u001b[1;32m----> 6\u001b[1;33m         \u001b[1;32mreturn\u001b[0m \u001b[0mfib\u001b[0m\u001b[1;33m(\u001b[0m\u001b[0mn\u001b[0m\u001b[1;33m-\u001b[0m\u001b[1;36m1\u001b[0m\u001b[1;33m)\u001b[0m \u001b[1;33m+\u001b[0m \u001b[0mfib\u001b[0m\u001b[1;33m(\u001b[0m\u001b[0mn\u001b[0m\u001b[1;33m-\u001b[0m\u001b[1;36m2\u001b[0m\u001b[1;33m)\u001b[0m\u001b[1;33m\u001b[0m\u001b[1;33m\u001b[0m\u001b[0m\n\u001b[0m",
      "\u001b[1;32m<ipython-input-62-e93445b48f64>\u001b[0m in \u001b[0;36mfib\u001b[1;34m(n)\u001b[0m\n\u001b[0;32m      4\u001b[0m         \u001b[1;32mreturn\u001b[0m \u001b[1;36m1\u001b[0m\u001b[1;33m\u001b[0m\u001b[1;33m\u001b[0m\u001b[0m\n\u001b[0;32m      5\u001b[0m     \u001b[1;32melse\u001b[0m\u001b[1;33m:\u001b[0m\u001b[1;33m\u001b[0m\u001b[1;33m\u001b[0m\u001b[0m\n\u001b[1;32m----> 6\u001b[1;33m         \u001b[1;32mreturn\u001b[0m \u001b[0mfib\u001b[0m\u001b[1;33m(\u001b[0m\u001b[0mn\u001b[0m\u001b[1;33m-\u001b[0m\u001b[1;36m1\u001b[0m\u001b[1;33m)\u001b[0m \u001b[1;33m+\u001b[0m \u001b[0mfib\u001b[0m\u001b[1;33m(\u001b[0m\u001b[0mn\u001b[0m\u001b[1;33m-\u001b[0m\u001b[1;36m2\u001b[0m\u001b[1;33m)\u001b[0m\u001b[1;33m\u001b[0m\u001b[1;33m\u001b[0m\u001b[0m\n\u001b[0m",
      "\u001b[1;32m<ipython-input-62-e93445b48f64>\u001b[0m in \u001b[0;36mfib\u001b[1;34m(n)\u001b[0m\n\u001b[0;32m      4\u001b[0m         \u001b[1;32mreturn\u001b[0m \u001b[1;36m1\u001b[0m\u001b[1;33m\u001b[0m\u001b[1;33m\u001b[0m\u001b[0m\n\u001b[0;32m      5\u001b[0m     \u001b[1;32melse\u001b[0m\u001b[1;33m:\u001b[0m\u001b[1;33m\u001b[0m\u001b[1;33m\u001b[0m\u001b[0m\n\u001b[1;32m----> 6\u001b[1;33m         \u001b[1;32mreturn\u001b[0m \u001b[0mfib\u001b[0m\u001b[1;33m(\u001b[0m\u001b[0mn\u001b[0m\u001b[1;33m-\u001b[0m\u001b[1;36m1\u001b[0m\u001b[1;33m)\u001b[0m \u001b[1;33m+\u001b[0m \u001b[0mfib\u001b[0m\u001b[1;33m(\u001b[0m\u001b[0mn\u001b[0m\u001b[1;33m-\u001b[0m\u001b[1;36m2\u001b[0m\u001b[1;33m)\u001b[0m\u001b[1;33m\u001b[0m\u001b[1;33m\u001b[0m\u001b[0m\n\u001b[0m",
      "\u001b[1;32m<ipython-input-62-e93445b48f64>\u001b[0m in \u001b[0;36mfib\u001b[1;34m(n)\u001b[0m\n\u001b[0;32m      4\u001b[0m         \u001b[1;32mreturn\u001b[0m \u001b[1;36m1\u001b[0m\u001b[1;33m\u001b[0m\u001b[1;33m\u001b[0m\u001b[0m\n\u001b[0;32m      5\u001b[0m     \u001b[1;32melse\u001b[0m\u001b[1;33m:\u001b[0m\u001b[1;33m\u001b[0m\u001b[1;33m\u001b[0m\u001b[0m\n\u001b[1;32m----> 6\u001b[1;33m         \u001b[1;32mreturn\u001b[0m \u001b[0mfib\u001b[0m\u001b[1;33m(\u001b[0m\u001b[0mn\u001b[0m\u001b[1;33m-\u001b[0m\u001b[1;36m1\u001b[0m\u001b[1;33m)\u001b[0m \u001b[1;33m+\u001b[0m \u001b[0mfib\u001b[0m\u001b[1;33m(\u001b[0m\u001b[0mn\u001b[0m\u001b[1;33m-\u001b[0m\u001b[1;36m2\u001b[0m\u001b[1;33m)\u001b[0m\u001b[1;33m\u001b[0m\u001b[1;33m\u001b[0m\u001b[0m\n\u001b[0m",
      "\u001b[1;32m<ipython-input-62-e93445b48f64>\u001b[0m in \u001b[0;36mfib\u001b[1;34m(n)\u001b[0m\n\u001b[0;32m      4\u001b[0m         \u001b[1;32mreturn\u001b[0m \u001b[1;36m1\u001b[0m\u001b[1;33m\u001b[0m\u001b[1;33m\u001b[0m\u001b[0m\n\u001b[0;32m      5\u001b[0m     \u001b[1;32melse\u001b[0m\u001b[1;33m:\u001b[0m\u001b[1;33m\u001b[0m\u001b[1;33m\u001b[0m\u001b[0m\n\u001b[1;32m----> 6\u001b[1;33m         \u001b[1;32mreturn\u001b[0m \u001b[0mfib\u001b[0m\u001b[1;33m(\u001b[0m\u001b[0mn\u001b[0m\u001b[1;33m-\u001b[0m\u001b[1;36m1\u001b[0m\u001b[1;33m)\u001b[0m \u001b[1;33m+\u001b[0m \u001b[0mfib\u001b[0m\u001b[1;33m(\u001b[0m\u001b[0mn\u001b[0m\u001b[1;33m-\u001b[0m\u001b[1;36m2\u001b[0m\u001b[1;33m)\u001b[0m\u001b[1;33m\u001b[0m\u001b[1;33m\u001b[0m\u001b[0m\n\u001b[0m",
      "\u001b[1;32m<ipython-input-62-e93445b48f64>\u001b[0m in \u001b[0;36mfib\u001b[1;34m(n)\u001b[0m\n\u001b[0;32m      4\u001b[0m         \u001b[1;32mreturn\u001b[0m \u001b[1;36m1\u001b[0m\u001b[1;33m\u001b[0m\u001b[1;33m\u001b[0m\u001b[0m\n\u001b[0;32m      5\u001b[0m     \u001b[1;32melse\u001b[0m\u001b[1;33m:\u001b[0m\u001b[1;33m\u001b[0m\u001b[1;33m\u001b[0m\u001b[0m\n\u001b[1;32m----> 6\u001b[1;33m         \u001b[1;32mreturn\u001b[0m \u001b[0mfib\u001b[0m\u001b[1;33m(\u001b[0m\u001b[0mn\u001b[0m\u001b[1;33m-\u001b[0m\u001b[1;36m1\u001b[0m\u001b[1;33m)\u001b[0m \u001b[1;33m+\u001b[0m \u001b[0mfib\u001b[0m\u001b[1;33m(\u001b[0m\u001b[0mn\u001b[0m\u001b[1;33m-\u001b[0m\u001b[1;36m2\u001b[0m\u001b[1;33m)\u001b[0m\u001b[1;33m\u001b[0m\u001b[1;33m\u001b[0m\u001b[0m\n\u001b[0m",
      "\u001b[1;32m<ipython-input-62-e93445b48f64>\u001b[0m in \u001b[0;36mfib\u001b[1;34m(n)\u001b[0m\n\u001b[0;32m      4\u001b[0m         \u001b[1;32mreturn\u001b[0m \u001b[1;36m1\u001b[0m\u001b[1;33m\u001b[0m\u001b[1;33m\u001b[0m\u001b[0m\n\u001b[0;32m      5\u001b[0m     \u001b[1;32melse\u001b[0m\u001b[1;33m:\u001b[0m\u001b[1;33m\u001b[0m\u001b[1;33m\u001b[0m\u001b[0m\n\u001b[1;32m----> 6\u001b[1;33m         \u001b[1;32mreturn\u001b[0m \u001b[0mfib\u001b[0m\u001b[1;33m(\u001b[0m\u001b[0mn\u001b[0m\u001b[1;33m-\u001b[0m\u001b[1;36m1\u001b[0m\u001b[1;33m)\u001b[0m \u001b[1;33m+\u001b[0m \u001b[0mfib\u001b[0m\u001b[1;33m(\u001b[0m\u001b[0mn\u001b[0m\u001b[1;33m-\u001b[0m\u001b[1;36m2\u001b[0m\u001b[1;33m)\u001b[0m\u001b[1;33m\u001b[0m\u001b[1;33m\u001b[0m\u001b[0m\n\u001b[0m",
      "\u001b[1;32m<ipython-input-62-e93445b48f64>\u001b[0m in \u001b[0;36mfib\u001b[1;34m(n)\u001b[0m\n\u001b[0;32m      4\u001b[0m         \u001b[1;32mreturn\u001b[0m \u001b[1;36m1\u001b[0m\u001b[1;33m\u001b[0m\u001b[1;33m\u001b[0m\u001b[0m\n\u001b[0;32m      5\u001b[0m     \u001b[1;32melse\u001b[0m\u001b[1;33m:\u001b[0m\u001b[1;33m\u001b[0m\u001b[1;33m\u001b[0m\u001b[0m\n\u001b[1;32m----> 6\u001b[1;33m         \u001b[1;32mreturn\u001b[0m \u001b[0mfib\u001b[0m\u001b[1;33m(\u001b[0m\u001b[0mn\u001b[0m\u001b[1;33m-\u001b[0m\u001b[1;36m1\u001b[0m\u001b[1;33m)\u001b[0m \u001b[1;33m+\u001b[0m \u001b[0mfib\u001b[0m\u001b[1;33m(\u001b[0m\u001b[0mn\u001b[0m\u001b[1;33m-\u001b[0m\u001b[1;36m2\u001b[0m\u001b[1;33m)\u001b[0m\u001b[1;33m\u001b[0m\u001b[1;33m\u001b[0m\u001b[0m\n\u001b[0m",
      "\u001b[1;32m<ipython-input-62-e93445b48f64>\u001b[0m in \u001b[0;36mfib\u001b[1;34m(n)\u001b[0m\n\u001b[0;32m      4\u001b[0m         \u001b[1;32mreturn\u001b[0m \u001b[1;36m1\u001b[0m\u001b[1;33m\u001b[0m\u001b[1;33m\u001b[0m\u001b[0m\n\u001b[0;32m      5\u001b[0m     \u001b[1;32melse\u001b[0m\u001b[1;33m:\u001b[0m\u001b[1;33m\u001b[0m\u001b[1;33m\u001b[0m\u001b[0m\n\u001b[1;32m----> 6\u001b[1;33m         \u001b[1;32mreturn\u001b[0m \u001b[0mfib\u001b[0m\u001b[1;33m(\u001b[0m\u001b[0mn\u001b[0m\u001b[1;33m-\u001b[0m\u001b[1;36m1\u001b[0m\u001b[1;33m)\u001b[0m \u001b[1;33m+\u001b[0m \u001b[0mfib\u001b[0m\u001b[1;33m(\u001b[0m\u001b[0mn\u001b[0m\u001b[1;33m-\u001b[0m\u001b[1;36m2\u001b[0m\u001b[1;33m)\u001b[0m\u001b[1;33m\u001b[0m\u001b[1;33m\u001b[0m\u001b[0m\n\u001b[0m",
      "\u001b[1;32m<ipython-input-62-e93445b48f64>\u001b[0m in \u001b[0;36mfib\u001b[1;34m(n)\u001b[0m\n\u001b[0;32m      4\u001b[0m         \u001b[1;32mreturn\u001b[0m \u001b[1;36m1\u001b[0m\u001b[1;33m\u001b[0m\u001b[1;33m\u001b[0m\u001b[0m\n\u001b[0;32m      5\u001b[0m     \u001b[1;32melse\u001b[0m\u001b[1;33m:\u001b[0m\u001b[1;33m\u001b[0m\u001b[1;33m\u001b[0m\u001b[0m\n\u001b[1;32m----> 6\u001b[1;33m         \u001b[1;32mreturn\u001b[0m \u001b[0mfib\u001b[0m\u001b[1;33m(\u001b[0m\u001b[0mn\u001b[0m\u001b[1;33m-\u001b[0m\u001b[1;36m1\u001b[0m\u001b[1;33m)\u001b[0m \u001b[1;33m+\u001b[0m \u001b[0mfib\u001b[0m\u001b[1;33m(\u001b[0m\u001b[0mn\u001b[0m\u001b[1;33m-\u001b[0m\u001b[1;36m2\u001b[0m\u001b[1;33m)\u001b[0m\u001b[1;33m\u001b[0m\u001b[1;33m\u001b[0m\u001b[0m\n\u001b[0m",
      "\u001b[1;32m<ipython-input-62-e93445b48f64>\u001b[0m in \u001b[0;36mfib\u001b[1;34m(n)\u001b[0m\n\u001b[0;32m      4\u001b[0m         \u001b[1;32mreturn\u001b[0m \u001b[1;36m1\u001b[0m\u001b[1;33m\u001b[0m\u001b[1;33m\u001b[0m\u001b[0m\n\u001b[0;32m      5\u001b[0m     \u001b[1;32melse\u001b[0m\u001b[1;33m:\u001b[0m\u001b[1;33m\u001b[0m\u001b[1;33m\u001b[0m\u001b[0m\n\u001b[1;32m----> 6\u001b[1;33m         \u001b[1;32mreturn\u001b[0m \u001b[0mfib\u001b[0m\u001b[1;33m(\u001b[0m\u001b[0mn\u001b[0m\u001b[1;33m-\u001b[0m\u001b[1;36m1\u001b[0m\u001b[1;33m)\u001b[0m \u001b[1;33m+\u001b[0m \u001b[0mfib\u001b[0m\u001b[1;33m(\u001b[0m\u001b[0mn\u001b[0m\u001b[1;33m-\u001b[0m\u001b[1;36m2\u001b[0m\u001b[1;33m)\u001b[0m\u001b[1;33m\u001b[0m\u001b[1;33m\u001b[0m\u001b[0m\n\u001b[0m",
      "\u001b[1;32m<ipython-input-62-e93445b48f64>\u001b[0m in \u001b[0;36mfib\u001b[1;34m(n)\u001b[0m\n\u001b[0;32m      4\u001b[0m         \u001b[1;32mreturn\u001b[0m \u001b[1;36m1\u001b[0m\u001b[1;33m\u001b[0m\u001b[1;33m\u001b[0m\u001b[0m\n\u001b[0;32m      5\u001b[0m     \u001b[1;32melse\u001b[0m\u001b[1;33m:\u001b[0m\u001b[1;33m\u001b[0m\u001b[1;33m\u001b[0m\u001b[0m\n\u001b[1;32m----> 6\u001b[1;33m         \u001b[1;32mreturn\u001b[0m \u001b[0mfib\u001b[0m\u001b[1;33m(\u001b[0m\u001b[0mn\u001b[0m\u001b[1;33m-\u001b[0m\u001b[1;36m1\u001b[0m\u001b[1;33m)\u001b[0m \u001b[1;33m+\u001b[0m \u001b[0mfib\u001b[0m\u001b[1;33m(\u001b[0m\u001b[0mn\u001b[0m\u001b[1;33m-\u001b[0m\u001b[1;36m2\u001b[0m\u001b[1;33m)\u001b[0m\u001b[1;33m\u001b[0m\u001b[1;33m\u001b[0m\u001b[0m\n\u001b[0m",
      "\u001b[1;32m<ipython-input-62-e93445b48f64>\u001b[0m in \u001b[0;36mfib\u001b[1;34m(n)\u001b[0m\n\u001b[0;32m      4\u001b[0m         \u001b[1;32mreturn\u001b[0m \u001b[1;36m1\u001b[0m\u001b[1;33m\u001b[0m\u001b[1;33m\u001b[0m\u001b[0m\n\u001b[0;32m      5\u001b[0m     \u001b[1;32melse\u001b[0m\u001b[1;33m:\u001b[0m\u001b[1;33m\u001b[0m\u001b[1;33m\u001b[0m\u001b[0m\n\u001b[1;32m----> 6\u001b[1;33m         \u001b[1;32mreturn\u001b[0m \u001b[0mfib\u001b[0m\u001b[1;33m(\u001b[0m\u001b[0mn\u001b[0m\u001b[1;33m-\u001b[0m\u001b[1;36m1\u001b[0m\u001b[1;33m)\u001b[0m \u001b[1;33m+\u001b[0m \u001b[0mfib\u001b[0m\u001b[1;33m(\u001b[0m\u001b[0mn\u001b[0m\u001b[1;33m-\u001b[0m\u001b[1;36m2\u001b[0m\u001b[1;33m)\u001b[0m\u001b[1;33m\u001b[0m\u001b[1;33m\u001b[0m\u001b[0m\n\u001b[0m",
      "\u001b[1;32m<ipython-input-62-e93445b48f64>\u001b[0m in \u001b[0;36mfib\u001b[1;34m(n)\u001b[0m\n\u001b[0;32m      4\u001b[0m         \u001b[1;32mreturn\u001b[0m \u001b[1;36m1\u001b[0m\u001b[1;33m\u001b[0m\u001b[1;33m\u001b[0m\u001b[0m\n\u001b[0;32m      5\u001b[0m     \u001b[1;32melse\u001b[0m\u001b[1;33m:\u001b[0m\u001b[1;33m\u001b[0m\u001b[1;33m\u001b[0m\u001b[0m\n\u001b[1;32m----> 6\u001b[1;33m         \u001b[1;32mreturn\u001b[0m \u001b[0mfib\u001b[0m\u001b[1;33m(\u001b[0m\u001b[0mn\u001b[0m\u001b[1;33m-\u001b[0m\u001b[1;36m1\u001b[0m\u001b[1;33m)\u001b[0m \u001b[1;33m+\u001b[0m \u001b[0mfib\u001b[0m\u001b[1;33m(\u001b[0m\u001b[0mn\u001b[0m\u001b[1;33m-\u001b[0m\u001b[1;36m2\u001b[0m\u001b[1;33m)\u001b[0m\u001b[1;33m\u001b[0m\u001b[1;33m\u001b[0m\u001b[0m\n\u001b[0m",
      "\u001b[1;32m<ipython-input-62-e93445b48f64>\u001b[0m in \u001b[0;36mfib\u001b[1;34m(n)\u001b[0m\n\u001b[0;32m      4\u001b[0m         \u001b[1;32mreturn\u001b[0m \u001b[1;36m1\u001b[0m\u001b[1;33m\u001b[0m\u001b[1;33m\u001b[0m\u001b[0m\n\u001b[0;32m      5\u001b[0m     \u001b[1;32melse\u001b[0m\u001b[1;33m:\u001b[0m\u001b[1;33m\u001b[0m\u001b[1;33m\u001b[0m\u001b[0m\n\u001b[1;32m----> 6\u001b[1;33m         \u001b[1;32mreturn\u001b[0m \u001b[0mfib\u001b[0m\u001b[1;33m(\u001b[0m\u001b[0mn\u001b[0m\u001b[1;33m-\u001b[0m\u001b[1;36m1\u001b[0m\u001b[1;33m)\u001b[0m \u001b[1;33m+\u001b[0m \u001b[0mfib\u001b[0m\u001b[1;33m(\u001b[0m\u001b[0mn\u001b[0m\u001b[1;33m-\u001b[0m\u001b[1;36m2\u001b[0m\u001b[1;33m)\u001b[0m\u001b[1;33m\u001b[0m\u001b[1;33m\u001b[0m\u001b[0m\n\u001b[0m",
      "\u001b[1;32m<ipython-input-62-e93445b48f64>\u001b[0m in \u001b[0;36mfib\u001b[1;34m(n)\u001b[0m\n\u001b[0;32m      4\u001b[0m         \u001b[1;32mreturn\u001b[0m \u001b[1;36m1\u001b[0m\u001b[1;33m\u001b[0m\u001b[1;33m\u001b[0m\u001b[0m\n\u001b[0;32m      5\u001b[0m     \u001b[1;32melse\u001b[0m\u001b[1;33m:\u001b[0m\u001b[1;33m\u001b[0m\u001b[1;33m\u001b[0m\u001b[0m\n\u001b[1;32m----> 6\u001b[1;33m         \u001b[1;32mreturn\u001b[0m \u001b[0mfib\u001b[0m\u001b[1;33m(\u001b[0m\u001b[0mn\u001b[0m\u001b[1;33m-\u001b[0m\u001b[1;36m1\u001b[0m\u001b[1;33m)\u001b[0m \u001b[1;33m+\u001b[0m \u001b[0mfib\u001b[0m\u001b[1;33m(\u001b[0m\u001b[0mn\u001b[0m\u001b[1;33m-\u001b[0m\u001b[1;36m2\u001b[0m\u001b[1;33m)\u001b[0m\u001b[1;33m\u001b[0m\u001b[1;33m\u001b[0m\u001b[0m\n\u001b[0m",
      "\u001b[1;32m<ipython-input-62-e93445b48f64>\u001b[0m in \u001b[0;36mfib\u001b[1;34m(n)\u001b[0m\n\u001b[0;32m      4\u001b[0m         \u001b[1;32mreturn\u001b[0m \u001b[1;36m1\u001b[0m\u001b[1;33m\u001b[0m\u001b[1;33m\u001b[0m\u001b[0m\n\u001b[0;32m      5\u001b[0m     \u001b[1;32melse\u001b[0m\u001b[1;33m:\u001b[0m\u001b[1;33m\u001b[0m\u001b[1;33m\u001b[0m\u001b[0m\n\u001b[1;32m----> 6\u001b[1;33m         \u001b[1;32mreturn\u001b[0m \u001b[0mfib\u001b[0m\u001b[1;33m(\u001b[0m\u001b[0mn\u001b[0m\u001b[1;33m-\u001b[0m\u001b[1;36m1\u001b[0m\u001b[1;33m)\u001b[0m \u001b[1;33m+\u001b[0m \u001b[0mfib\u001b[0m\u001b[1;33m(\u001b[0m\u001b[0mn\u001b[0m\u001b[1;33m-\u001b[0m\u001b[1;36m2\u001b[0m\u001b[1;33m)\u001b[0m\u001b[1;33m\u001b[0m\u001b[1;33m\u001b[0m\u001b[0m\n\u001b[0m",
      "\u001b[1;32m<ipython-input-62-e93445b48f64>\u001b[0m in \u001b[0;36mfib\u001b[1;34m(n)\u001b[0m\n\u001b[0;32m      4\u001b[0m         \u001b[1;32mreturn\u001b[0m \u001b[1;36m1\u001b[0m\u001b[1;33m\u001b[0m\u001b[1;33m\u001b[0m\u001b[0m\n\u001b[0;32m      5\u001b[0m     \u001b[1;32melse\u001b[0m\u001b[1;33m:\u001b[0m\u001b[1;33m\u001b[0m\u001b[1;33m\u001b[0m\u001b[0m\n\u001b[1;32m----> 6\u001b[1;33m         \u001b[1;32mreturn\u001b[0m \u001b[0mfib\u001b[0m\u001b[1;33m(\u001b[0m\u001b[0mn\u001b[0m\u001b[1;33m-\u001b[0m\u001b[1;36m1\u001b[0m\u001b[1;33m)\u001b[0m \u001b[1;33m+\u001b[0m \u001b[0mfib\u001b[0m\u001b[1;33m(\u001b[0m\u001b[0mn\u001b[0m\u001b[1;33m-\u001b[0m\u001b[1;36m2\u001b[0m\u001b[1;33m)\u001b[0m\u001b[1;33m\u001b[0m\u001b[1;33m\u001b[0m\u001b[0m\n\u001b[0m",
      "\u001b[1;32m<ipython-input-62-e93445b48f64>\u001b[0m in \u001b[0;36mfib\u001b[1;34m(n)\u001b[0m\n\u001b[0;32m      4\u001b[0m         \u001b[1;32mreturn\u001b[0m \u001b[1;36m1\u001b[0m\u001b[1;33m\u001b[0m\u001b[1;33m\u001b[0m\u001b[0m\n\u001b[0;32m      5\u001b[0m     \u001b[1;32melse\u001b[0m\u001b[1;33m:\u001b[0m\u001b[1;33m\u001b[0m\u001b[1;33m\u001b[0m\u001b[0m\n\u001b[1;32m----> 6\u001b[1;33m         \u001b[1;32mreturn\u001b[0m \u001b[0mfib\u001b[0m\u001b[1;33m(\u001b[0m\u001b[0mn\u001b[0m\u001b[1;33m-\u001b[0m\u001b[1;36m1\u001b[0m\u001b[1;33m)\u001b[0m \u001b[1;33m+\u001b[0m \u001b[0mfib\u001b[0m\u001b[1;33m(\u001b[0m\u001b[0mn\u001b[0m\u001b[1;33m-\u001b[0m\u001b[1;36m2\u001b[0m\u001b[1;33m)\u001b[0m\u001b[1;33m\u001b[0m\u001b[1;33m\u001b[0m\u001b[0m\n\u001b[0m",
      "\u001b[1;32m<ipython-input-62-e93445b48f64>\u001b[0m in \u001b[0;36mfib\u001b[1;34m(n)\u001b[0m\n\u001b[0;32m      4\u001b[0m         \u001b[1;32mreturn\u001b[0m \u001b[1;36m1\u001b[0m\u001b[1;33m\u001b[0m\u001b[1;33m\u001b[0m\u001b[0m\n\u001b[0;32m      5\u001b[0m     \u001b[1;32melse\u001b[0m\u001b[1;33m:\u001b[0m\u001b[1;33m\u001b[0m\u001b[1;33m\u001b[0m\u001b[0m\n\u001b[1;32m----> 6\u001b[1;33m         \u001b[1;32mreturn\u001b[0m \u001b[0mfib\u001b[0m\u001b[1;33m(\u001b[0m\u001b[0mn\u001b[0m\u001b[1;33m-\u001b[0m\u001b[1;36m1\u001b[0m\u001b[1;33m)\u001b[0m \u001b[1;33m+\u001b[0m \u001b[0mfib\u001b[0m\u001b[1;33m(\u001b[0m\u001b[0mn\u001b[0m\u001b[1;33m-\u001b[0m\u001b[1;36m2\u001b[0m\u001b[1;33m)\u001b[0m\u001b[1;33m\u001b[0m\u001b[1;33m\u001b[0m\u001b[0m\n\u001b[0m",
      "\u001b[1;32m<ipython-input-62-e93445b48f64>\u001b[0m in \u001b[0;36mfib\u001b[1;34m(n)\u001b[0m\n\u001b[0;32m      4\u001b[0m         \u001b[1;32mreturn\u001b[0m \u001b[1;36m1\u001b[0m\u001b[1;33m\u001b[0m\u001b[1;33m\u001b[0m\u001b[0m\n\u001b[0;32m      5\u001b[0m     \u001b[1;32melse\u001b[0m\u001b[1;33m:\u001b[0m\u001b[1;33m\u001b[0m\u001b[1;33m\u001b[0m\u001b[0m\n\u001b[1;32m----> 6\u001b[1;33m         \u001b[1;32mreturn\u001b[0m \u001b[0mfib\u001b[0m\u001b[1;33m(\u001b[0m\u001b[0mn\u001b[0m\u001b[1;33m-\u001b[0m\u001b[1;36m1\u001b[0m\u001b[1;33m)\u001b[0m \u001b[1;33m+\u001b[0m \u001b[0mfib\u001b[0m\u001b[1;33m(\u001b[0m\u001b[0mn\u001b[0m\u001b[1;33m-\u001b[0m\u001b[1;36m2\u001b[0m\u001b[1;33m)\u001b[0m\u001b[1;33m\u001b[0m\u001b[1;33m\u001b[0m\u001b[0m\n\u001b[0m",
      "\u001b[1;32m<ipython-input-62-e93445b48f64>\u001b[0m in \u001b[0;36mfib\u001b[1;34m(n)\u001b[0m\n\u001b[0;32m      4\u001b[0m         \u001b[1;32mreturn\u001b[0m \u001b[1;36m1\u001b[0m\u001b[1;33m\u001b[0m\u001b[1;33m\u001b[0m\u001b[0m\n\u001b[0;32m      5\u001b[0m     \u001b[1;32melse\u001b[0m\u001b[1;33m:\u001b[0m\u001b[1;33m\u001b[0m\u001b[1;33m\u001b[0m\u001b[0m\n\u001b[1;32m----> 6\u001b[1;33m         \u001b[1;32mreturn\u001b[0m \u001b[0mfib\u001b[0m\u001b[1;33m(\u001b[0m\u001b[0mn\u001b[0m\u001b[1;33m-\u001b[0m\u001b[1;36m1\u001b[0m\u001b[1;33m)\u001b[0m \u001b[1;33m+\u001b[0m \u001b[0mfib\u001b[0m\u001b[1;33m(\u001b[0m\u001b[0mn\u001b[0m\u001b[1;33m-\u001b[0m\u001b[1;36m2\u001b[0m\u001b[1;33m)\u001b[0m\u001b[1;33m\u001b[0m\u001b[1;33m\u001b[0m\u001b[0m\n\u001b[0m",
      "\u001b[1;32m<ipython-input-62-e93445b48f64>\u001b[0m in \u001b[0;36mfib\u001b[1;34m(n)\u001b[0m\n\u001b[0;32m      4\u001b[0m         \u001b[1;32mreturn\u001b[0m \u001b[1;36m1\u001b[0m\u001b[1;33m\u001b[0m\u001b[1;33m\u001b[0m\u001b[0m\n\u001b[0;32m      5\u001b[0m     \u001b[1;32melse\u001b[0m\u001b[1;33m:\u001b[0m\u001b[1;33m\u001b[0m\u001b[1;33m\u001b[0m\u001b[0m\n\u001b[1;32m----> 6\u001b[1;33m         \u001b[1;32mreturn\u001b[0m \u001b[0mfib\u001b[0m\u001b[1;33m(\u001b[0m\u001b[0mn\u001b[0m\u001b[1;33m-\u001b[0m\u001b[1;36m1\u001b[0m\u001b[1;33m)\u001b[0m \u001b[1;33m+\u001b[0m \u001b[0mfib\u001b[0m\u001b[1;33m(\u001b[0m\u001b[0mn\u001b[0m\u001b[1;33m-\u001b[0m\u001b[1;36m2\u001b[0m\u001b[1;33m)\u001b[0m\u001b[1;33m\u001b[0m\u001b[1;33m\u001b[0m\u001b[0m\n\u001b[0m",
      "\u001b[1;32m<ipython-input-62-e93445b48f64>\u001b[0m in \u001b[0;36mfib\u001b[1;34m(n)\u001b[0m\n\u001b[0;32m      4\u001b[0m         \u001b[1;32mreturn\u001b[0m \u001b[1;36m1\u001b[0m\u001b[1;33m\u001b[0m\u001b[1;33m\u001b[0m\u001b[0m\n\u001b[0;32m      5\u001b[0m     \u001b[1;32melse\u001b[0m\u001b[1;33m:\u001b[0m\u001b[1;33m\u001b[0m\u001b[1;33m\u001b[0m\u001b[0m\n\u001b[1;32m----> 6\u001b[1;33m         \u001b[1;32mreturn\u001b[0m \u001b[0mfib\u001b[0m\u001b[1;33m(\u001b[0m\u001b[0mn\u001b[0m\u001b[1;33m-\u001b[0m\u001b[1;36m1\u001b[0m\u001b[1;33m)\u001b[0m \u001b[1;33m+\u001b[0m \u001b[0mfib\u001b[0m\u001b[1;33m(\u001b[0m\u001b[0mn\u001b[0m\u001b[1;33m-\u001b[0m\u001b[1;36m2\u001b[0m\u001b[1;33m)\u001b[0m\u001b[1;33m\u001b[0m\u001b[1;33m\u001b[0m\u001b[0m\n\u001b[0m",
      "\u001b[1;32m<ipython-input-62-e93445b48f64>\u001b[0m in \u001b[0;36mfib\u001b[1;34m(n)\u001b[0m\n\u001b[0;32m      4\u001b[0m         \u001b[1;32mreturn\u001b[0m \u001b[1;36m1\u001b[0m\u001b[1;33m\u001b[0m\u001b[1;33m\u001b[0m\u001b[0m\n\u001b[0;32m      5\u001b[0m     \u001b[1;32melse\u001b[0m\u001b[1;33m:\u001b[0m\u001b[1;33m\u001b[0m\u001b[1;33m\u001b[0m\u001b[0m\n\u001b[1;32m----> 6\u001b[1;33m         \u001b[1;32mreturn\u001b[0m \u001b[0mfib\u001b[0m\u001b[1;33m(\u001b[0m\u001b[0mn\u001b[0m\u001b[1;33m-\u001b[0m\u001b[1;36m1\u001b[0m\u001b[1;33m)\u001b[0m \u001b[1;33m+\u001b[0m \u001b[0mfib\u001b[0m\u001b[1;33m(\u001b[0m\u001b[0mn\u001b[0m\u001b[1;33m-\u001b[0m\u001b[1;36m2\u001b[0m\u001b[1;33m)\u001b[0m\u001b[1;33m\u001b[0m\u001b[1;33m\u001b[0m\u001b[0m\n\u001b[0m",
      "\u001b[1;32m<ipython-input-62-e93445b48f64>\u001b[0m in \u001b[0;36mfib\u001b[1;34m(n)\u001b[0m\n\u001b[0;32m      4\u001b[0m         \u001b[1;32mreturn\u001b[0m \u001b[1;36m1\u001b[0m\u001b[1;33m\u001b[0m\u001b[1;33m\u001b[0m\u001b[0m\n\u001b[0;32m      5\u001b[0m     \u001b[1;32melse\u001b[0m\u001b[1;33m:\u001b[0m\u001b[1;33m\u001b[0m\u001b[1;33m\u001b[0m\u001b[0m\n\u001b[1;32m----> 6\u001b[1;33m         \u001b[1;32mreturn\u001b[0m \u001b[0mfib\u001b[0m\u001b[1;33m(\u001b[0m\u001b[0mn\u001b[0m\u001b[1;33m-\u001b[0m\u001b[1;36m1\u001b[0m\u001b[1;33m)\u001b[0m \u001b[1;33m+\u001b[0m \u001b[0mfib\u001b[0m\u001b[1;33m(\u001b[0m\u001b[0mn\u001b[0m\u001b[1;33m-\u001b[0m\u001b[1;36m2\u001b[0m\u001b[1;33m)\u001b[0m\u001b[1;33m\u001b[0m\u001b[1;33m\u001b[0m\u001b[0m\n\u001b[0m",
      "\u001b[1;32m<ipython-input-62-e93445b48f64>\u001b[0m in \u001b[0;36mfib\u001b[1;34m(n)\u001b[0m\n\u001b[0;32m      4\u001b[0m         \u001b[1;32mreturn\u001b[0m \u001b[1;36m1\u001b[0m\u001b[1;33m\u001b[0m\u001b[1;33m\u001b[0m\u001b[0m\n\u001b[0;32m      5\u001b[0m     \u001b[1;32melse\u001b[0m\u001b[1;33m:\u001b[0m\u001b[1;33m\u001b[0m\u001b[1;33m\u001b[0m\u001b[0m\n\u001b[1;32m----> 6\u001b[1;33m         \u001b[1;32mreturn\u001b[0m \u001b[0mfib\u001b[0m\u001b[1;33m(\u001b[0m\u001b[0mn\u001b[0m\u001b[1;33m-\u001b[0m\u001b[1;36m1\u001b[0m\u001b[1;33m)\u001b[0m \u001b[1;33m+\u001b[0m \u001b[0mfib\u001b[0m\u001b[1;33m(\u001b[0m\u001b[0mn\u001b[0m\u001b[1;33m-\u001b[0m\u001b[1;36m2\u001b[0m\u001b[1;33m)\u001b[0m\u001b[1;33m\u001b[0m\u001b[1;33m\u001b[0m\u001b[0m\n\u001b[0m",
      "\u001b[1;32m<ipython-input-62-e93445b48f64>\u001b[0m in \u001b[0;36mfib\u001b[1;34m(n)\u001b[0m\n\u001b[0;32m      4\u001b[0m         \u001b[1;32mreturn\u001b[0m \u001b[1;36m1\u001b[0m\u001b[1;33m\u001b[0m\u001b[1;33m\u001b[0m\u001b[0m\n\u001b[0;32m      5\u001b[0m     \u001b[1;32melse\u001b[0m\u001b[1;33m:\u001b[0m\u001b[1;33m\u001b[0m\u001b[1;33m\u001b[0m\u001b[0m\n\u001b[1;32m----> 6\u001b[1;33m         \u001b[1;32mreturn\u001b[0m \u001b[0mfib\u001b[0m\u001b[1;33m(\u001b[0m\u001b[0mn\u001b[0m\u001b[1;33m-\u001b[0m\u001b[1;36m1\u001b[0m\u001b[1;33m)\u001b[0m \u001b[1;33m+\u001b[0m \u001b[0mfib\u001b[0m\u001b[1;33m(\u001b[0m\u001b[0mn\u001b[0m\u001b[1;33m-\u001b[0m\u001b[1;36m2\u001b[0m\u001b[1;33m)\u001b[0m\u001b[1;33m\u001b[0m\u001b[1;33m\u001b[0m\u001b[0m\n\u001b[0m",
      "\u001b[1;32m<ipython-input-62-e93445b48f64>\u001b[0m in \u001b[0;36mfib\u001b[1;34m(n)\u001b[0m\n\u001b[0;32m      4\u001b[0m         \u001b[1;32mreturn\u001b[0m \u001b[1;36m1\u001b[0m\u001b[1;33m\u001b[0m\u001b[1;33m\u001b[0m\u001b[0m\n\u001b[0;32m      5\u001b[0m     \u001b[1;32melse\u001b[0m\u001b[1;33m:\u001b[0m\u001b[1;33m\u001b[0m\u001b[1;33m\u001b[0m\u001b[0m\n\u001b[1;32m----> 6\u001b[1;33m         \u001b[1;32mreturn\u001b[0m \u001b[0mfib\u001b[0m\u001b[1;33m(\u001b[0m\u001b[0mn\u001b[0m\u001b[1;33m-\u001b[0m\u001b[1;36m1\u001b[0m\u001b[1;33m)\u001b[0m \u001b[1;33m+\u001b[0m \u001b[0mfib\u001b[0m\u001b[1;33m(\u001b[0m\u001b[0mn\u001b[0m\u001b[1;33m-\u001b[0m\u001b[1;36m2\u001b[0m\u001b[1;33m)\u001b[0m\u001b[1;33m\u001b[0m\u001b[1;33m\u001b[0m\u001b[0m\n\u001b[0m",
      "\u001b[1;32m<ipython-input-62-e93445b48f64>\u001b[0m in \u001b[0;36mfib\u001b[1;34m(n)\u001b[0m\n\u001b[0;32m      4\u001b[0m         \u001b[1;32mreturn\u001b[0m \u001b[1;36m1\u001b[0m\u001b[1;33m\u001b[0m\u001b[1;33m\u001b[0m\u001b[0m\n\u001b[0;32m      5\u001b[0m     \u001b[1;32melse\u001b[0m\u001b[1;33m:\u001b[0m\u001b[1;33m\u001b[0m\u001b[1;33m\u001b[0m\u001b[0m\n\u001b[1;32m----> 6\u001b[1;33m         \u001b[1;32mreturn\u001b[0m \u001b[0mfib\u001b[0m\u001b[1;33m(\u001b[0m\u001b[0mn\u001b[0m\u001b[1;33m-\u001b[0m\u001b[1;36m1\u001b[0m\u001b[1;33m)\u001b[0m \u001b[1;33m+\u001b[0m \u001b[0mfib\u001b[0m\u001b[1;33m(\u001b[0m\u001b[0mn\u001b[0m\u001b[1;33m-\u001b[0m\u001b[1;36m2\u001b[0m\u001b[1;33m)\u001b[0m\u001b[1;33m\u001b[0m\u001b[1;33m\u001b[0m\u001b[0m\n\u001b[0m",
      "\u001b[1;32m<ipython-input-62-e93445b48f64>\u001b[0m in \u001b[0;36mfib\u001b[1;34m(n)\u001b[0m\n\u001b[0;32m      4\u001b[0m         \u001b[1;32mreturn\u001b[0m \u001b[1;36m1\u001b[0m\u001b[1;33m\u001b[0m\u001b[1;33m\u001b[0m\u001b[0m\n\u001b[0;32m      5\u001b[0m     \u001b[1;32melse\u001b[0m\u001b[1;33m:\u001b[0m\u001b[1;33m\u001b[0m\u001b[1;33m\u001b[0m\u001b[0m\n\u001b[1;32m----> 6\u001b[1;33m         \u001b[1;32mreturn\u001b[0m \u001b[0mfib\u001b[0m\u001b[1;33m(\u001b[0m\u001b[0mn\u001b[0m\u001b[1;33m-\u001b[0m\u001b[1;36m1\u001b[0m\u001b[1;33m)\u001b[0m \u001b[1;33m+\u001b[0m \u001b[0mfib\u001b[0m\u001b[1;33m(\u001b[0m\u001b[0mn\u001b[0m\u001b[1;33m-\u001b[0m\u001b[1;36m2\u001b[0m\u001b[1;33m)\u001b[0m\u001b[1;33m\u001b[0m\u001b[1;33m\u001b[0m\u001b[0m\n\u001b[0m",
      "\u001b[1;31mKeyboardInterrupt\u001b[0m: "
     ]
    }
   ],
   "source": [
    "# 큰 숫자를 재귀로 짜여진 fib()함수의 인자로 넘겨보세요.\n",
    "fib(50)"
   ]
  },
  {
   "cell_type": "code",
   "execution_count": 56,
   "metadata": {},
   "outputs": [
    {
     "name": "stdout",
     "output_type": "stream",
     "text": [
      "0 1\n",
      "1 1\n",
      "2 2\n",
      "3 3\n",
      "4 5\n",
      "5 8\n",
      "6 13\n",
      "7 21\n",
      "8 34\n",
      "9 55\n",
      "10 89\n",
      "11 144\n",
      "12 233\n",
      "13 377\n",
      "14 610\n",
      "15 987\n",
      "16 1597\n",
      "17 2584\n",
      "18 4181\n",
      "19 6765\n",
      "20 10946\n",
      "21 17711\n",
      "22 28657\n",
      "23 46368\n",
      "24 75025\n",
      "25 121393\n",
      "26 196418\n",
      "27 317811\n",
      "28 514229\n",
      "29 832040\n",
      "30 1346269\n",
      "31 2178309\n",
      "32 3524578\n",
      "33 5702887\n",
      "34 9227465\n",
      "35 14930352\n",
      "36 24157817\n",
      "37 39088169\n",
      "38 63245986\n",
      "39 102334155\n",
      "40 165580141\n",
      "41 267914296\n",
      "42 433494437\n",
      "43 701408733\n",
      "44 1134903170\n",
      "45 1836311903\n",
      "46 2971215073\n",
      "47 4807526976\n",
      "48 7778742049\n",
      "49 12586269025\n",
      "50 20365011074\n",
      "51 32951280099\n",
      "52 53316291173\n",
      "53 86267571272\n",
      "54 139583862445\n",
      "55 225851433717\n",
      "56 365435296162\n",
      "57 591286729879\n",
      "58 956722026041\n",
      "59 1548008755920\n",
      "60 2504730781961\n",
      "61 4052739537881\n",
      "62 6557470319842\n",
      "63 10610209857723\n",
      "64 17167680177565\n",
      "65 27777890035288\n",
      "66 44945570212853\n",
      "67 72723460248141\n",
      "68 117669030460994\n",
      "69 190392490709135\n",
      "70 308061521170129\n",
      "71 498454011879264\n",
      "72 806515533049393\n",
      "73 1304969544928657\n",
      "74 2111485077978050\n",
      "75 3416454622906707\n",
      "76 5527939700884757\n",
      "77 8944394323791464\n",
      "78 14472334024676221\n",
      "79 23416728348467685\n",
      "80 37889062373143906\n",
      "81 61305790721611591\n",
      "82 99194853094755497\n",
      "83 160500643816367088\n",
      "84 259695496911122585\n",
      "85 420196140727489673\n",
      "86 679891637638612258\n",
      "87 1100087778366101931\n",
      "88 1779979416004714189\n",
      "89 2880067194370816120\n",
      "90 4660046610375530309\n",
      "91 7540113804746346429\n",
      "92 12200160415121876738\n",
      "93 19740274219868223167\n",
      "94 31940434634990099905\n",
      "95 51680708854858323072\n",
      "96 83621143489848422977\n",
      "97 135301852344706746049\n",
      "98 218922995834555169026\n",
      "99 354224848179261915075\n",
      "100 573147844013817084101\n",
      "101 927372692193078999176\n",
      "102 1500520536206896083277\n",
      "103 2427893228399975082453\n",
      "104 3928413764606871165730\n",
      "105 6356306993006846248183\n",
      "106 10284720757613717413913\n",
      "107 16641027750620563662096\n",
      "108 26925748508234281076009\n",
      "109 43566776258854844738105\n",
      "110 70492524767089125814114\n",
      "111 114059301025943970552219\n",
      "112 184551825793033096366333\n",
      "113 298611126818977066918552\n",
      "114 483162952612010163284885\n",
      "115 781774079430987230203437\n",
      "116 1264937032042997393488322\n",
      "117 2046711111473984623691759\n",
      "118 3311648143516982017180081\n",
      "119 5358359254990966640871840\n",
      "120 8670007398507948658051921\n",
      "121 14028366653498915298923761\n",
      "122 22698374052006863956975682\n",
      "123 36726740705505779255899443\n",
      "124 59425114757512643212875125\n",
      "125 96151855463018422468774568\n",
      "126 155576970220531065681649693\n",
      "127 251728825683549488150424261\n",
      "128 407305795904080553832073954\n",
      "129 659034621587630041982498215\n",
      "130 1066340417491710595814572169\n",
      "131 1725375039079340637797070384\n",
      "132 2791715456571051233611642553\n",
      "133 4517090495650391871408712937\n",
      "134 7308805952221443105020355490\n",
      "135 11825896447871834976429068427\n",
      "136 19134702400093278081449423917\n",
      "137 30960598847965113057878492344\n",
      "138 50095301248058391139327916261\n",
      "139 81055900096023504197206408605\n",
      "140 131151201344081895336534324866\n",
      "141 212207101440105399533740733471\n",
      "142 343358302784187294870275058337\n",
      "143 555565404224292694404015791808\n",
      "144 898923707008479989274290850145\n",
      "145 1454489111232772683678306641953\n",
      "146 2353412818241252672952597492098\n",
      "147 3807901929474025356630904134051\n",
      "148 6161314747715278029583501626149\n",
      "149 9969216677189303386214405760200\n",
      "150 16130531424904581415797907386349\n",
      "151 26099748102093884802012313146549\n",
      "152 42230279526998466217810220532898\n",
      "153 68330027629092351019822533679447\n",
      "154 110560307156090817237632754212345\n",
      "155 178890334785183168257455287891792\n",
      "156 289450641941273985495088042104137\n",
      "157 468340976726457153752543329995929\n",
      "158 757791618667731139247631372100066\n",
      "159 1226132595394188293000174702095995\n",
      "160 1983924214061919432247806074196061\n",
      "161 3210056809456107725247980776292056\n",
      "162 5193981023518027157495786850488117\n",
      "163 8404037832974134882743767626780173\n",
      "164 13598018856492162040239554477268290\n",
      "165 22002056689466296922983322104048463\n",
      "166 35600075545958458963222876581316753\n",
      "167 57602132235424755886206198685365216\n",
      "168 93202207781383214849429075266681969\n",
      "169 150804340016807970735635273952047185\n",
      "170 244006547798191185585064349218729154\n",
      "171 394810887814999156320699623170776339\n",
      "172 638817435613190341905763972389505493\n",
      "173 1033628323428189498226463595560281832\n",
      "174 1672445759041379840132227567949787325\n",
      "175 2706074082469569338358691163510069157\n",
      "176 4378519841510949178490918731459856482\n",
      "177 7084593923980518516849609894969925639\n",
      "178 11463113765491467695340528626429782121\n",
      "179 18547707689471986212190138521399707760\n",
      "180 30010821454963453907530667147829489881\n",
      "181 48558529144435440119720805669229197641\n",
      "182 78569350599398894027251472817058687522\n",
      "183 127127879743834334146972278486287885163\n",
      "184 205697230343233228174223751303346572685\n",
      "185 332825110087067562321196029789634457848\n",
      "186 538522340430300790495419781092981030533\n",
      "187 871347450517368352816615810882615488381\n",
      "188 1409869790947669143312035591975596518914\n",
      "189 2281217241465037496128651402858212007295\n",
      "190 3691087032412706639440686994833808526209\n",
      "191 5972304273877744135569338397692020533504\n",
      "192 9663391306290450775010025392525829059713\n",
      "193 15635695580168194910579363790217849593217\n",
      "194 25299086886458645685589389182743678652930\n",
      "195 40934782466626840596168752972961528246147\n",
      "196 66233869353085486281758142155705206899077\n",
      "197 107168651819712326877926895128666735145224\n",
      "198 173402521172797813159685037284371942044301\n",
      "199 280571172992510140037611932413038677189525\n",
      "200 453973694165307953197296969697410619233826\n",
      "201 734544867157818093234908902110449296423351\n",
      "202 1188518561323126046432205871807859915657177\n",
      "203 1923063428480944139667114773918309212080528\n",
      "204 3111581989804070186099320645726169127737705\n",
      "205 5034645418285014325766435419644478339818233\n",
      "206 8146227408089084511865756065370647467555938\n",
      "207 13180872826374098837632191485015125807374171\n",
      "208 21327100234463183349497947550385773274930109\n",
      "209 34507973060837282187130139035400899082304280\n",
      "210 55835073295300465536628086585786672357234389\n",
      "211 90343046356137747723758225621187571439538669\n",
      "212 146178119651438213260386312206974243796773058\n",
      "213 236521166007575960984144537828161815236311727\n",
      "214 382699285659014174244530850035136059033084785\n",
      "215 619220451666590135228675387863297874269396512\n",
      "216 1001919737325604309473206237898433933302481297\n",
      "217 1621140188992194444701881625761731807571877809\n",
      "218 2623059926317798754175087863660165740874359106\n",
      "219 4244200115309993198876969489421897548446236915\n",
      "220 6867260041627791953052057353082063289320596021\n",
      "221 11111460156937785151929026842503960837766832936\n",
      "222 17978720198565577104981084195586024127087428957\n",
      "223 29090180355503362256910111038089984964854261893\n",
      "224 47068900554068939361891195233676009091941690850\n",
      "225 76159080909572301618801306271765994056795952743\n",
      "226 123227981463641240980692501505442003148737643593\n",
      "227 199387062373213542599493807777207997205533596336\n",
      "228 322615043836854783580186309282650000354271239929\n",
      "229 522002106210068326179680117059857997559804836265\n",
      "230 844617150046923109759866426342507997914076076194\n",
      "231 1366619256256991435939546543402365995473880912459\n",
      "232 2211236406303914545699412969744873993387956988653\n",
      "233 3577855662560905981638959513147239988861837901112\n",
      "234 5789092068864820527338372482892113982249794889765\n",
      "235 9366947731425726508977331996039353971111632790877\n",
      "236 15156039800290547036315704478931467953361427680642\n",
      "237 24522987531716273545293036474970821924473060471519\n",
      "238 39679027332006820581608740953902289877834488152161\n",
      "239 64202014863723094126901777428873111802307548623680\n",
      "240 103881042195729914708510518382775401680142036775841\n",
      "241 168083057059453008835412295811648513482449585399521\n",
      "242 271964099255182923543922814194423915162591622175362\n",
      "243 440047156314635932379335110006072428645041207574883\n",
      "244 712011255569818855923257924200496343807632829750245\n",
      "245 1152058411884454788302593034206568772452674037325128\n",
      "246 1864069667454273644225850958407065116260306867075373\n",
      "247 3016128079338728432528443992613633888712980904400501\n",
      "248 4880197746793002076754294951020699004973287771475874\n",
      "249 7896325826131730509282738943634332893686268675876375\n",
      "250 12776523572924732586037033894655031898659556447352249\n",
      "251 20672849399056463095319772838289364792345825123228624\n",
      "252 33449372971981195681356806732944396691005381570580873\n",
      "253 54122222371037658776676579571233761483351206693809497\n",
      "254 87571595343018854458033386304178158174356588264390370\n",
      "255 141693817714056513234709965875411919657707794958199867\n",
      "256 229265413057075367692743352179590077832064383222590237\n",
      "257 370959230771131880927453318055001997489772178180790104\n",
      "258 600224643828207248620196670234592075321836561403380341\n",
      "259 971183874599339129547649988289594072811608739584170445\n",
      "260 1571408518427546378167846658524186148133445300987550786\n",
      "261 2542592393026885507715496646813780220945054040571721231\n",
      "262 4114000911454431885883343305337966369078499341559272017\n",
      "263 6656593304481317393598839952151746590023553382130993248\n",
      "264 10770594215935749279482183257489712959102052723690265265\n",
      "265 17427187520417066673081023209641459549125606105821258513\n",
      "266 28197781736352815952563206467131172508227658829511523778\n",
      "267 45624969256769882625644229676772632057353264935332782291\n",
      "268 73822750993122698578207436143903804565580923764844306069\n",
      "269 119447720249892581203851665820676436622934188700177088360\n",
      "270 193270471243015279782059101964580241188515112465021394429\n",
      "271 312718191492907860985910767785256677811449301165198482789\n",
      "272 505988662735923140767969869749836918999964413630219877218\n",
      "273 818706854228831001753880637535093596811413714795418360007\n",
      "274 1324695516964754142521850507284930515811378128425638237225\n",
      "275 2143402371193585144275731144820024112622791843221056597232\n",
      "276 3468097888158339286797581652104954628434169971646694834457\n",
      "277 5611500259351924431073312796924978741056961814867751431689\n",
      "278 9079598147510263717870894449029933369491131786514446266146\n",
      "279 14691098406862188148944207245954912110548093601382197697835\n",
      "280 23770696554372451866815101694984845480039225387896643963981\n",
      "281 38461794961234640015759308940939757590587318989278841661816\n",
      "282 62232491515607091882574410635924603070626544377175485625797\n",
      "283 100694286476841731898333719576864360661213863366454327287613\n",
      "284 162926777992448823780908130212788963731840407743629812913410\n",
      "285 263621064469290555679241849789653324393054271110084140201023\n",
      "286 426547842461739379460149980002442288124894678853713953114433\n",
      "287 690168906931029935139391829792095612517948949963798093315456\n",
      "288 1116716749392769314599541809794537900642843628817512046429889\n",
      "289 1806885656323799249738933639586633513160792578781310139745345\n",
      "290 2923602405716568564338475449381171413803636207598822186175234\n",
      "291 4730488062040367814077409088967804926964428786380132325920579\n",
      "292 7654090467756936378415884538348976340768064993978954512095813\n",
      "293 12384578529797304192493293627316781267732493780359086838016392\n",
      "294 20038668997554240570909178165665757608500558774338041350112205\n",
      "295 32423247527351544763402471792982538876233052554697128188128597\n",
      "296 52461916524905785334311649958648296484733611329035169538240802\n",
      "297 84885164052257330097714121751630835360966663883732297726369399\n",
      "298 137347080577163115432025771710279131845700275212767467264610201\n",
      "299 222232244629420445529739893461909967206666939096499764990979600\n",
      "300 359579325206583560961765665172189099052367214309267232255589801\n",
      "301 581811569836004006491505558634099066259034153405766997246569401\n",
      "302 941390895042587567453271223806288165311401367715034229502159202\n",
      "303 1523202464878591573944776782440387231570435521120801226748728603\n",
      "304 2464593359921179141398048006246675396881836888835835456250887805\n",
      "305 3987795824799770715342824788687062628452272409956636682999616408\n",
      "306 6452389184720949856740872794933738025334109298792472139250504213\n",
      "307 10440185009520720572083697583620800653786381708749108822250120621\n",
      "308 16892574194241670428824570378554538679120491007541580961500624834\n",
      "309 27332759203762391000908267962175339332906872716290689783750745455\n",
      "310 44225333398004061429732838340729878012027363723832270745251370289\n",
      "311 71558092601766452430641106302905217344934236440122960529002115744\n",
      "312 115783425999770513860373944643635095356961600163955231274253486033\n",
      "313 187341518601536966291015050946540312701895836604078191803255601777\n",
      "314 303124944601307480151388995590175408058857436768033423077509087810\n",
      "315 490466463202844446442404046536715720760753273372111614880764689587\n",
      "316 793591407804151926593793042126891128819610710140145037958273777397\n",
      "317 1284057871006996373036197088663606849580363983512256652839038466984\n",
      "318 2077649278811148299629990130790497978399974693652401690797312244381\n",
      "319 3361707149818144672666187219454104827980338677164658343636350711365\n",
      "320 5439356428629292972296177350244602806380313370817060034433662955746\n",
      "321 8801063578447437644962364569698707634360652047981718378070013667111\n",
      "322 14240420007076730617258541919943310440740965418798778412503676622857\n",
      "323 23041483585524168262220906489642018075101617466780496790573690289968\n",
      "324 37281903592600898879479448409585328515842582885579275203077366912825\n",
      "325 60323387178125067141700354899227346590944200352359771993651057202793\n",
      "326 97605290770725966021179803308812675106786783237939047196728424115618\n",
      "327 157928677948851033162880158208040021697730983590298819190379481318411\n",
      "328 255533968719576999184059961516852696804517766828237866387107905434029\n",
      "329 413462646668428032346940119724892718502248750418536685577487386752440\n",
      "330 668996615388005031531000081241745415306766517246774551964595292186469\n",
      "331 1082459262056433063877940200966638133809015267665311237542082678938909\n",
      "332 1751455877444438095408940282208383549115781784912085789506677971125378\n",
      "333 2833915139500871159286880483175021682924797052577397027048760650064287\n",
      "334 4585371016945309254695820765383405232040578837489482816555438621189665\n",
      "335 7419286156446180413982701248558426914965375890066879843604199271253952\n",
      "336 12004657173391489668678522013941832147005954727556362660159637892443617\n",
      "337 19423943329837670082661223262500259061971330617623242503763837163697569\n",
      "338 31428600503229159751339745276442091208977285345179605163923475056141186\n",
      "339 50852543833066829834000968538942350270948615962802847667687312219838755\n",
      "340 82281144336295989585340713815384441479925901307982452831610787275979941\n",
      "341 133133688169362819419341682354326791750874517270785300499298099495818696\n",
      "342 215414832505658809004682396169711233230800418578767753330908886771798637\n",
      "343 348548520675021628424024078524038024981674935849553053830206986267617333\n",
      "344 563963353180680437428706474693749258212475354428320807161115873039415970\n",
      "345 912511873855702065852730553217787283194150290277873860991322859307033303\n",
      "346 1476475227036382503281437027911536541406625644706194668152438732346449273\n",
      "347 2388987100892084569134167581129323824600775934984068529143761591653482576\n",
      "348 3865462327928467072415604609040860366007401579690263197296200323999931849\n",
      "349 6254449428820551641549772190170184190608177514674331726439961915653414425\n",
      "350 10119911756749018713965376799211044556615579094364594923736162239653346274\n",
      "351 16374361185569570355515148989381228747223756609038926650176124155306760699\n",
      "352 26494272942318589069480525788592273303839335703403521573912286394960106973\n",
      "353 42868634127888159424995674777973502051063092312442448224088410550266867672\n",
      "354 69362907070206748494476200566565775354902428015845969798000696945226974645\n",
      "355 112231541198094907919471875344539277405965520328288418022089107495493842317\n",
      "356 181594448268301656413948075911105052760867948344134387820089804440720816962\n",
      "357 293825989466396564333419951255644330166833468672422805842178911936214659279\n",
      "358 475420437734698220747368027166749382927701417016557193662268716376935476241\n",
      "359 769246427201094785080787978422393713094534885688979999504447628313150135520\n",
      "360 1244666864935793005828156005589143096022236302705537193166716344690085611761\n",
      "361 2013913292136887790908943984011536809116771188394517192671163973003235747281\n",
      "362 3258580157072680796737099989600679905139007491100054385837880317693321359042\n",
      "363 5272493449209568587646043973612216714255778679494571578509044290696557106323\n",
      "364 8531073606282249384383143963212896619394786170594625964346924608389878465365\n",
      "365 13803567055491817972029187936825113333650564850089197542855968899086435571688\n",
      "366 22334640661774067356412331900038009953045351020683823507202893507476314037053\n",
      "367 36138207717265885328441519836863123286695915870773021050058862406562749608741\n",
      "368 58472848379039952684853851736901133239741266891456844557261755914039063645794\n",
      "369 94611056096305838013295371573764256526437182762229865607320618320601813254535\n",
      "370 153083904475345790698149223310665389766178449653686710164582374234640876900329\n",
      "371 247694960571651628711444594884429646292615632415916575771902992555242690154864\n",
      "372 400778865046997419409593818195095036058794082069603285936485366789883567055193\n",
      "373 648473825618649048121038413079524682351409714485519861708388359345126257210057\n",
      "374 1049252690665646467530632231274619718410203796555123147644873726135009824265250\n",
      "375 1697726516284295515651670644354144400761613511040643009353262085480136081475307\n",
      "376 2746979206949941983182302875628764119171817307595766156998135811615145905740557\n",
      "377 4444705723234237498833973519982908519933430818636409166351397897095281987215864\n",
      "378 7191684930184179482016276395611672639105248126232175323349533708710427892956421\n",
      "379 11636390653418416980850249915594581159038678944868584489700931605805709880172285\n",
      "380 18828075583602596462866526311206253798143927071100759813050465314516137773128706\n",
      "381 30464466237021013443716776226800834957182606015969344302751396920321847653300991\n",
      "382 49292541820623609906583302538007088755326533087070104115801862234837985426429697\n",
      "383 79757008057644623350300078764807923712509139103039448418553259155159833079730688\n",
      "384 129049549878268233256883381302815012467835672190109552534355121389997818506160385\n",
      "385 208806557935912856607183460067622936180344811293149000952908380545157651585891073\n",
      "386 337856107814181089864066841370437948648180483483258553487263501935155470092051458\n",
      "387 546662665750093946471250301438060884828525294776407554440171882480313121677942531\n",
      "388 884518773564275036335317142808498833476705778259666107927435384415468591769993989\n",
      "389 1431181439314368982806567444246559718305231073036073662367607266895781713447936520\n",
      "390 2315700212878644019141884587055058551781936851295739770295042651311250305217930509\n",
      "391 3746881652193013001948452031301618270087167924331813432662649918207032018665867029\n",
      "392 6062581865071657021090336618356676821869104775627553202957692569518282323883797538\n",
      "393 9809463517264670023038788649658295091956272699959366635620342487725314342549664567\n",
      "394 15872045382336327044129125268014971913825377475586919838578035057243596666433462105\n",
      "395 25681508899600997067167913917673267005781650175546286474198377544968911008983126672\n",
      "396 41553554281937324111297039185688238919607027651133206312776412602212507675416588777\n",
      "397 67235063181538321178464953103361505925388677826679492786974790147181418684399715449\n",
      "398 108788617463475645289761992289049744844995705477812699099751202749393926359816304226\n",
      "399 176023680645013966468226945392411250770384383304492191886725992896575345044216019675\n",
      "400 284812298108489611757988937681460995615380088782304890986477195645969271404032323901\n",
      "401 460835978753503578226215883073872246385764472086797082873203188542544616448248343576\n",
      "402 745648276861993189984204820755333242001144560869101973859680384188513887852280667477\n",
      "403 1206484255615496768210420703829205488386909032955899056732883572731058504300529011053\n",
      "404 1952132532477489958194625524584538730388053593825001030592563956919572392152809678530\n",
      "405 3158616788092986726405046228413744218774962626780900087325447529650630896453338689583\n",
      "406 5110749320570476684599671752998282949163016220605901117918011486570203288606148368113\n",
      "407 8269366108663463411004717981412027167937978847386801205243459016220834185059487057696\n",
      "408 13380115429233940095604389734410310117100995067992702323161470502791037473665635425809\n",
      "409 21649481537897403506609107715822337285038973915379503528404929519011871658725122483505\n",
      "410 35029596967131343602213497450232647402139968983372205851566400021802909132390757909314\n",
      "411 56679078505028747108822605166054984687178942898751709379971329540814780791115880392819\n",
      "412 91708675472160090711036102616287632089318911882123915231537729562617689923506638302133\n",
      "413 148387753977188837819858707782342616776497854780875624611509059103432470714622518694952\n",
      "414 240096429449348928530894810398630248865816766662999539843046788666050160638129156997085\n",
      "415 388484183426537766350753518180972865642314621443875164454555847769482631352751675692037\n",
      "416 628580612875886694881648328579603114508131388106874704297602636435532791990880832689122\n",
      "417 1017064796302424461232401846760575980150446009550749868752158484205015423343632508381159\n",
      "418 1645645409178311156114050175340179094658577397657624573049761120640548215334513341070281\n",
      "419 2662710205480735617346452022100755074809023407208374441801919604845563638678145849451440\n",
      "420 4308355614659046773460502197440934169467600804865999014851680725486111854012659190521721\n",
      "421 6971065820139782390806954219541689244276624212074373456653600330331675492690805039973161\n",
      "422 11279421434798829164267456416982623413744225016940372471505281055817787346703464230494882\n",
      "423 18250487254938611555074410636524312658020849229014745928158881386149462839394269270468043\n",
      "424 29529908689737440719341867053506936071765074245955118399664162441967250186097733500962925\n",
      "425 47780395944676052274416277690031248729785923474969864327823043828116713025492002771430968\n",
      "426 77310304634413492993758144743538184801550997720924982727487206270083963211589736272393893\n",
      "427 125090700579089545268174422433569433531336921195894847055310250098200676237081739043824861\n",
      "428 202401005213503038261932567177107618332887918916819829782797456368284639448671475316218754\n",
      "429 327491705792592583530106989610677051864224840112714676838107706466485315685753214360043615\n",
      "430 529892711006095621792039556787784670197112759029534506620905162834769955134424689676262369\n",
      "431 857384416798688205322146546398461722061337599142249183459012869301255270820177904036305984\n",
      "432 1387277127804783827114186103186246392258450358171783690079918032136025225954602593712568353\n",
      "433 2244661544603472032436332649584708114319787957314032873538930901437280496774780497748874337\n",
      "434 3631938672408255859550518752770954506578238315485816563618848933573305722729383091461442690\n",
      "435 5876600217011727891986851402355662620898026272799849437157779835010586219504163589210317027\n",
      "436 9508538889419983751537370155126617127476264588285666000776628768583891942233546680671759717\n",
      "437 15385139106431711643524221557482279748374290861085515437934408603594478161737710269882076744\n",
      "438 24893677995851695395061591712608896875850555449371181438711037372178370103971256950553836461\n",
      "439 40278817102283407038585813270091176624224846310456696876645445975772848265708967220435913205\n",
      "440 65172495098135102433647404982700073500075401759827878315356483347951218369680224170989749666\n",
      "441 105451312200418509472233218252791250124300248070284575192001929323724066635389191391425662871\n",
      "442 170623807298553611905880623235491323624375649830112453507358412671675285005069415562415412537\n",
      "443 276075119498972121378113841488282573748675897900397028699360341995399351640458606953841075408\n",
      "444 446698926797525733283994464723773897373051547730509482206718754667074636645528022516256487945\n",
      "445 722774046296497854662108306212056471121727445630906510906079096662473988285986629470097563353\n",
      "446 1169472973094023587946102770935830368494778993361415993112797851329548624931514651986354051298\n",
      "447 1892247019390521442608211077147886839616506438992322504018876947992022613217501281456451614651\n",
      "448 3061719992484545030554313848083717208111285432353738497131674799321571238149015933442805665949\n",
      "449 4953967011875066473162524925231604047727791871346061001150551747313593851366517214899257280600\n",
      "450 8015687004359611503716838773315321255839077303699799498282226546635165089515533148342062946549\n",
      "451 12969654016234677976879363698546925303566869175045860499432778293948758940882050363241320227149\n",
      "452 20985341020594289480596202471862246559405946478745659997715004840583924030397583511583383173698\n",
      "453 33954995036828967457475566170409171862972815653791520497147783134532682971279633874824703400847\n",
      "454 54940336057423256938071768642271418422378762132537180494862787975116607001677217386408086574545\n",
      "455 88895331094252224395547334812680590285351577786328700992010571109649289972956851261232789975392\n",
      "456 143835667151675481333619103454952008707730339918865881486873359084765896974634068647640876549937\n",
      "457 232730998245927705729166438267632598993081917705194582478883930194415186947590919908873666525329\n",
      "458 376566665397603187062785541722584607700812257624060463965757289279181083922224988556514543075266\n",
      "459 609297663643530892791951979990217206693894175329255046444641219473596270869815908465388209600595\n",
      "460 985864329041134079854737521712801814394706432953315510410398508752777354792040897021902752675861\n",
      "461 1595161992684664972646689501703019021088600608282570556855039728226373625661856805487290962276456\n",
      "462 2581026321725799052501427023415820835483307041235886067265438236979150980453897702509193714952317\n",
      "463 4176188314410464025148116525118839856571907649518456624120477965205524606115754507996484677228773\n",
      "464 6757214636136263077649543548534660692055214690754342691385916202184675586569652210505678392181090\n",
      "465 10933402950546727102797660073653500548627122340272799315506394167390200192685406718502163069409863\n",
      "466 17690617586682990180447203622188161240682337031027142006892310369574875779255058929007841461590953\n",
      "467 28624020537229717283244863695841661789309459371299941322398704536965075971940465647510004531000816\n",
      "468 46314638123912707463692067318029823029991796402327083329291014906539951751195524576517845992591769\n",
      "469 74938658661142424746936931013871484819301255773627024651689719443505027723135990224027850523592585\n",
      "470 121253296785055132210628998331901307849293052175954107980980734350044979474331514800545696516184354\n",
      "471 196191955446197556957565929345772792668594307949581132632670453793550007197467505024573547039776939\n",
      "472 317445252231252689168194927677674100517887360125535240613651188143594986671799019825119243555961293\n",
      "473 513637207677450246125760857023446893186481668075116373246321641937144993869266524849692790595738232\n",
      "474 831082459908702935293955784701120993704369028200651613859972830080739980541065544674812034151699525\n",
      "475 1344719667586153181419716641724567886890850696275767987106294472017884974410332069524504824747437757\n",
      "476 2175802127494856116713672426425688880595219724476419600966267302098624954951397614199316858899137282\n",
      "477 3520521795081009298133389068150256767486070420752187588072561774116509929361729683723821683646575039\n",
      "478 5696323922575865414847061494575945648081290145228607189038829076215134884313127297923138542545712321\n",
      "479 9216845717656874712980450562726202415567360565980794777111390850331644813674856981646960226192287360\n",
      "480 14913169640232740127827512057302148063648650711209401966150219926546779697987984279570098768737999681\n",
      "481 24130015357889614840807962620028350479216011277190196743261610776878424511662841261217058994930287041\n",
      "482 39043184998122354968635474677330498542864661988399598709411830703425204209650825540787157763668286722\n",
      "483 63173200356011969809443437297358849022080673265589795452673441480303628721313666802004216758598573763\n",
      "484 102216385354134324778078911974689347564945335253989394162085272183728832930964492342791374522266860485\n",
      "485 165389585710146294587522349272048196587026008519579189614758713664032461652278159144795591280865434248\n",
      "486 267605971064280619365601261246737544151971343773568583776843985847761294583242651487586965803132294733\n",
      "487 432995556774426913953123610518785740738997352293147773391602699511793756235520810632382557083997728981\n",
      "488 700601527838707533318724871765523284890968696066716357168446685359555050818763462119969522887130023714\n",
      "489 1133597084613134447271848482284309025629966048359864130560049384871348807054284272752352079971127752695\n",
      "490 1834198612451841980590573354049832310520934744426580487728496070230903857873047734872321602858257776409\n",
      "491 2967795697064976427862421836334141336150900792786444618288545455102252664927332007624673682829385529104\n",
      "492 4801994309516818408452995190383973646671835537213025106017041525333156522800379742496995285687643305513\n",
      "493 7769790006581794836315417026718114982822736329999469724305586980435409187727711750121668968517028834617\n",
      "494 12571784316098613244768412217102088629494571867212494830322628505768565710528091492618664254204672140130\n",
      "495 20341574322680408081083829243820203612317308197211964554628215486203974898255803242740333222721700974747\n",
      "496 32913358638779021325852241460922292241811880064424459384950843991972540608783894735358997476926373114877\n",
      "497 53254932961459429406936070704742495854129188261636423939579059478176515507039697978099330699648074089624\n",
      "498 86168291600238450732788312165664788095941068326060883324529903470149056115823592713458328176574447204501\n",
      "499 139423224561697880139724382870407283950070256587697307264108962948325571622863290691557658876222521294125\n",
      "500 225591516161936330872512695036072072046011324913758190588638866418474627738686883405015987052796968498626\n"
     ]
    },
    {
     "data": {
      "text/plain": [
       "225591516161936330872512695036072072046011324913758190588638866418474627738686883405015987052796968498626"
      ]
     },
     "execution_count": 56,
     "metadata": {},
     "output_type": "execute_result"
    }
   ],
   "source": [
    "# 100배 되는 숫자를 반복문으로 짜여진 fib_loop()인자로 넘겨보세요.\n",
    "fib_loop(500)"
   ]
  },
  {
   "cell_type": "markdown",
   "metadata": {},
   "source": [
    "#### 속도의 차이를 느껴보자\n",
    "\n",
    "\n",
    "###### for문이 더 빠른데 왜 재귀씀? (https://kldp.org/node/134556)\n",
    "- 알고리즘 자체가 재귀적인 표현이 자연스러운 경우 **예를 들어 점화식**\n",
    "- 재귀 호출은 '변수 사용'을 줄여줄 수 있다."
   ]
  },
  {
   "cell_type": "markdown",
   "metadata": {},
   "source": [
    "## 실습문제 - 하노이의 탑\n",
    "\n",
    "> 다음은 하노이의 탑이다. \n",
    ">\n",
    "> 하노이의 탑을 풀이하는 해법(한쪽 탑의 원판을 다른 탑으로 모두 옮기는 법을 출력하는 함수를 만드세요.\n",
    "> \n",
    "> 참고링크 : https://ko.khanacademy.org/computing/computer-science/algorithms/towers-of-hanoi/a/towers-of-hanoi\n",
    "\n",
    "<br>\n",
    "<br>\n",
    "<center>\n",
    "    <img src=\"./images/03/hanoi.gif\", alt=\"\">\n",
    "</center>\n",
    "\n",
    "1. 한 번에 한개의 층만을 다른 기둥으로 옮길 수 있다\n",
    "2. 옮기려는 기둥에는 아무것도 없거나 옮기려는 층보다 큰 층이 있을 경우에만 옮길 수 있다\n",
    "3. 옮기려는 기둥에 옮기려는 층보다 작은 층이 이미 있을 경우 그 기둥으로 옮길 수 없다.\n",
    "4. 가능한 적은 회수로 전체 탑을 다른 기둥으로 옮긴다."
   ]
  },
  {
   "cell_type": "code",
   "execution_count": 73,
   "metadata": {},
   "outputs": [],
   "source": [
    "# 아래에 코드를 작성해주세요.\n",
    "def hanoi(n, start, tmp, end):\n",
    "    if n:\n",
    "        hanoi(n-1, start, end, tmp)\n",
    "        print(f'{n}번째 원판을, {start} -> {end}')\n",
    "        hanoi(n-1, tmp, start, end)"
   ]
  },
  {
   "cell_type": "code",
   "execution_count": 74,
   "metadata": {},
   "outputs": [
    {
     "name": "stdout",
     "output_type": "stream",
     "text": [
      "1번째 원판을, a -> c\n",
      "2번째 원판을, a -> b\n",
      "1번째 원판을, c -> b\n",
      "3번째 원판을, a -> c\n",
      "1번째 원판을, b -> a\n",
      "2번째 원판을, b -> c\n",
      "1번째 원판을, a -> c\n"
     ]
    }
   ],
   "source": [
    "hanoi(3, 'a', 'b', 'c')"
   ]
  }
 ],
 "metadata": {
  "kernelspec": {
   "display_name": "Python 3",
   "language": "python",
   "name": "python3"
  },
  "language_info": {
   "codemirror_mode": {
    "name": "ipython",
    "version": 3
   },
   "file_extension": ".py",
   "mimetype": "text/x-python",
   "name": "python",
   "nbconvert_exporter": "python",
   "pygments_lexer": "ipython3",
   "version": "3.7.3"
  },
  "toc": {
   "base_numbering": 1,
   "nav_menu": {},
   "number_sections": true,
   "sideBar": true,
   "skip_h1_title": false,
   "title_cell": "Table of Contents",
   "title_sidebar": "Contents",
   "toc_cell": false,
   "toc_position": {
    "height": "calc(100% - 180px)",
    "left": "10px",
    "top": "150px",
    "width": "361.141px"
   },
   "toc_section_display": true,
   "toc_window_display": true
  }
 },
 "nbformat": 4,
 "nbformat_minor": 2
}
