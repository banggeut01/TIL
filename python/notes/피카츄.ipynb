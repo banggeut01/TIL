{
 "cells": [
  {
   "cell_type": "code",
   "execution_count": null,
   "metadata": {},
   "outputs": [],
   "source": [
    "import random\n",
    "\n",
    "class Pikachu:\n",
    "    # !주의! TypeError: __init__() should return None, not 'str'\n",
    "    # init은 return None\n",
    "    def __init__(self, name):\n",
    "        self.name = name\n",
    "        self.level = 5\n",
    "        self.hp = self.level * random.randint(15, 20)\n",
    "        self.exp = 0\n",
    "        print(f'안녕 나는 {self.name}')\n",
    "        \n",
    "    def bark(self):\n",
    "        return f'{self.name} : ppika...'\n",
    "    \n",
    "    def body_attack(self, enemy):\n",
    "        print(f'{self.name}이 {enemy.name}을 몸통박치기 공격을 했다...!!')\n",
    "        if random.randint(0, 1):\n",
    "            enemy.hp -= self.level*5\n",
    "            print(f'{enemy.name}의 HP가 {enemy.hp}가 되었다...!!')\n",
    "        else:\n",
    "            print('공격에 실패했다.')\n",
    "            \n",
    "    def thousond_volt(self, enemy):\n",
    "        print(f'{self.name}이 {enemy.name}을 십만볼트 공격을 했다...!!')\n",
    "        if random.randint(0, 1):\n",
    "            enemy.hp -= self.level*7\n",
    "            print(f'{enemy.name}의 HP가 {enemy.hp}가 되었다...!!')\n",
    "        else:\n",
    "            print('공격에 실패했다.')"
   ]
  }
 ],
 "metadata": {
  "kernelspec": {
   "display_name": "Python 3",
   "language": "python",
   "name": "python3"
  },
  "language_info": {
   "codemirror_mode": {
    "name": "ipython",
    "version": 3
   },
   "file_extension": ".py",
   "mimetype": "text/x-python",
   "name": "python",
   "nbconvert_exporter": "python",
   "pygments_lexer": "ipython3",
   "version": "3.7.3"
  },
  "toc": {
   "base_numbering": 1,
   "nav_menu": {},
   "number_sections": true,
   "sideBar": true,
   "skip_h1_title": false,
   "title_cell": "Table of Contents",
   "title_sidebar": "Contents",
   "toc_cell": false,
   "toc_position": {},
   "toc_section_display": true,
   "toc_window_display": false
  }
 },
 "nbformat": 4,
 "nbformat_minor": 2
}
