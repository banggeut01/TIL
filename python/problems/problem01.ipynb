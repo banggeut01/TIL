{
 "cells": [
  {
   "cell_type": "markdown",
   "metadata": {},
   "source": [
    "# 상승장? 하락장?\n",
    "\n",
    "> 최고가와 최저가의 차이를 변동폭으로 정의할 때 (시가 + 변동폭)이 최고가 보다 높을 경우 \"상승장\", 그렇지 않은 경우 \"하락장\" 문자열을 출력하라.\n",
    "\n",
    "|Key Name|Description|\n",
    "|------|---|\n",
    "|opeing_price|최근 24시간 내 시작 거래금액|\n",
    "|closing_price|최근 24시간 내 마지막 거래금액|\n",
    "|min_price|최근 24시간 내 최저 거래금액|\n",
    "|max_price|최근 24시간 내 최고 거래금액|"
   ]
  },
  {
   "cell_type": "code",
   "execution_count": 2,
   "metadata": {},
   "outputs": [
    {
     "name": "stdout",
     "output_type": "stream",
     "text": [
      "{'24H_fluctate': '-1271000',\n",
      " '24H_fluctate_rate': '-9.35',\n",
      " 'average_price': '12700778.9601',\n",
      " 'buy_price': '12309000',\n",
      " 'closing_price': '12316000',\n",
      " 'date': '1563170523609',\n",
      " 'max_price': '13648000',\n",
      " 'min_price': '11879000',\n",
      " 'opening_price': '13587000',\n",
      " 'sell_price': '12317000',\n",
      " 'units_traded': '16834.90202986',\n",
      " 'volume_1day': '16834.90202986',\n",
      " 'volume_7day': '90000.82763557'}\n"
     ]
    }
   ],
   "source": [
    "import requests\n",
    "import pprint\n",
    "\n",
    "url = \"https://api.bithumb.com/public/ticker/btc\"\n",
    "data = requests.get(url).json()['data']\n",
    "# print(data)\n",
    "pprint.pprint(data)"
   ]
  },
  {
   "cell_type": "code",
   "execution_count": 13,
   "metadata": {},
   "outputs": [
    {
     "name": "stdout",
     "output_type": "stream",
     "text": [
      "상승장\n"
     ]
    }
   ],
   "source": [
    "# 아래에 코드를 작성하세요.\n",
    "gap = int(data['max_price']) - int(data['min_price']) \n",
    "if int(data['opening_price']) + gap > int(data['max_price']):\n",
    "    print('상승장')\n",
    "else:\n",
    "    print('하락장')"
   ]
  },
  {
   "cell_type": "markdown",
   "metadata": {},
   "source": [
    "# 모음 제거하기\n",
    "\n",
    "> 다음 문장의 모음을 제거하여 출력하세요.\n",
    "\n",
    "```\n",
    "예시 입력)\n",
    "\"Life is too short, you need python\"\n",
    "예시 출력)\n",
    "Lf s t shrt, y nd pythn\n",
    "```"
   ]
  },
  {
   "cell_type": "code",
   "execution_count": 18,
   "metadata": {},
   "outputs": [],
   "source": [
    "my_str = \"Life is too short, you need python\""
   ]
  },
  {
   "cell_type": "code",
   "execution_count": 153,
   "metadata": {},
   "outputs": [
    {
     "name": "stdout",
     "output_type": "stream",
     "text": [
      "Lf s t shrt, y nd pythn\n"
     ]
    }
   ],
   "source": [
    "# 아래에 코드를 작성하세요.\n",
    "''' 내 코드 vowel = ['a', 'e', 'i', 'o', 'u']\n",
    "for v in vowel:\n",
    "    if v in my_str:\n",
    "        my_str = my_str.replace(v, '')\n",
    "    print(my_str)\n",
    "'''\n",
    "result = ''\n",
    "# my_str를 반복하면서,\n",
    "for char in my_str:\n",
    "    # 모음이 아니면, result에 추가한다.\n",
    "#     if char not in ['a', 'e', 'i', 'o', 'u']:\n",
    "    if char not in 'aeiou':\n",
    "        result += char\n",
    "# 반복문이 끝나면, 출력한다.\n",
    "print(result)"
   ]
  },
  {
   "cell_type": "code",
   "execution_count": 154,
   "metadata": {},
   "outputs": [
    {
     "name": "stdout",
     "output_type": "stream",
     "text": [
      "Lf s t shrt, y nd pythn\n"
     ]
    }
   ],
   "source": [
    "for vowel in 'aeiou':\n",
    "    my_str = my_str.replace(vowel, '')\n",
    "print(my_str)"
   ]
  },
  {
   "cell_type": "markdown",
   "metadata": {},
   "source": [
    "# 개인정보보호\n",
    "> 사용자의 핸드폰번호를 입력 받으려고한다. 개인정보 보호를 위하여 뒷자리 4자리를 제외하고는 마스킹 처리를 하려고한다.\n",
    ">\n",
    "> 핸드폰번호는 010으로 시작해야하고 11자리여야한다. 핸드폰번호를 입력하지 않았다면 \"핸드폰번호를 입력하세요\"를 출력한다\n",
    "\n",
    "```\n",
    "예시 입력)\n",
    "01012341234\n",
    "예시 출력)\n",
    "*******1234\n",
    "```"
   ]
  },
  {
   "cell_type": "code",
   "execution_count": 165,
   "metadata": {},
   "outputs": [
    {
     "name": "stdout",
     "output_type": "stream",
     "text": [
      "01012341234\n"
     ]
    }
   ],
   "source": [
    "phone = input()"
   ]
  },
  {
   "cell_type": "code",
   "execution_count": 160,
   "metadata": {},
   "outputs": [
    {
     "name": "stdout",
     "output_type": "stream",
     "text": [
      "*******1234\n"
     ]
    }
   ],
   "source": [
    "# 아래에 코드를 작성하세요.\n",
    "if phone[0:3] == '010' and len(phone) == 11:\n",
    "    #phone = phone.replace(phone[0:7], '*******')\n",
    "    print('*'*7 + phone[-4:])\n",
    "else:\n",
    "    print('핸드폰번호를 입력하세요')"
   ]
  },
  {
   "cell_type": "code",
   "execution_count": 167,
   "metadata": {},
   "outputs": [
    {
     "ename": "AttributeError",
     "evalue": "'str' object has no attribute 'startwith'",
     "output_type": "error",
     "traceback": [
      "\u001b[1;31m---------------------------------------------------------------------------\u001b[0m",
      "\u001b[1;31mAttributeError\u001b[0m                            Traceback (most recent call last)",
      "\u001b[1;32m<ipython-input-167-282d61c11703>\u001b[0m in \u001b[0;36m<module>\u001b[1;34m\u001b[0m\n\u001b[1;32m----> 1\u001b[1;33m \u001b[1;32mif\u001b[0m \u001b[0mphone\u001b[0m\u001b[1;33m.\u001b[0m\u001b[0mstartwith\u001b[0m\u001b[1;33m(\u001b[0m\u001b[1;34m'010'\u001b[0m\u001b[1;33m)\u001b[0m \u001b[1;32mand\u001b[0m \u001b[0mlen\u001b[0m\u001b[1;33m(\u001b[0m\u001b[0mphone\u001b[0m\u001b[1;33m)\u001b[0m \u001b[1;33m==\u001b[0m \u001b[1;36m11\u001b[0m\u001b[1;33m:\u001b[0m\u001b[1;33m\u001b[0m\u001b[1;33m\u001b[0m\u001b[0m\n\u001b[0m\u001b[0;32m      2\u001b[0m     \u001b[0mprint\u001b[0m\u001b[1;33m(\u001b[0m\u001b[1;34mf'{phone[-4:]:*>11}'\u001b[0m\u001b[1;33m)\u001b[0m\u001b[1;33m\u001b[0m\u001b[1;33m\u001b[0m\u001b[0m\n",
      "\u001b[1;31mAttributeError\u001b[0m: 'str' object has no attribute 'startwith'"
     ]
    }
   ],
   "source": [
    "if phone.startwith('010') and len(phone) == 11:\n",
    "    print(f'{phone[-4:]:*>11}')"
   ]
  },
  {
   "cell_type": "markdown",
   "metadata": {},
   "source": [
    "# 정중앙\n",
    "> 사용자가 입력한 문자열중 가운데 글자를 출력하라. 문자열이 짝수라면 가운데 두글자를 출력하라"
   ]
  },
  {
   "cell_type": "code",
   "execution_count": 175,
   "metadata": {},
   "outputs": [
    {
     "name": "stdout",
     "output_type": "stream",
     "text": [
      "안녕하세여여\n"
     ]
    }
   ],
   "source": [
    "text = input()"
   ]
  },
  {
   "cell_type": "code",
   "execution_count": 169,
   "metadata": {},
   "outputs": [
    {
     "name": "stdout",
     "output_type": "stream",
     "text": [
      "짝수\n",
      "3, 4\n"
     ]
    }
   ],
   "source": [
    "# 아래에 코드를 작성하세요.\n",
    "'''내 코드\n",
    "if len(text) % 2:\n",
    "    print('홀수')\n",
    "    print(text[len(text)//2-1])\n",
    "else:\n",
    "    print('짝수')\n",
    "    print(f'{text[len(text)//2]}, {text[len(text)//2+1]}')\n",
    "'''"
   ]
  },
  {
   "cell_type": "code",
   "execution_count": 176,
   "metadata": {},
   "outputs": [
    {
     "name": "stdout",
     "output_type": "stream",
     "text": [
      "하세\n"
     ]
    }
   ],
   "source": [
    "num = len(text) // 2\n",
    "if len(text) % 2:\n",
    "    print(text[num])\n",
    "else:\n",
    "    print(text[num-1:num+1])"
   ]
  },
  {
   "cell_type": "code",
   "execution_count": 125,
   "metadata": {},
   "outputs": [
    {
     "data": {
      "text/plain": [
       "'*****\\n*****\\n*****\\n*****\\n*****\\n*****\\n*****\\n*****\\n*****\\n'"
      ]
     },
     "execution_count": 125,
     "metadata": {},
     "output_type": "execute_result"
    }
   ],
   "source": [
    "n = 5\n",
    "m = 9\n",
    "\n",
    "('*'*n+'\\n')*m\n"
   ]
  },
  {
   "cell_type": "code",
   "execution_count": 126,
   "metadata": {},
   "outputs": [
    {
     "name": "stdout",
     "output_type": "stream",
     "text": [
      "\"파일은 C:\\Windows\\Users\\내문서\\Pthon에 저장이 되어있습니다.\" 나는 생각했다. 'cd를 써서 git bash로 들어가봐야지'\n"
     ]
    }
   ],
   "source": [
    "print('\\\"파일은 C:\\\\Windows\\\\Users\\\\내문서\\\\Pthon에 저장이 되어있습니다.\\\" 나는 생각했다. \\'cd를 써서 git bash로 들어가봐야지\\'')"
   ]
  },
  {
   "cell_type": "code",
   "execution_count": 170,
   "metadata": {},
   "outputs": [
    {
     "name": "stdout",
     "output_type": "stream",
     "text": [
      "다음의 이차방정식 해를 구합니다.\n",
      "a*x^2 + b*x + c\n",
      "값을 입력하세요. (단, b는 짝수)\n",
      "a, b, c : \n",
      "1, -4, 4\n",
      "0.0\n",
      "2.0\n"
     ]
    }
   ],
   "source": [
    "print('다음의 이차방정식 해를 구합니다.\\na*x^2 + b*x + c\\n값을 입력하세요. (단, b는 짝수)\\na, b, c : ')\n",
    "factor = list(map(int, input().split(',')))\n",
    "if factor[1] % 2:\n",
    "    print(\"b는 짝수가 아닙니다. 그래도 답을 구해보면 ...\")\n",
    "    ##\n",
    "else :\n",
    "    a = factor[0]\n",
    "    b = factor[1]\n",
    "    c = factor[2]\n",
    "    d = pow(b**2 - 4 * a * c, 1/2)\n",
    "    if d > 0: # 근 2개\n",
    "        print('두 개의 근')\n",
    "        print((-b - d) / 2*a)\n",
    "        print((-b + d) / 2*a)\n",
    "    elif d == 0: # 근 1개\n",
    "        print((-b + d) / 2*a)\n",
    "    else: # 근 존재 x\n",
    "        print('근이 존재하지 않습니다')\n"
   ]
  }
 ],
 "metadata": {
  "kernelspec": {
   "display_name": "Python 3",
   "language": "python",
   "name": "python3"
  },
  "language_info": {
   "codemirror_mode": {
    "name": "ipython",
    "version": 3
   },
   "file_extension": ".py",
   "mimetype": "text/x-python",
   "name": "python",
   "nbconvert_exporter": "python",
   "pygments_lexer": "ipython3",
   "version": "3.7.3"
  }
 },
 "nbformat": 4,
 "nbformat_minor": 2
}
