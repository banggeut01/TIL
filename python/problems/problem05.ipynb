{
 "cells": [
  {
   "cell_type": "markdown",
   "metadata": {},
   "source": [
    "# 불쌍한 달팽이\n",
    "\n",
    ">달팽이는 낮 시간 동안에 기둥을 올라갑니다. 하지만 밤에는 잠을 자면서 어느 정도의 거리만큼미끄러집니다. (낮 시간 동안 올라간 거리보다는 적게 미끄러집니다) 달팽이가 기둥의 꼭대기에 도달하는 날까지 걸리는 시간을 계산하면 됩니다.\n",
    "\n",
    "> 함수에 들어가야 하는 3개의 인자는 다음과 같습니다.\n",
    "- 기둥의 높이(미터)\n",
    "- 낮 시간 동안 달팽이가 올라가는 거리(미터)\n",
    "- 달팽이가 야간에 잠을 자는 동안 미끄러지는 거리(미터)\n",
    "\n",
    "```python\n",
    "snail(100, 5, 2)\n",
    "# => 33\n",
    "```"
   ]
  },
  {
   "cell_type": "code",
   "execution_count": 21,
   "metadata": {},
   "outputs": [],
   "source": [
    "# 여기에 코드를 작성하세요\n",
    "# my_code\n",
    "import math\n",
    "\n",
    "def snail(height, up, down):\n",
    "    stat = 0 # 현재 높이\n",
    "    result = 0 # 걸린 시간. 낮 12시간, 밤 12시간 가정\n",
    "    is_day = True # 낮이면 True, 밤이면 False\n",
    "    while(height >= stat):\n",
    "        if is_day:\n",
    "            stat += 5 \n",
    "        else:\n",
    "            stat -= 2\n",
    "        is_day = not is_day\n",
    "        result += 12 \n",
    "    return math.ceil(result/24) # 날 리턴"
   ]
  },
  {
   "cell_type": "code",
   "execution_count": null,
   "metadata": {},
   "outputs": [],
   "source": [
    "# 선생님 코드\n",
    "def snail(height, day, night): # height를 가야할 높이로 정하고 day만큼 낮아지거나 night만큼 높아지게 함.\n",
    "    # 날짜 지난 것 기록\n",
    "    count = 0\n",
    "    while True:\n",
    "        count += 1\n",
    "        # 낮, 가야할 높이가 낮아짐\n",
    "        height -= day\n",
    "        # 올라갔는지 확인\n",
    "        if height <= 0:\n",
    "            return count\n",
    "        # 밤, 가야할 높이가 높아짐\n",
    "        height += night"
   ]
  },
  {
   "cell_type": "code",
   "execution_count": 9,
   "metadata": {},
   "outputs": [
    {
     "name": "stdout",
     "output_type": "stream",
     "text": [
      "33\n"
     ]
    }
   ],
   "source": [
    "# 해당 코드를 통해 올바른 결과가 나오는지 확인하세요.\n",
    "print(snail(100, 5, 2))"
   ]
  },
  {
   "cell_type": "markdown",
   "metadata": {},
   "source": [
    "# 편-안한 단어\n",
    "\n",
    "> (QWERTY 키보드를 사용하여 타이핑을 한다고 가정할 때) '편안한 단어'는 타이핑 할 때 **손을 번갈아 칠 수 있는 단어**를 말합니다.\n",
    ">\n",
    "> 단어를 인자로 받아 그것이 '편안한 단어'인지 여부를 True/False로 반환하는 함수를 만드세요.(모든 단어는 a ~ z까지 오름차순으로 구성된 문자열입니다.)\n",
    "\n",
    "> 문자 목록\n",
    "- 왼손: q, w, e, r, t, a, s, s, d, f, g, z, x, c, v, b\n",
    "- 오른손: y, u, i, o, p, h, j, k, l, n, m"
   ]
  },
  {
   "cell_type": "code",
   "execution_count": 19,
   "metadata": {},
   "outputs": [],
   "source": [
    "# 여기에 코드를 작성하세요.\n",
    "# my_code\n",
    "def comfortable_word(word):\n",
    "    right = 'yuiophjklnm'\n",
    "    # 소문자 알파벳인지 검사\n",
    "    if word.isalpha() and word.islower():\n",
    "        # 문자열 길이가 1일 때\n",
    "        if len(word) < 2:\n",
    "            return '2개 이상의 문자열을 입력해주세요.'\n",
    "        # 첫 번째 문자 처리. 오른손이면 Trun, 왼손이면 False\n",
    "        temp = word[0] in right\n",
    "        # 두 번째 문자부터 이전 문자와 비교\n",
    "        for char in word[1:]:\n",
    "            # 같은 손이면\n",
    "            if temp == (char in right):\n",
    "                return False\n",
    "            # 다른 손이면\n",
    "            else:\n",
    "                # 현재 손 저장\n",
    "                temp = char in right\n",
    "        return True\n",
    "    else:\n",
    "        return '소문자 알파벳을 입력해주세요.'"
   ]
  },
  {
   "cell_type": "code",
   "execution_count": 50,
   "metadata": {},
   "outputs": [],
   "source": [
    "# 선생님 코드\n",
    "def comfortable_word(word):\n",
    "    # 왼손 문자 목록, 오른손 문자 목록\n",
    "    left_word, right_word = 'qwertasdfgzxcvb', 'yuiophjklnm'\n",
    "    # 하나씩 반복하는데, 필요한 것은 이전 문자의 왼쪽인지 오른쪽인지의 여부\n",
    "    is_left = True if word[0] in left_word else False # 초기 값을 지정\n",
    "    for char in word[1:]: # 두 번째부터 확인\n",
    "        # 만약 이전 것이 왼쪽이고, 지금 단어가 왼쪽이면 종료\n",
    "        if is_left and char in left_word:\n",
    "            return False\n",
    "        # 오른쪽 - 오른쪽이면 종료(False)\n",
    "        if not is_left and char in right_word:\n",
    "            return False\n",
    "        # 맞으면, 왼-오 바꾸기\n",
    "        is_left = not is_left\n",
    "    # 종료 안되었으면 True\n",
    "    return True"
   ]
  },
  {
   "cell_type": "code",
   "execution_count": 10,
   "metadata": {},
   "outputs": [
    {
     "data": {
      "text/plain": [
       "True"
      ]
     },
     "execution_count": 10,
     "metadata": {},
     "output_type": "execute_result"
    }
   ],
   "source": [
    "a = 'dkjfslkd123'\n",
    "a.islower()\n"
   ]
  },
  {
   "cell_type": "code",
   "execution_count": 51,
   "metadata": {},
   "outputs": [
    {
     "data": {
      "text/plain": [
       "False"
      ]
     },
     "execution_count": 51,
     "metadata": {},
     "output_type": "execute_result"
    }
   ],
   "source": [
    "a.isalpha()"
   ]
  },
  {
   "cell_type": "code",
   "execution_count": 52,
   "metadata": {},
   "outputs": [
    {
     "name": "stdout",
     "output_type": "stream",
     "text": [
      "True\n",
      "False\n"
     ]
    }
   ],
   "source": [
    "# 해당 코드를 통해 올바른 결과가 나오는지 확인하세요.\n",
    "print(comfortable_word('qywu'))\n",
    "print(comfortable_word('apple'))"
   ]
  },
  {
   "cell_type": "markdown",
   "metadata": {},
   "source": [
    "# 숫자패턴\n",
    "\n",
    ">원하는 행까지 아래의 패턴을 생성하는 함수를 작성하세요. 만약 인자가 0이나 음의 정수인 경우 빈 문자열('')로 반환하세요.\n",
    "> \n",
    "> 짝수가 인수로 전달되면 패턴은 통과된 짝수보다 작은 최대 홀수까지 계속되어야 합니다.\n",
    "\n",
    "```python\n",
    "# 예시 \n",
    "print(pattern(9))\n",
    "\n",
    "1\n",
    "333\n",
    "55555\n",
    "7777777\n",
    "999999999\n",
    "\n",
    "print(pattern(6))\n",
    "1\n",
    "333\n",
    "55555\n",
    "```\n",
    "**유의!**\n",
    "패턴에 공백은 없습니다."
   ]
  },
  {
   "cell_type": "code",
   "execution_count": 53,
   "metadata": {},
   "outputs": [],
   "source": [
    "# 여기에 코드를 작성하세요\n",
    "# my_code\n",
    "def pattern(num):\n",
    "    result = ''\n",
    "    # 인자가 0 이하일 때\n",
    "    if num <= 0:\n",
    "        return ''\n",
    "    else:\n",
    "        # 1부터 num까지 홀수만\n",
    "        for i in range(1, num+1, 2):\n",
    "            result = result + str(i)*i + '\\n'\n",
    "        return result"
   ]
  },
  {
   "cell_type": "code",
   "execution_count": 62,
   "metadata": {},
   "outputs": [],
   "source": [
    "# 선생님 코드\n",
    "def pattern(number):\n",
    "    if number <= 0:\n",
    "        return ''\n",
    "    # 문자열 통\n",
    "    result = ''\n",
    "    # 1 ~ 해당숫자까지 반복\n",
    "    for i in range(1, number+1):\n",
    "        # 홀수면\n",
    "        if i % 2:\n",
    "            result += str(i)*i\n",
    "            if i != number:\n",
    "                result += '\\n'\n",
    "    return result"
   ]
  },
  {
   "cell_type": "code",
   "execution_count": 68,
   "metadata": {},
   "outputs": [],
   "source": [
    "def pattern(number):\n",
    "    return '\\n'.join([str(i)*i for i in range(1, number+1) if i % 2])"
   ]
  },
  {
   "cell_type": "code",
   "execution_count": 75,
   "metadata": {},
   "outputs": [],
   "source": [
    "def pattern(number):\n",
    "    return '\\n'.join([str(i)*i for i in range(1, number+1, 2)]) if number > 0 else ''"
   ]
  },
  {
   "cell_type": "code",
   "execution_count": 76,
   "metadata": {},
   "outputs": [
    {
     "name": "stdout",
     "output_type": "stream",
     "text": [
      "1\n",
      "333\n",
      "55555\n",
      "7777777\n",
      "999999999\n",
      "1\n",
      "333\n",
      "55555\n",
      "\n"
     ]
    }
   ],
   "source": [
    "# 해당 코드를 통해 올바른 결과가 나오는지 확인하세요.\n",
    "print(pattern(9))\n",
    "print(pattern(6))\n",
    "print(pattern(0))"
   ]
  }
 ],
 "metadata": {
  "kernelspec": {
   "display_name": "Python 3",
   "language": "python",
   "name": "python3"
  },
  "language_info": {
   "codemirror_mode": {
    "name": "ipython",
    "version": 3
   },
   "file_extension": ".py",
   "mimetype": "text/x-python",
   "name": "python",
   "nbconvert_exporter": "python",
   "pygments_lexer": "ipython3",
   "version": "3.7.3"
  },
  "toc": {
   "base_numbering": 1,
   "nav_menu": {},
   "number_sections": true,
   "sideBar": true,
   "skip_h1_title": false,
   "title_cell": "Table of Contents",
   "title_sidebar": "Contents",
   "toc_cell": false,
   "toc_position": {},
   "toc_section_display": true,
   "toc_window_display": false
  }
 },
 "nbformat": 4,
 "nbformat_minor": 2
}
