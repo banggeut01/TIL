{
 "cells": [
  {
   "cell_type": "code",
   "execution_count": null,
   "metadata": {},
   "outputs": [],
   "source": [
    "# 문제. 한줄로??\n",
    "\n",
    "\n",
    "def palindrome(string):\n",
    "    # 3자리 => 1자리(index =0)까지 비교. 4자리 => 2자리까지 비교(index=2)\n",
    "    # 13자리 => 6자리(index =5)까지 비교. 14자리 => 7자리까지 비교(index=6)\n",
    "    stop_idx = int(len(string)/2) - 1\n",
    "#     print(stop_idx)\n",
    "    for idx, char in enumerate(string):\n",
    "        # 비교한 값이 다를 때\n",
    "        if string[idx] != string[-(idx+1)]:\n",
    "            # return\n",
    "            return 'palindrome이 아닙니다.'\n",
    "        # 만약 비교가 끝났을 때\n",
    "        if idx == stop_idx:\n",
    "            # return\n",
    "            return 'palindrome에 해당합니다.'"
   ]
  }
 ],
 "metadata": {
  "kernelspec": {
   "display_name": "Python 3",
   "language": "python",
   "name": "python3"
  },
  "language_info": {
   "codemirror_mode": {
    "name": "ipython",
    "version": 3
   },
   "file_extension": ".py",
   "mimetype": "text/x-python",
   "name": "python",
   "nbconvert_exporter": "python",
   "pygments_lexer": "ipython3",
   "version": "3.7.3"
  },
  "toc": {
   "base_numbering": 1,
   "nav_menu": {},
   "number_sections": true,
   "sideBar": true,
   "skip_h1_title": false,
   "title_cell": "Table of Contents",
   "title_sidebar": "Contents",
   "toc_cell": false,
   "toc_position": {},
   "toc_section_display": true,
   "toc_window_display": false
  }
 },
 "nbformat": 4,
 "nbformat_minor": 2
}
