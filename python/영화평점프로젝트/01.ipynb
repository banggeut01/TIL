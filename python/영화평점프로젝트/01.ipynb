{
 "cells": [
  {
   "cell_type": "markdown",
   "metadata": {},
   "source": [
    "# 주간/주말 박스오피스 데이터\n",
    "\n",
    "\n",
    "최근 50주간 데이터 중 주간 박스오피스 TOP10데이터 수집\n",
    "\n",
    "* 조건\n",
    "    1. 주간(월 ~ 일) `weekGb : “0” : 주간 (월~일)`\n",
    "    2. 조회기간 총 50주, 기준일 2019년 7월 13일 `targetDt`\n",
    "    3. 다양성 영화/상업 영화 모두 포함(default)\n",
    "    4. 한국/외국 영화 모두 포함(default)\n",
    "    5. 모든 상영지역 포함(default)\n",
    "\n",
    "\n",
    "* 결과\n",
    "    * `영화 대표코드 : movieCd`, `영화명 : movieNm`, `해당일 누적관객수 : audiAcc`\n",
    "    * 해당일 누적 관객수는 중복시 최신 정보로 반영 **(이미 있는 데이터라면 그냥 넘어가기)**\n",
    "    * 해당 결과 boxoffice.csv에 저장\n",
    "    \n",
    "* [소스코드]("
   ]
  },
  {
   "cell_type": "markdown",
   "metadata": {},
   "source": [
    "# 영화 상세정보\n",
    "\n",
    "\n",
    "01에서 수집한 영화 대표코드 활용해 상세 정보 수집.\n",
    "향후 영화 정보로 활용될 것.\n",
    "\n",
    "* 결과\n",
    "    * 저장할 내용\n",
    "        1.  `영화 대표코드` : movieCd\n",
    "        2. `영화명(국문)` : movieNm\n",
    "        3. `영화명(영문)` : movieNmEn\t\n",
    "        4. `영화명(원문)` : movieNmOg\n",
    "        5. `관람등급` : watchGradeNm\n",
    "        6. `개봉연도` : openDt\n",
    "        7. `상영시간` : showTm\n",
    "        8. `장르` : genreNm\n",
    "        9. `감독명` : peopleNm\n",
    "        \n",
    "\n",
    "    * 해당 결과 movie.csv에 저장"
   ]
  },
  {
   "cell_type": "markdown",
   "metadata": {},
   "source": [
    "# 영화인 정보\n",
    "\n",
    "02에서 수집한 영화 감독정보를 활용해 상세 정보 수집.\n",
    "향후 감독 정보로 활용될 예정.\n",
    "\n",
    "\n",
    "* 요청 조건\n",
    "    * 요청 변수 : key(필수), `영화인명 : peopleNm`으로 조회\n",
    "    * peopleNm None 일수도\n",
    "    \n",
    "    \n",
    "    \n",
    "   \n",
    "* 결과\n",
    "    * 영화인별로 `영화인 코드 : peopleCd`, `영화인명 : peopleNm`, `분야 : repRoleNm`, `필모리스트 : filmoNames` 저장\n",
    "    * **director.csv에 저장**\n",
    "    (만약 검색 결과 없으면 저장하지 않기)"
   ]
  },
  {
   "cell_type": "code",
   "execution_count": 14,
   "metadata": {},
   "outputs": [
    {
     "name": "stdout",
     "output_type": "stream",
     "text": [
      "http://www.kobis.or.kr/kobisopenapi/webservice/rest/boxoffice/searchWeeklyBoxOfficeList.json?key=2c6010411226af12f598c9e149bfeca8&targetDt=20190713&weekGb=0\n",
      "{'boxOfficeResult': {'boxofficeType': '주간 박스오피스', 'showRange': '20190708~20190714', 'yearWeekTime': '201928', 'weeklyBoxOfficeList': [{'rnum': '1', 'rank': '1', 'rankInten': '0', 'rankOldAndNew': 'OLD', 'movieCd': '20196309', 'movieNm': '스파이더맨: 파 프롬 홈', 'openDt': '2019-07-02', 'salesAmt': '18704596230', 'salesShare': '50.6', 'salesInten': '-20291784280', 'salesChange': '-52.0', 'salesAcc': '57709536740', 'audiCnt': '2163534', 'audiInten': '-2357236', 'audiChange': '-52.1', 'audiAcc': '6685160', 'scrnCnt': '1900', 'showCnt': '61772'}, {'rnum': '2', 'rank': '2', 'rankInten': '0', 'rankOldAndNew': 'OLD', 'movieCd': '20183867', 'movieNm': '알라딘', 'openDt': '2019-05-23', 'salesAmt': '8048707260', 'salesShare': '21.8', 'salesInten': '-370620', 'salesChange': '0.0', 'salesAcc': '86703864479', 'audiCnt': '938604', 'audiInten': '-12271', 'audiChange': '-1.3', 'audiAcc': '10161238', 'scrnCnt': '975', 'showCnt': '20260'}, {'rnum': '3', 'rank': '3', 'rankInten': '0', 'rankOldAndNew': 'OLD', 'movieCd': '20184047', 'movieNm': '토이 스토리 4', 'openDt': '2019-06-20', 'salesAmt': '3062666940', 'salesShare': '8.3', 'salesInten': '-1341556620', 'salesChange': '-30.5', 'salesAcc': '26720341850', 'audiCnt': '367361', 'audiInten': '-165507', 'audiChange': '-31.1', 'audiAcc': '3151063', 'scrnCnt': '784', 'showCnt': '11025'}, {'rnum': '4', 'rank': '4', 'rankInten': '18', 'rankOldAndNew': 'OLD', 'movieCd': '20185353', 'movieNm': '기방도령', 'openDt': '2019-07-10', 'salesAmt': '1790462140', 'salesShare': '4.8', 'salesInten': '1767296140', 'salesChange': '7628.8', 'salesAcc': '1816098140', 'audiCnt': '217361', 'audiInten': '214787', 'audiChange': '8344.5', 'audiAcc': '220182', 'scrnCnt': '625', 'showCnt': '10844'}, {'rnum': '5', 'rank': '5', 'rankInten': '-1', 'rankOldAndNew': 'OLD', 'movieCd': '20183782', 'movieNm': '기생충', 'openDt': '2019-05-30', 'salesAmt': '1097073240', 'salesShare': '3.0', 'salesInten': '-559773060', 'salesChange': '-33.8', 'salesAcc': '84601476725', 'audiCnt': '145529', 'audiInten': '-52264', 'audiChange': '-26.4', 'audiAcc': '9919835', 'scrnCnt': '488', 'showCnt': '5305'}, {'rnum': '6', 'rank': '6', 'rankInten': '55', 'rankOldAndNew': 'OLD', 'movieCd': '20185986', 'movieNm': '진범', 'openDt': '2019-07-10', 'salesAmt': '913786600', 'salesShare': '2.5', 'salesInten': '911140600', 'salesChange': '34434.6', 'salesAcc': '922196600', 'audiCnt': '105676', 'audiInten': '105382', 'audiChange': '35844.2', 'audiAcc': '106756', 'scrnCnt': '224', 'showCnt': '4230'}, {'rnum': '7', 'rank': '7', 'rankInten': '20', 'rankOldAndNew': 'OLD', 'movieCd': '20191601', 'movieNm': '극장판 엉덩이 탐정: 화려한 사건 수첩', 'openDt': '2019-07-11', 'salesAmt': '801143520', 'salesShare': '2.2', 'salesInten': '790424520', 'salesChange': '7374.1', 'salesAcc': '811862520', 'audiCnt': '100054', 'audiInten': '98863', 'audiChange': '8300.8', 'audiAcc': '101245', 'scrnCnt': '561', 'showCnt': '3049'}, {'rnum': '8', 'rank': '8', 'rankInten': '-2', 'rankOldAndNew': 'OLD', 'movieCd': '20199951', 'movieNm': '애나벨 집으로', 'openDt': '2019-06-26', 'salesAmt': '495955050', 'salesShare': '1.3', 'salesInten': '-378757240', 'salesChange': '-43.3', 'salesAcc': '3809833030', 'audiCnt': '60543', 'audiInten': '-46623', 'audiChange': '-43.5', 'audiAcc': '459037', 'scrnCnt': '262', 'showCnt': '2182'}, {'rnum': '9', 'rank': '9', 'rankInten': '-4', 'rankOldAndNew': 'OLD', 'movieCd': '20196655', 'movieNm': '존 윅 3: 파라벨룸', 'openDt': '2019-06-26', 'salesAmt': '508652710', 'salesShare': '1.4', 'salesInten': '-999850840', 'salesChange': '-66.3', 'salesAcc': '7802546702', 'audiCnt': '59459', 'audiInten': '-118348', 'audiChange': '-66.6', 'audiAcc': '913066', 'scrnCnt': '495', 'showCnt': '3404'}, {'rnum': '10', 'rank': '10', 'rankInten': '37', 'rankOldAndNew': 'OLD', 'movieCd': '20192151', 'movieNm': '미드소마', 'openDt': '2019-07-11', 'salesAmt': '422374980', 'salesShare': '1.1', 'salesInten': '417380480', 'salesChange': '8356.8', 'salesAcc': '427369480', 'audiCnt': '45182', 'audiInten': '44657', 'audiChange': '8506.1', 'audiAcc': '45707', 'scrnCnt': '388', 'showCnt': '2697'}]}}\n",
      "\n",
      "\n",
      "\n",
      "\n",
      "{'boxOfficeResult': {'boxofficeType': '주간 박스오피스',\n",
      "                     'showRange': '20190708~20190714',\n",
      "                     'weeklyBoxOfficeList': [{'audiAcc': '6685160',\n",
      "                                              'audiChange': '-52.1',\n",
      "                                              'audiCnt': '2163534',\n",
      "                                              'audiInten': '-2357236',\n",
      "                                              'movieCd': '20196309',\n",
      "                                              'movieNm': '스파이더맨: 파 프롬 홈',\n",
      "                                              'openDt': '2019-07-02',\n",
      "                                              'rank': '1',\n",
      "                                              'rankInten': '0',\n",
      "                                              'rankOldAndNew': 'OLD',\n",
      "                                              'rnum': '1',\n",
      "                                              'salesAcc': '57709536740',\n",
      "                                              'salesAmt': '18704596230',\n",
      "                                              'salesChange': '-52.0',\n",
      "                                              'salesInten': '-20291784280',\n",
      "                                              'salesShare': '50.6',\n",
      "                                              'scrnCnt': '1900',\n",
      "                                              'showCnt': '61772'},\n",
      "                                             {'audiAcc': '10161238',\n",
      "                                              'audiChange': '-1.3',\n",
      "                                              'audiCnt': '938604',\n",
      "                                              'audiInten': '-12271',\n",
      "                                              'movieCd': '20183867',\n",
      "                                              'movieNm': '알라딘',\n",
      "                                              'openDt': '2019-05-23',\n",
      "                                              'rank': '2',\n",
      "                                              'rankInten': '0',\n",
      "                                              'rankOldAndNew': 'OLD',\n",
      "                                              'rnum': '2',\n",
      "                                              'salesAcc': '86703864479',\n",
      "                                              'salesAmt': '8048707260',\n",
      "                                              'salesChange': '0.0',\n",
      "                                              'salesInten': '-370620',\n",
      "                                              'salesShare': '21.8',\n",
      "                                              'scrnCnt': '975',\n",
      "                                              'showCnt': '20260'},\n",
      "                                             {'audiAcc': '3151063',\n",
      "                                              'audiChange': '-31.1',\n",
      "                                              'audiCnt': '367361',\n",
      "                                              'audiInten': '-165507',\n",
      "                                              'movieCd': '20184047',\n",
      "                                              'movieNm': '토이 스토리 4',\n",
      "                                              'openDt': '2019-06-20',\n",
      "                                              'rank': '3',\n",
      "                                              'rankInten': '0',\n",
      "                                              'rankOldAndNew': 'OLD',\n",
      "                                              'rnum': '3',\n",
      "                                              'salesAcc': '26720341850',\n",
      "                                              'salesAmt': '3062666940',\n",
      "                                              'salesChange': '-30.5',\n",
      "                                              'salesInten': '-1341556620',\n",
      "                                              'salesShare': '8.3',\n",
      "                                              'scrnCnt': '784',\n",
      "                                              'showCnt': '11025'},\n",
      "                                             {'audiAcc': '220182',\n",
      "                                              'audiChange': '8344.5',\n",
      "                                              'audiCnt': '217361',\n",
      "                                              'audiInten': '214787',\n",
      "                                              'movieCd': '20185353',\n",
      "                                              'movieNm': '기방도령',\n",
      "                                              'openDt': '2019-07-10',\n",
      "                                              'rank': '4',\n",
      "                                              'rankInten': '18',\n",
      "                                              'rankOldAndNew': 'OLD',\n",
      "                                              'rnum': '4',\n",
      "                                              'salesAcc': '1816098140',\n",
      "                                              'salesAmt': '1790462140',\n",
      "                                              'salesChange': '7628.8',\n",
      "                                              'salesInten': '1767296140',\n",
      "                                              'salesShare': '4.8',\n",
      "                                              'scrnCnt': '625',\n",
      "                                              'showCnt': '10844'},\n",
      "                                             {'audiAcc': '9919835',\n",
      "                                              'audiChange': '-26.4',\n",
      "                                              'audiCnt': '145529',\n",
      "                                              'audiInten': '-52264',\n",
      "                                              'movieCd': '20183782',\n",
      "                                              'movieNm': '기생충',\n",
      "                                              'openDt': '2019-05-30',\n",
      "                                              'rank': '5',\n",
      "                                              'rankInten': '-1',\n",
      "                                              'rankOldAndNew': 'OLD',\n",
      "                                              'rnum': '5',\n",
      "                                              'salesAcc': '84601476725',\n",
      "                                              'salesAmt': '1097073240',\n",
      "                                              'salesChange': '-33.8',\n",
      "                                              'salesInten': '-559773060',\n",
      "                                              'salesShare': '3.0',\n",
      "                                              'scrnCnt': '488',\n",
      "                                              'showCnt': '5305'},\n",
      "                                             {'audiAcc': '106756',\n",
      "                                              'audiChange': '35844.2',\n",
      "                                              'audiCnt': '105676',\n",
      "                                              'audiInten': '105382',\n",
      "                                              'movieCd': '20185986',\n",
      "                                              'movieNm': '진범',\n",
      "                                              'openDt': '2019-07-10',\n",
      "                                              'rank': '6',\n",
      "                                              'rankInten': '55',\n",
      "                                              'rankOldAndNew': 'OLD',\n",
      "                                              'rnum': '6',\n",
      "                                              'salesAcc': '922196600',\n",
      "                                              'salesAmt': '913786600',\n",
      "                                              'salesChange': '34434.6',\n",
      "                                              'salesInten': '911140600',\n",
      "                                              'salesShare': '2.5',\n",
      "                                              'scrnCnt': '224',\n",
      "                                              'showCnt': '4230'},\n",
      "                                             {'audiAcc': '101245',\n",
      "                                              'audiChange': '8300.8',\n",
      "                                              'audiCnt': '100054',\n",
      "                                              'audiInten': '98863',\n",
      "                                              'movieCd': '20191601',\n",
      "                                              'movieNm': '극장판 엉덩이 탐정: 화려한 사건 '\n",
      "                                                         '수첩',\n",
      "                                              'openDt': '2019-07-11',\n",
      "                                              'rank': '7',\n",
      "                                              'rankInten': '20',\n",
      "                                              'rankOldAndNew': 'OLD',\n",
      "                                              'rnum': '7',\n",
      "                                              'salesAcc': '811862520',\n",
      "                                              'salesAmt': '801143520',\n",
      "                                              'salesChange': '7374.1',\n",
      "                                              'salesInten': '790424520',\n",
      "                                              'salesShare': '2.2',\n",
      "                                              'scrnCnt': '561',\n",
      "                                              'showCnt': '3049'},\n",
      "                                             {'audiAcc': '459037',\n",
      "                                              'audiChange': '-43.5',\n",
      "                                              'audiCnt': '60543',\n",
      "                                              'audiInten': '-46623',\n",
      "                                              'movieCd': '20199951',\n",
      "                                              'movieNm': '애나벨 집으로',\n",
      "                                              'openDt': '2019-06-26',\n",
      "                                              'rank': '8',\n",
      "                                              'rankInten': '-2',\n",
      "                                              'rankOldAndNew': 'OLD',\n",
      "                                              'rnum': '8',\n",
      "                                              'salesAcc': '3809833030',\n",
      "                                              'salesAmt': '495955050',\n",
      "                                              'salesChange': '-43.3',\n",
      "                                              'salesInten': '-378757240',\n",
      "                                              'salesShare': '1.3',\n",
      "                                              'scrnCnt': '262',\n",
      "                                              'showCnt': '2182'},\n",
      "                                             {'audiAcc': '913066',\n",
      "                                              'audiChange': '-66.6',\n",
      "                                              'audiCnt': '59459',\n",
      "                                              'audiInten': '-118348',\n",
      "                                              'movieCd': '20196655',\n",
      "                                              'movieNm': '존 윅 3: 파라벨룸',\n",
      "                                              'openDt': '2019-06-26',\n",
      "                                              'rank': '9',\n",
      "                                              'rankInten': '-4',\n",
      "                                              'rankOldAndNew': 'OLD',\n",
      "                                              'rnum': '9',\n",
      "                                              'salesAcc': '7802546702',\n",
      "                                              'salesAmt': '508652710',\n",
      "                                              'salesChange': '-66.3',\n",
      "                                              'salesInten': '-999850840',\n",
      "                                              'salesShare': '1.4',\n",
      "                                              'scrnCnt': '495',\n",
      "                                              'showCnt': '3404'},\n",
      "                                             {'audiAcc': '45707',\n",
      "                                              'audiChange': '8506.1',\n",
      "                                              'audiCnt': '45182',\n",
      "                                              'audiInten': '44657',\n",
      "                                              'movieCd': '20192151',\n",
      "                                              'movieNm': '미드소마',\n",
      "                                              'openDt': '2019-07-11',\n",
      "                                              'rank': '10',\n",
      "                                              'rankInten': '37',\n",
      "                                              'rankOldAndNew': 'OLD',\n",
      "                                              'rnum': '10',\n",
      "                                              'salesAcc': '427369480',\n",
      "                                              'salesAmt': '422374980',\n",
      "                                              'salesChange': '8356.8',\n",
      "                                              'salesInten': '417380480',\n",
      "                                              'salesShare': '1.1',\n",
      "                                              'scrnCnt': '388',\n",
      "                                              'showCnt': '2697'}],\n",
      "                     'yearWeekTime': '201928'}}\n"
     ]
    }
   ],
   "source": [
    "import requests\n",
    "import pprint\n",
    "import csv\n",
    "\n",
    "key = '2c6010411226af12f598c9e149bfeca8'\n",
    "targetDt = '20190713' # yyyymmdd 전주 계산 구글링\n",
    "weekGb = '0'\n",
    "api_url = f'http://www.kobis.or.kr/kobisopenapi/webservice/rest/boxoffice/searchWeeklyBoxOfficeList.json?key={key}&targetDt={targetDt}&weekGb={weekGb}'\n",
    "print(api_url)\n",
    "response = requests.get(api_url).json()\n",
    "print(response)\n",
    "print('\\n\\n\\n')\n",
    "pprint.pprint(response)\n"
   ]
  },
  {
   "cell_type": "code",
   "execution_count": 39,
   "metadata": {},
   "outputs": [],
   "source": [
    "top_movies = [] # top ten 영화 저장할 리스트"
   ]
  },
  {
   "cell_type": "code",
   "execution_count": 41,
   "metadata": {},
   "outputs": [],
   "source": [
    "top_ten = response.get('boxOfficeResult').get('weeklyBoxOfficeList')"
   ]
  },
  {
   "cell_type": "code",
   "execution_count": 42,
   "metadata": {},
   "outputs": [],
   "source": [
    "for movie_info in top_ten:\n",
    "    temp_dict = {}\n",
    "    temp_dict['영화 대표코드'] = movie_info.get('movieCd')\n",
    "    temp_dict['영화명'] = movie_info.get('movieNm')\n",
    "    temp_dict['해당일 누적관객수'] = movie_info.get('audiAcc')\n",
    "    top_movies.append(temp_dict)\n",
    "#     print(temp_dict)\n",
    "# print(top_movies)"
   ]
  },
  {
   "cell_type": "code",
   "execution_count": 43,
   "metadata": {
    "scrolled": true
   },
   "outputs": [],
   "source": [
    "with open('boxoffice.csv', 'w', encoding='utf-8') as f:\n",
    "    fieldnames = ['영화 대표코드', '영화명', '해당일 누적관객수']\n",
    "    csv_writer = csv.DictWriter(f, fieldnames=fieldnames)\n",
    "    csv_writer.writeheader()\n",
    "    for item in top_movies:\n",
    "        csv_writer.writerow(item)"
   ]
  },
  {
   "cell_type": "code",
   "execution_count": 44,
   "metadata": {},
   "outputs": [],
   "source": [
    "import datetime"
   ]
  },
  {
   "cell_type": "code",
   "execution_count": null,
   "metadata": {},
   "outputs": [],
   "source": []
  },
  {
   "cell_type": "code",
   "execution_count": 55,
   "metadata": {
    "scrolled": true
   },
   "outputs": [],
   "source": [
    "a = datetime.datetime.strptime('20170719', '%Y%m%d')"
   ]
  },
  {
   "cell_type": "code",
   "execution_count": 56,
   "metadata": {},
   "outputs": [
    {
     "data": {
      "text/plain": [
       "datetime.datetime(2017, 7, 19, 0, 0)"
      ]
     },
     "execution_count": 56,
     "metadata": {},
     "output_type": "execute_result"
    }
   ],
   "source": [
    "a"
   ]
  },
  {
   "cell_type": "code",
   "execution_count": 65,
   "metadata": {},
   "outputs": [
    {
     "data": {
      "text/plain": [
       "'20170712 00:00:00'"
      ]
     },
     "execution_count": 65,
     "metadata": {},
     "output_type": "execute_result"
    }
   ],
   "source": [
    "targetDt = str(a + datetime.timedelta(days = -7)).replace('-', '')"
   ]
  },
  {
   "cell_type": "code",
   "execution_count": 66,
   "metadata": {},
   "outputs": [],
   "source": [
    "targetDt = targetDt.replace('00:00:00', '')"
   ]
  },
  {
   "cell_type": "code",
   "execution_count": 67,
   "metadata": {},
   "outputs": [
    {
     "data": {
      "text/plain": [
       "'20190713'"
      ]
     },
     "execution_count": 67,
     "metadata": {},
     "output_type": "execute_result"
    }
   ],
   "source": [
    "targetDt"
   ]
  }
 ],
 "metadata": {
  "kernelspec": {
   "display_name": "Python 3",
   "language": "python",
   "name": "python3"
  },
  "language_info": {
   "codemirror_mode": {
    "name": "ipython",
    "version": 3
   },
   "file_extension": ".py",
   "mimetype": "text/x-python",
   "name": "python",
   "nbconvert_exporter": "python",
   "pygments_lexer": "ipython3",
   "version": "3.7.3"
  },
  "toc": {
   "base_numbering": 1,
   "nav_menu": {},
   "number_sections": true,
   "sideBar": true,
   "skip_h1_title": false,
   "title_cell": "Table of Contents",
   "title_sidebar": "Contents",
   "toc_cell": false,
   "toc_position": {},
   "toc_section_display": true,
   "toc_window_display": false
  }
 },
 "nbformat": 4,
 "nbformat_minor": 2
}
