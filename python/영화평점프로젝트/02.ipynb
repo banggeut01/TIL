{
 "cells": [
  {
   "cell_type": "markdown",
   "metadata": {},
   "source": [
    "# 02. 영화 상세정보\n",
    "\n",
    "\n",
    "01에서 수집한 영화 대표코드 활용해 상세 정보 수집.\n",
    "향후 영화 정보로 활용될 것.\n",
    "\n",
    "* 결과\n",
    "    * 저장할 내용\n",
    "        1.  `영화 대표코드` : movieCd\n",
    "        2. `영화명(국문)` : movieNm\n",
    "        3. `영화명(영문)` : movieNmEn\t\n",
    "        4. `영화명(원문)` : movieNmOg\n",
    "        5. `관람등급` : watchGradeNm\n",
    "        6. `개봉연도` : openDt\n",
    "        7. `상영시간` : showTm\n",
    "        8. `장르` : genreNm\n",
    "        9. `감독명` : peopleNm\n",
    "        \n",
    "\n",
    "    * 해당 결과 movie.csv에 저장"
   ]
  },
  {
   "cell_type": "code",
   "execution_count": 4,
   "metadata": {},
   "outputs": [],
   "source": [
    "# 영화 상세정보\n",
    "\n",
    "import requests\n",
    "import pprint\n",
    "import csv\n",
    "\n",
    "\n",
    "# csv 열기\n",
    "filednames = [] # 헤더 (영화 대표코드, 영화명, 해당일 누적관객수)\n",
    "with open('boxoffice.csv', 'r', encoding='utf-8') as f:\n",
    "    reader = csv.DictReader(f)\n",
    "#     for row in reader:\n",
    "\n",
    "\n",
    "\n",
    "\n",
    "\n",
    "\n"
   ]
  },
  {
   "cell_type": "code",
   "execution_count": null,
   "metadata": {},
   "outputs": [],
   "source": [
    "\n",
    "# 영화 상세정보 요청보내 받아오기\n",
    "key = '2c6010411226af12f598c9e149bfeca8'\n",
    "\n",
    "\n",
    "\n",
    "api_url = f'http://www.kobis.or.kr/kobisopenapi/webservice/rest/movie/searchMovieInfo.json?key={key}&targetDt={targetDt}'\n",
    "print(api_url)\n",
    "response = requests.get(api_url).json()\n",
    "print(response)\n",
    "print('\\n\\n\\n')\n",
    "pprint.pprint(response)"
   ]
  },
  {
   "cell_type": "code",
   "execution_count": null,
   "metadata": {},
   "outputs": [],
   "source": [
    "top_movies = [] # top ten 영화 저장할 리스트"
   ]
  },
  {
   "cell_type": "code",
   "execution_count": null,
   "metadata": {},
   "outputs": [],
   "source": [
    "top_ten = response.get('boxOfficeResult').get('weeklyBoxOfficeList')"
   ]
  }
 ],
 "metadata": {
  "kernelspec": {
   "display_name": "Python 3",
   "language": "python",
   "name": "python3"
  },
  "language_info": {
   "codemirror_mode": {
    "name": "ipython",
    "version": 3
   },
   "file_extension": ".py",
   "mimetype": "text/x-python",
   "name": "python",
   "nbconvert_exporter": "python",
   "pygments_lexer": "ipython3",
   "version": "3.7.3"
  },
  "toc": {
   "base_numbering": 1,
   "nav_menu": {},
   "number_sections": true,
   "sideBar": true,
   "skip_h1_title": false,
   "title_cell": "Table of Contents",
   "title_sidebar": "Contents",
   "toc_cell": false,
   "toc_position": {},
   "toc_section_display": true,
   "toc_window_display": false
  }
 },
 "nbformat": 4,
 "nbformat_minor": 2
}
