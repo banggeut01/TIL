{
 "cells": [
  {
   "cell_type": "markdown",
   "metadata": {},
   "source": [
    "# 03 영화인 정보\n",
    "\n",
    "02에서 수집한 영화 감독정보를 활용해 상세 정보 수집.\n",
    "향후 감독 정보로 활용될 예정.\n",
    "\n",
    "\n",
    "* 요청 조건\n",
    "    * 요청 변수 : key(필수), `영화인명 : peopleNm`으로 조회\n",
    "    * peopleNm None 일수도\n",
    "    \n",
    "    \n",
    "    \n",
    "   \n",
    "* 결과\n",
    "    * 영화인별로 `영화인 코드 : peopleCd`, `영화인명 : peopleNm`, `분야 : repRoleNm`, `필모리스트 : filmoNames` 저장\n",
    "    * **director.csv에 저장**\n",
    "    (만약 검색 결과 없으면 저장하지 않기)"
   ]
  },
  {
   "cell_type": "code",
   "execution_count": null,
   "metadata": {},
   "outputs": [],
   "source": []
  },
  {
   "cell_type": "code",
   "execution_count": null,
   "metadata": {},
   "outputs": [],
   "source": []
  },
  {
   "cell_type": "code",
   "execution_count": null,
   "metadata": {},
   "outputs": [],
   "source": []
  }
 ],
 "metadata": {
  "kernelspec": {
   "display_name": "Python 3",
   "language": "python",
   "name": "python3"
  },
  "language_info": {
   "codemirror_mode": {
    "name": "ipython",
    "version": 3
   },
   "file_extension": ".py",
   "mimetype": "text/x-python",
   "name": "python",
   "nbconvert_exporter": "python",
   "pygments_lexer": "ipython3",
   "version": "3.7.3"
  },
  "toc": {
   "base_numbering": 1,
   "nav_menu": {},
   "number_sections": true,
   "sideBar": true,
   "skip_h1_title": false,
   "title_cell": "Table of Contents",
   "title_sidebar": "Contents",
   "toc_cell": false,
   "toc_position": {},
   "toc_section_display": true,
   "toc_window_display": false
  }
 },
 "nbformat": 4,
 "nbformat_minor": 2
}
