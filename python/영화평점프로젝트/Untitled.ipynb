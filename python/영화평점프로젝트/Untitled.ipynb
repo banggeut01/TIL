{
 "cells": [
  {
   "cell_type": "code",
   "execution_count": null,
   "metadata": {},
   "outputs": [],
   "source": [
    "import requests\n",
    "import pprint\n",
    "import csv\n",
    "import datetime\n",
    "\n",
    "key = '2c6010411226af12f598c9e149bfeca8'\n",
    "weekGb = '0' # 주간\n",
    "movies = {} # 50 주간 영화 저장할 딕셔너리\n",
    "\n",
    "def target_date(week):\n",
    "    dt = datetime.datetime(2019, 7, 13) - datetime.timedelta(weeks=week)\n",
    "    return dt.strftime('%Y%m%d')\n",
    "\n",
    "# 주간 리스트 받아오기 for문 시작\n",
    "for week in range(49, -1, -1): # 49주전부터 0주전(현재 2019.07.13)까지 50주 동안\n",
    "    # targetDT 받아오는 함수 호출\n",
    "    targetDt = target_date(week)\n",
    "    api_url = f'http://www.kobis.or.kr/kobisopenapi/webservice/rest/boxoffice/searchWeeklyBoxOfficeList.json?key={key}&targetDt={targetDt}&weekGb={weekGb}'\n",
    "    response = requests.get(api_url).json()\n",
    "\n",
    "    for movie_info in response.get('boxOfficeResult').get('weeklyBoxOfficeList'):\n",
    "        movieCd = movie_info.get('movieCd')\n",
    "        movieNm = movie_info.get('movieNm')\n",
    "        audiAcc = movie_info.get('audiAcc')\n",
    "        movies[movieCd] = {'movieCd': movieCd, 'movieNm': movieNm, 'audiAcc': audiAcc}\n",
    "\n",
    "with open('boxoffice.csv', 'w', encoding='utf-8') as f:\n",
    "    fieldnames = ['movieCd', 'movieNm', 'audiAcc'] # 헤더와 딕셔너리 키 값을 맞춰줘야함.\n",
    "    csv_writer = csv.DictWriter(f, fieldnames=fieldnames)\n",
    "    csv_writer.writeheader()\n",
    "    for movie in movies.values():\n",
    "        csv_writer.writerow(movie)\n"
   ]
  }
 ],
 "metadata": {
  "kernelspec": {
   "display_name": "Python 3",
   "language": "python",
   "name": "python3"
  },
  "language_info": {
   "codemirror_mode": {
    "name": "ipython",
    "version": 3
   },
   "file_extension": ".py",
   "mimetype": "text/x-python",
   "name": "python",
   "nbconvert_exporter": "python",
   "pygments_lexer": "ipython3",
   "version": "3.7.3"
  },
  "toc": {
   "base_numbering": 1,
   "nav_menu": {},
   "number_sections": true,
   "sideBar": true,
   "skip_h1_title": false,
   "title_cell": "Table of Contents",
   "title_sidebar": "Contents",
   "toc_cell": false,
   "toc_position": {},
   "toc_section_display": true,
   "toc_window_display": false
  }
 },
 "nbformat": 4,
 "nbformat_minor": 2
}
