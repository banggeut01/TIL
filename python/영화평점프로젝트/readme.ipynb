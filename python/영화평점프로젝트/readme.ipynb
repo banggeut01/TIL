{
 "cells": [
  {
   "cell_type": "markdown",
   "metadata": {},
   "source": [
    "# 주간/주말 박스오피스 데이터\n",
    "\n",
    "\n",
    "최근 50주간 데이터 중 주간 박스오피스 TOP10데이터 수집\n",
    "\n",
    "* 조건\n",
    "    1. 주간(월 ~ 일) `weekGb : “0” : 주간 (월~일)`\n",
    "    2. 조회기간 총 50주, 기준일 2019년 7월 13일 `targetDt`\n",
    "    3. 다양성 영화/상업 영화 모두 포함(default)\n",
    "    4. 한국/외국 영화 모두 포함(default)\n",
    "    5. 모든 상영지역 포함(default)\n",
    "\n",
    "\n",
    "* 결과\n",
    "    * `영화 대표코드 : movieCd`, `영화명 : movieNm`, `해당일 누적관객수 : audiAcc`\n",
    "    * 해당일 누적 관객수는 중복시 최신 정보로 반영 **(이미 있는 데이터라면 그냥 넘어가기)**\n",
    "    * 해당 결과 boxoffice.csv에 저장\n",
    "    \n",
    "    \n",
    "* [소스코드](./01.py)\n"
   ]
  },
  {
   "cell_type": "code",
   "execution_count": null,
   "metadata": {},
   "outputs": [],
   "source": []
  },
  {
   "cell_type": "code",
   "execution_count": null,
   "metadata": {},
   "outputs": [],
   "source": []
  },
  {
   "cell_type": "code",
   "execution_count": null,
   "metadata": {},
   "outputs": [],
   "source": []
  },
  {
   "cell_type": "code",
   "execution_count": null,
   "metadata": {},
   "outputs": [],
   "source": []
  },
  {
   "cell_type": "markdown",
   "metadata": {},
   "source": [
    "# 영화 상세정보\n",
    "\n",
    "\n",
    "01에서 수집한 영화 대표코드 활용해 상세 정보 수집.\n",
    "향후 영화 정보로 활용될 것.\n",
    "\n",
    "* 결과\n",
    "    * 저장할 내용\n",
    "        1.  `영화 대표코드` : movieCd\n",
    "        2. `영화명(국문)` : movieNm\n",
    "        3. `영화명(영문)` : movieNmEn\t\n",
    "        4. `영화명(원문)` : movieNmOg\n",
    "        5. `관람등급` : watchGradeNm\n",
    "        6. `개봉연도` : openDt\n",
    "        7. `상영시간` : showTm\n",
    "        8. `장르` : genreNm\n",
    "        9. `감독명` : peopleNm\n",
    "        \n",
    "\n",
    "    * 해당 결과 movie.csv에 저장\n",
    "    \n",
    "\n",
    "* [소스코드](./02.py)"
   ]
  },
  {
   "cell_type": "code",
   "execution_count": null,
   "metadata": {},
   "outputs": [],
   "source": []
  },
  {
   "cell_type": "code",
   "execution_count": null,
   "metadata": {},
   "outputs": [],
   "source": []
  },
  {
   "cell_type": "code",
   "execution_count": null,
   "metadata": {},
   "outputs": [],
   "source": []
  },
  {
   "cell_type": "code",
   "execution_count": null,
   "metadata": {},
   "outputs": [],
   "source": []
  },
  {
   "cell_type": "markdown",
   "metadata": {},
   "source": [
    "# 영화인 정보\n",
    "\n",
    "02에서 수집한 영화 감독정보를 활용해 상세 정보 수집.\n",
    "향후 감독 정보로 활용될 예정.\n",
    "\n",
    "\n",
    "* 요청 조건\n",
    "    * 요청 변수 : key(필수), `영화인명 : peopleNm`으로 조회\n",
    "    * peopleNm None 일수도\n",
    "    \n",
    "    \n",
    "    \n",
    "   \n",
    "* 결과\n",
    "    * 영화인별로 `영화인 코드 : peopleCd`, `영화인명 : peopleNm`, `분야 : repRoleNm`, `필모리스트 : filmoNames` 저장\n",
    "    * **director.csv에 저장**\n",
    "    (만약 검색 결과 없으면 저장하지 않기)\n",
    "    \n",
    "\n",
    "* [소스코드](./03.py)"
   ]
  },
  {
   "cell_type": "code",
   "execution_count": null,
   "metadata": {},
   "outputs": [],
   "source": []
  },
  {
   "cell_type": "code",
   "execution_count": null,
   "metadata": {},
   "outputs": [],
   "source": []
  },
  {
   "cell_type": "code",
   "execution_count": null,
   "metadata": {},
   "outputs": [],
   "source": []
  },
  {
   "cell_type": "code",
   "execution_count": null,
   "metadata": {},
   "outputs": [],
   "source": []
  }
 ],
 "metadata": {
  "kernelspec": {
   "display_name": "Python 3",
   "language": "python",
   "name": "python3"
  },
  "language_info": {
   "codemirror_mode": {
    "name": "ipython",
    "version": 3
   },
   "file_extension": ".py",
   "mimetype": "text/x-python",
   "name": "python",
   "nbconvert_exporter": "python",
   "pygments_lexer": "ipython3",
   "version": "3.7.3"
  },
  "toc": {
   "base_numbering": 1,
   "nav_menu": {},
   "number_sections": true,
   "sideBar": true,
   "skip_h1_title": false,
   "title_cell": "Table of Contents",
   "title_sidebar": "Contents",
   "toc_cell": false,
   "toc_position": {},
   "toc_section_display": true,
   "toc_window_display": false
  }
 },
 "nbformat": 4,
 "nbformat_minor": 2
}
